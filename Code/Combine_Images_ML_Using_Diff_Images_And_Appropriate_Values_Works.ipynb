{
  "nbformat": 4,
  "nbformat_minor": 0,
  "metadata": {
    "colab": {
      "provenance": [],
      "collapsed_sections": []
    },
    "kernelspec": {
      "name": "python3",
      "display_name": "Python 3"
    },
    "language_info": {
      "name": "python"
    }
  },
  "cells": [
    {
      "cell_type": "markdown",
      "source": [
        "For this instead of using The differebce images. Here the images used to make the difference images are combined and used in the model."
      ],
      "metadata": {
        "id": "WlVPZ94Zwltj"
      }
    },
    {
      "cell_type": "code",
      "source": [
        "!pip install pandas"
      ],
      "metadata": {
        "colab": {
          "base_uri": "https://localhost:8080/"
        },
        "id": "v-uyRNouCK0P",
        "outputId": "bb0138ac-9102-40c9-d943-9d817eca3167"
      },
      "execution_count": null,
      "outputs": [
        {
          "output_type": "stream",
          "name": "stdout",
          "text": [
            "Looking in indexes: https://pypi.org/simple, https://us-python.pkg.dev/colab-wheels/public/simple/\n",
            "Requirement already satisfied: pandas in /usr/local/lib/python3.7/dist-packages (1.3.5)\n",
            "Requirement already satisfied: pytz>=2017.3 in /usr/local/lib/python3.7/dist-packages (from pandas) (2022.4)\n",
            "Requirement already satisfied: python-dateutil>=2.7.3 in /usr/local/lib/python3.7/dist-packages (from pandas) (2.8.2)\n",
            "Requirement already satisfied: numpy>=1.17.3 in /usr/local/lib/python3.7/dist-packages (from pandas) (1.21.6)\n",
            "Requirement already satisfied: six>=1.5 in /usr/local/lib/python3.7/dist-packages (from python-dateutil>=2.7.3->pandas) (1.15.0)\n"
          ]
        }
      ]
    },
    {
      "cell_type": "code",
      "source": [
        "!pip install --upgrade xlrd"
      ],
      "metadata": {
        "colab": {
          "base_uri": "https://localhost:8080/"
        },
        "id": "ei5puUSXCXqg",
        "outputId": "79bac97d-fb23-406b-cd84-edc01302319b"
      },
      "execution_count": null,
      "outputs": [
        {
          "output_type": "stream",
          "name": "stdout",
          "text": [
            "Looking in indexes: https://pypi.org/simple, https://us-python.pkg.dev/colab-wheels/public/simple/\n",
            "Requirement already satisfied: xlrd in /usr/local/lib/python3.7/dist-packages (2.0.1)\n"
          ]
        }
      ]
    },
    {
      "cell_type": "code",
      "execution_count": null,
      "metadata": {
        "id": "yeTrJpWuhk1R"
      },
      "outputs": [],
      "source": [
        "# Used to work with arrays and matrix data structures\n",
        "import numpy as np\n",
        "# Data manipulation and analysis tool using data structures\n",
        "import pandas as pd\n",
        "# Used to evaluate machine learning performance, by splitting dataset\n",
        "from sklearn.model_selection import train_test_split\n",
        "# Training and inference of neural networks\n",
        "import tensorflow as tf\n",
        "# Measure of variance form dependent value to independent value\n",
        "from sklearn.metrics import r2_score\n",
        "# Data visualisation\n",
        "import seaborn as sns\n",
        "# Data visualisation\n",
        "import matplotlib.pyplot as plt\n",
        "# Using Linear Regression\n",
        "from sklearn.linear_model import LinearRegression\n",
        "import cv2\n",
        "from google.colab.patches import cv2_imshow\n",
        "from PIL import Image, ImageChops\n",
        "import glob\n",
        "import os\n",
        "import csv\n",
        "from pathlib import Path\n",
        "import math"
      ]
    },
    {
      "cell_type": "code",
      "source": [
        "# Reading in Split dataset\n",
        "sep_data = pd.read_csv('Data_Table_Complete_CSV_CLEAN.csv')\n",
        "# Printing contents of dataset\n",
        "print(sep_data)"
      ],
      "metadata": {
        "colab": {
          "base_uri": "https://localhost:8080/"
        },
        "id": "_Tdj-buYAV7O",
        "outputId": "18c3b785-73fc-40b5-b925-d1c7b3f355e8"
      },
      "execution_count": null,
      "outputs": [
        {
          "output_type": "stream",
          "name": "stdout",
          "text": [
            "    Scan_Height_mm  Scan_Height_Layers  mm_per_Layer_Height  Scan_Width_mm  \\\n",
            "0             24.8                  55             0.450909           21.7   \n",
            "1             26.3                  46             0.571739           18.5   \n",
            "2             25.4                  58             0.437931           20.4   \n",
            "3             25.3                  36             0.702778           21.6   \n",
            "4             27.8                  46             0.604348           21.9   \n",
            "5             30.0                  46             0.652174           22.7   \n",
            "6             23.6                  41             0.575610           20.8   \n",
            "7             27.1                  60             0.451667           20.8   \n",
            "8             26.0                  45             0.577778           21.6   \n",
            "9             23.9                  48             0.497917           19.8   \n",
            "10            26.0                  20             1.300000           22.2   \n",
            "11            27.2                  27             1.007407           20.8   \n",
            "12            24.1                  28             0.860714           23.9   \n",
            "\n",
            "    Scan_Width_Layers  mm_per_Layer_Width  Scan_Depth_mm  Scan_Depth_Layers  \\\n",
            "0                 395            0.054937           20.1                382   \n",
            "1                 422            0.043839           19.0                379   \n",
            "2                 409            0.049878           20.0                400   \n",
            "3                 430            0.050233           18.4                362   \n",
            "4                 365            0.060000           21.6                372   \n",
            "5                 334            0.067964           21.4                301   \n",
            "6                 316            0.065823           19.1                298   \n",
            "7                 314            0.066242           20.1                323   \n",
            "8                 342            0.063158           19.3                291   \n",
            "9                 320            0.061875           18.6                287   \n",
            "10                338            0.065680           20.4                304   \n",
            "11                324            0.064198           19.4                301   \n",
            "12                356            0.067135           22.2                343   \n",
            "\n",
            "    mm_per_Layer_Depth  \n",
            "0             0.052618  \n",
            "1             0.050132  \n",
            "2             0.050000  \n",
            "3             0.050829  \n",
            "4             0.058065  \n",
            "5             0.071096  \n",
            "6             0.064094  \n",
            "7             0.062229  \n",
            "8             0.066323  \n",
            "9             0.064808  \n",
            "10            0.067105  \n",
            "11            0.064452  \n",
            "12            0.064723  \n"
          ]
        }
      ]
    },
    {
      "cell_type": "code",
      "source": [
        "# read by default 1st sheet of an excel file\n",
        "dataframe1 = pd.read_excel('Error_Per_Diff_Image_Updated.xls')\n",
        " \n",
        "print(dataframe1)"
      ],
      "metadata": {
        "colab": {
          "base_uri": "https://localhost:8080/"
        },
        "id": "KPCa7ZwPA3sx",
        "outputId": "85ce8514-670e-483e-ae09-5c57ab9be1ba"
      },
      "execution_count": null,
      "outputs": [
        {
          "output_type": "stream",
          "name": "stdout",
          "text": [
            "    ERR1  ERR2  ERR3  ERR4  ERR5  ERR6  ERR7  ERR8  ERR9  ERR10  ERR11  ERR12  \\\n",
            "0    0.0   0.0   0.0   0.0   0.0   0.0   0.0   0.0   0.0    0.0    0.0    0.0   \n",
            "1    0.0   0.0   0.0   0.0   0.0   0.0   0.0   0.0   0.0    0.0    0.0    0.0   \n",
            "2    0.0   0.0   0.0   0.0   0.0   0.0   0.0   0.0   0.0    0.0    0.0    0.0   \n",
            "3    0.0   0.0   0.0   0.0   0.0   0.0   0.0   0.0   0.0    0.0    0.0    0.0   \n",
            "4    0.0   0.0   0.0   0.0   0.0   0.0   0.0   0.0   0.0    0.0    0.0    0.0   \n",
            "..   ...   ...   ...   ...   ...   ...   ...   ...   ...    ...    ...    ...   \n",
            "89   NaN   NaN   0.0   NaN   NaN   NaN   NaN   0.0   NaN    NaN    NaN    NaN   \n",
            "90   NaN   NaN   0.0   NaN   NaN   NaN   NaN   0.0   NaN    NaN    NaN    NaN   \n",
            "91   NaN   NaN   0.0   NaN   NaN   NaN   NaN   0.0   NaN    NaN    NaN    NaN   \n",
            "92   NaN   NaN   0.0   NaN   NaN   NaN   NaN   0.0   NaN    NaN    NaN    NaN   \n",
            "93   NaN   NaN   NaN   NaN   NaN   NaN   NaN   0.0   NaN    NaN    NaN    NaN   \n",
            "\n",
            "    ERR13  \n",
            "0     0.0  \n",
            "1     0.0  \n",
            "2     0.0  \n",
            "3     0.0  \n",
            "4     0.0  \n",
            "..    ...  \n",
            "89    0.0  \n",
            "90    NaN  \n",
            "91    NaN  \n",
            "92    NaN  \n",
            "93    NaN  \n",
            "\n",
            "[94 rows x 13 columns]\n"
          ]
        }
      ]
    },
    {
      "cell_type": "code",
      "source": [
        "# read by default 1st sheet of an excel file\n",
        "dataframe2 = pd.read_excel('Percentage_Of_Total_Error_Diff_Image_Updated .xls')\n",
        "\n",
        "print(dataframe2)"
      ],
      "metadata": {
        "colab": {
          "base_uri": "https://localhost:8080/"
        },
        "id": "UrdUKr1xCnGE",
        "outputId": "de3fe422-0ef8-412b-82fb-7d9a6346d5a6"
      },
      "execution_count": null,
      "outputs": [
        {
          "output_type": "stream",
          "name": "stdout",
          "text": [
            "    PER1  PER2  PER3  PER4  PER5  PER6  PER7  PER8  PER9  PER10  PER11  PER12  \\\n",
            "0    0.0   0.0   0.0   0.0   0.0   0.0   0.0   0.0   0.0    0.0    0.0    0.0   \n",
            "1    0.0   0.0   0.0   0.0   0.0   0.0   0.0   0.0   0.0    0.0    0.0    0.0   \n",
            "2    0.0   0.0   0.0   0.0   0.0   0.0   0.0   0.0   0.0    0.0    0.0    0.0   \n",
            "3    0.0   0.0   0.0   0.0   0.0   0.0   0.0   0.0   0.0    0.0    0.0    0.0   \n",
            "4    0.0   0.0   0.0   0.0   0.0   0.0   0.0   0.0   0.0    0.0    0.0    0.0   \n",
            "..   ...   ...   ...   ...   ...   ...   ...   ...   ...    ...    ...    ...   \n",
            "89   NaN   NaN   0.0   NaN   NaN   NaN   NaN   0.0   NaN    NaN    NaN    NaN   \n",
            "90   NaN   NaN   0.0   NaN   NaN   NaN   NaN   0.0   NaN    NaN    NaN    NaN   \n",
            "91   NaN   NaN   0.0   NaN   NaN   NaN   NaN   0.0   NaN    NaN    NaN    NaN   \n",
            "92   NaN   NaN   0.0   NaN   NaN   NaN   NaN   0.0   NaN    NaN    NaN    NaN   \n",
            "93   NaN   NaN   NaN   NaN   NaN   NaN   NaN   0.0   NaN    NaN    NaN    NaN   \n",
            "\n",
            "    PER13  \n",
            "0     0.0  \n",
            "1     0.0  \n",
            "2     0.0  \n",
            "3     0.0  \n",
            "4     0.0  \n",
            "..    ...  \n",
            "89    0.0  \n",
            "90    NaN  \n",
            "91    NaN  \n",
            "92    NaN  \n",
            "93    NaN  \n",
            "\n",
            "[94 rows x 13 columns]\n"
          ]
        }
      ]
    },
    {
      "cell_type": "code",
      "source": [
        "# read by default 1st sheet of an excel file\n",
        "#dataframe3 = pd.read_excel('Var_mm_per_Layer.xls')\n",
        " \n",
        "#print(dataframe3)"
      ],
      "metadata": {
        "id": "XWbjmC1N5BWX"
      },
      "execution_count": null,
      "outputs": []
    },
    {
      "cell_type": "code",
      "source": [
        "print(sep_data['Scan_Height_mm'][0])"
      ],
      "metadata": {
        "colab": {
          "base_uri": "https://localhost:8080/"
        },
        "id": "c5K8d3VSwHzI",
        "outputId": "662cd5ce-51df-41ad-df93-fa3157358369"
      },
      "execution_count": null,
      "outputs": [
        {
          "output_type": "stream",
          "name": "stdout",
          "text": [
            "24.8\n"
          ]
        }
      ]
    },
    {
      "cell_type": "code",
      "source": [
        "for i in range(88):\n",
        "  print(dataframe2['PER1'][i])"
      ],
      "metadata": {
        "colab": {
          "base_uri": "https://localhost:8080/"
        },
        "id": "fyy023EKfBl0",
        "outputId": "e223ebbe-7963-4a95-9efb-40f2750e031c"
      },
      "execution_count": null,
      "outputs": [
        {
          "output_type": "stream",
          "name": "stdout",
          "text": [
            "0.0\n",
            "0.0\n",
            "0.0\n",
            "0.0\n",
            "0.0\n",
            "0.0\n",
            "0.0\n",
            "0.0\n",
            "0.0\n",
            "0.0\n",
            "0.0\n",
            "0.0\n",
            "0.0\n",
            "0.0\n",
            "0.0\n",
            "0.0\n",
            "0.0\n",
            "0.0\n",
            "0.011430796532531278\n",
            "0.016161412526863386\n",
            "0.018575703987474542\n",
            "0.019844623142161278\n",
            "0.01718210507373278\n",
            "0.01943585122049618\n",
            "0.01992699764581241\n",
            "0.01751279562548752\n",
            "0.019272712138346706\n",
            "0.01963169563399031\n",
            "0.022813205870192567\n",
            "0.021103405731071185\n",
            "0.018815582835240378\n",
            "0.019854223066220512\n",
            "0.01886352282867904\n",
            "0.02126392123149018\n",
            "0.020272237150799777\n",
            "0.018900312599763183\n",
            "0.0199969697631013\n",
            "0.018927204312500542\n",
            "0.0209075315041483\n",
            "0.022181161180578383\n",
            "0.022147382565798533\n",
            "0.021241501533066132\n",
            "0.019325004892383656\n",
            "0.018933375692252907\n",
            "0.018397747631233644\n",
            "0.01949040979511854\n",
            "0.020616462999209464\n",
            "0.019311320528584933\n",
            "0.019889045151006805\n",
            "0.018708612252866054\n",
            "0.01834575301148425\n",
            "0.018984177774852083\n",
            "0.02054252569589611\n",
            "0.021619535809684426\n",
            "0.021185690794436052\n",
            "0.02007171202899105\n",
            "0.018548216006162077\n",
            "0.01961398645730961\n",
            "0.021489698327454718\n",
            "0.01950749288979537\n",
            "0.01831713211987908\n",
            "0.014888468559294675\n",
            "0.017219252605961993\n",
            "0.015961901061632346\n",
            "0.014681622990589808\n",
            "0.014205562160223804\n",
            "0.012278481752333167\n",
            "0.013953579060383282\n",
            "0.012149210725249814\n",
            "0.011352804602907189\n",
            "0.011845531139947452\n",
            "0.010561764897740534\n",
            "0.007629226605074506\n",
            "0.004111838280514074\n",
            "0.0\n",
            "0.0\n",
            "0.0\n",
            "0.0\n",
            "0.0\n",
            "0.0\n",
            "0.0\n",
            "0.0\n",
            "0.0\n",
            "0.0\n",
            "0.0\n",
            "0.0\n",
            "0.0\n",
            "nan\n"
          ]
        }
      ]
    },
    {
      "cell_type": "code",
      "source": [
        "print(dataframe2['PER1'][86])"
      ],
      "metadata": {
        "colab": {
          "base_uri": "https://localhost:8080/"
        },
        "id": "0PqmhKSZSger",
        "outputId": "84418dc6-8a14-4368-8a4a-f94677aa2b6b"
      },
      "execution_count": null,
      "outputs": [
        {
          "output_type": "stream",
          "name": "stdout",
          "text": [
            "0.0\n"
          ]
        }
      ]
    },
    {
      "cell_type": "code",
      "source": [
        "imagelist= []"
      ],
      "metadata": {
        "id": "UfOA0SuYWicB"
      },
      "execution_count": null,
      "outputs": []
    },
    {
      "cell_type": "code",
      "source": [
        "image_dir = Path(f'/content/drive/MyDrive/Seg_All')"
      ],
      "metadata": {
        "id": "PXXf30JZ3byt"
      },
      "execution_count": null,
      "outputs": []
    },
    {
      "cell_type": "code",
      "source": [
        "filepaths = pd.Series(list(image_dir.glob(r'**/*.jpg')), name='Filepath').astype(str)\n",
        "\n",
        "images = pd.concat([filepaths], axis=1).sample(frac=1.0, random_state=1).reset_index(drop=True)"
      ],
      "metadata": {
        "id": "UELR0-mC3ZsD"
      },
      "execution_count": null,
      "outputs": []
    },
    {
      "cell_type": "code",
      "source": [
        "print(filepaths[300:400])"
      ],
      "metadata": {
        "colab": {
          "base_uri": "https://localhost:8080/"
        },
        "id": "oTzBr1V992qQ",
        "outputId": "48932e41-5c6f-4ac0-d687-33b35a0c157b"
      },
      "execution_count": null,
      "outputs": [
        {
          "output_type": "stream",
          "name": "stdout",
          "text": [
            "300    /content/drive/MyDrive/Seg_All/Seg11/image.002...\n",
            "301    /content/drive/MyDrive/Seg_All/Seg11/image.002...\n",
            "302    /content/drive/MyDrive/Seg_All/Seg11/image.002...\n",
            "303    /content/drive/MyDrive/Seg_All/Seg11/image.002...\n",
            "304    /content/drive/MyDrive/Seg_All/Seg11/image.003...\n",
            "                             ...                        \n",
            "395    /content/drive/MyDrive/Seg_All/Seg9/image.0068...\n",
            "396    /content/drive/MyDrive/Seg_All/Seg9/image.0067...\n",
            "397    /content/drive/MyDrive/Seg_All/Seg9/image.0075...\n",
            "398    /content/drive/MyDrive/Seg_All/Seg9/image.0071...\n",
            "399    /content/drive/MyDrive/Seg_All/Seg9/image.0077...\n",
            "Name: Filepath, Length: 100, dtype: object\n"
          ]
        }
      ]
    },
    {
      "cell_type": "code",
      "source": [
        "print(images)"
      ],
      "metadata": {
        "colab": {
          "base_uri": "https://localhost:8080/"
        },
        "id": "ZobI15Ae3yAZ",
        "outputId": "fa8aa43f-e9c4-4a75-9e16-85e8acd0cc98"
      },
      "execution_count": null,
      "outputs": [
        {
          "output_type": "stream",
          "name": "stdout",
          "text": [
            "                                               Filepath\n",
            "0     /content/drive/MyDrive/Seg_All/Seg5/image.0005...\n",
            "1     /content/drive/MyDrive/Seg_All/Seg11/image.003...\n",
            "2     /content/drive/MyDrive/Seg_All/Seg10/image.007...\n",
            "3     /content/drive/MyDrive/Seg_All/Seg13/image.004...\n",
            "4     /content/drive/MyDrive/Seg_All/Seg10/image.008...\n",
            "...                                                 ...\n",
            "1044  /content/drive/MyDrive/Seg_All/Seg10/image.005...\n",
            "1045  /content/drive/MyDrive/Seg_All/Seg7/image.0019...\n",
            "1046  /content/drive/MyDrive/Seg_All/Seg4/image.0052...\n",
            "1047  /content/drive/MyDrive/Seg_All/Seg10/image.000...\n",
            "1048  /content/drive/MyDrive/Seg_All/Seg3/image.0051...\n",
            "\n",
            "[1049 rows x 1 columns]\n"
          ]
        }
      ]
    },
    {
      "cell_type": "code",
      "source": [
        "img1 = cv2.imread(f'/content/drive/MyDrive/1.5_echo_cube/image.0040.jpg')\n",
        "plt.imshow(img1)\n",
        "img1 = cv2.resize(img1,(1442, 450))"
      ],
      "metadata": {
        "colab": {
          "base_uri": "https://localhost:8080/",
          "height": 261
        },
        "id": "-gunrqqChz6O",
        "outputId": "aa9ce57a-a3d0-4e0e-8c2d-d54d82c9eadb"
      },
      "execution_count": null,
      "outputs": [
        {
          "output_type": "display_data",
          "data": {
            "text/plain": [
              "<Figure size 432x288 with 1 Axes>"
            ],
            "image/png": "[encoded data removed]"
          },
          "metadata": {
            "needs_background": "light"
          }
        }
      ]
    },
    {
      "cell_type": "code",
      "source": [
        "plt.imshow(img1)"
      ],
      "metadata": {
        "colab": {
          "base_uri": "https://localhost:8080/",
          "height": 173
        },
        "id": "gvCxgkX3h9jE",
        "outputId": "0d856780-0765-46cd-e882-c5e490c0f9c3"
      },
      "execution_count": null,
      "outputs": [
        {
          "output_type": "execute_result",
          "data": {
            "text/plain": [
              "<matplotlib.image.AxesImage at 0x7f4ff2c17f90>"
            ]
          },
          "metadata": {},
          "execution_count": 38
        },
        {
          "output_type": "display_data",
          "data": {
            "text/plain": [
              "<Figure size 432x288 with 1 Axes>"
            ],
            "image/png": "[encoded data removed]"
          },
          "metadata": {
            "needs_background": "light"
          }
        }
      ]
    },
    {
      "cell_type": "code",
      "source": [
        "img2 = cv2.imread(f'/content/drive/MyDrive/1.5_echo_cube/image.0041.jpg')\n",
        "plt.imshow(img2)\n",
        "img2 = cv2.resize(img2,(1442, 450))"
      ],
      "metadata": {
        "colab": {
          "base_uri": "https://localhost:8080/",
          "height": 261
        },
        "id": "Rebmp2x_iFsJ",
        "outputId": "81626895-d9d3-42a6-92f8-984dc2e20a22"
      },
      "execution_count": null,
      "outputs": [
        {
          "output_type": "display_data",
          "data": {
            "text/plain": [
              "<Figure size 432x288 with 1 Axes>"
            ],
            "image/png": "[encoded data removed]"
          },
          "metadata": {
            "needs_background": "light"
          }
        }
      ]
    },
    {
      "cell_type": "code",
      "source": [
        "plt.imshow(img2)"
      ],
      "metadata": {
        "colab": {
          "base_uri": "https://localhost:8080/",
          "height": 173
        },
        "id": "PKijkSfFiL5w",
        "outputId": "79e36639-8ee9-4aa3-b66a-a6eeeefb986a"
      },
      "execution_count": null,
      "outputs": [
        {
          "output_type": "execute_result",
          "data": {
            "text/plain": [
              "<matplotlib.image.AxesImage at 0x7f4ff363fd50>"
            ]
          },
          "metadata": {},
          "execution_count": 40
        },
        {
          "output_type": "display_data",
          "data": {
            "text/plain": [
              "<Figure size 432x288 with 1 Axes>"
            ],
            "image/png": "[encoded data removed]"
          },
          "metadata": {
            "needs_background": "light"
          }
        }
      ]
    },
    {
      "cell_type": "code",
      "source": [
        "outputImage= np.zeros((900, 1442, 3), dtype=\"uint8\")"
      ],
      "metadata": {
        "id": "SYduxBjKiZsY"
      },
      "execution_count": null,
      "outputs": []
    },
    {
      "cell_type": "code",
      "source": [
        "outputImage[0:450, 0:1442] = img1\n",
        "        #plt.imshow(img1)\n",
        "outputImage[450:900, 0:1442] = img2"
      ],
      "metadata": {
        "id": "SnIjghbviVfM"
      },
      "execution_count": null,
      "outputs": []
    },
    {
      "cell_type": "code",
      "source": [
        "images = []\n",
        "images.append(outputImage)"
      ],
      "metadata": {
        "id": "apEn7UKmiDxU"
      },
      "execution_count": null,
      "outputs": []
    },
    {
      "cell_type": "code",
      "source": [
        "plt.imshow(images[0])"
      ],
      "metadata": {
        "colab": {
          "base_uri": "https://localhost:8080/",
          "height": 278
        },
        "id": "897C3u2RixZE",
        "outputId": "10c82c99-ae92-4b32-f725-3e739d40c69c"
      },
      "execution_count": null,
      "outputs": [
        {
          "output_type": "execute_result",
          "data": {
            "text/plain": [
              "<matplotlib.image.AxesImage at 0x7f4ff26a0ed0>"
            ]
          },
          "metadata": {},
          "execution_count": 44
        },
        {
          "output_type": "display_data",
          "data": {
            "text/plain": [
              "<Figure size 432x288 with 1 Axes>"
            ],
            "image/png": "[encoded data removed]"
          },
          "metadata": {
            "needs_background": "light"
          }
        }
      ]
    },
    {
      "cell_type": "code",
      "source": [
        "inputImages = []\n",
        "\n",
        "outputImage = np.zeros((900, 1442, 3), dtype=\"uint8\")\n",
        "\n",
        "images= []\n",
        "\n",
        "for i in range(1,87):\n",
        "  if i < 10:\n",
        "        print(i-1)\n",
        "        print(i)\n",
        "        print('-')\n",
        "        img1 = cv2.imread(f'/content/drive/MyDrive/1.5_echo_cube/image.000{i}.jpg')\n",
        "        img1 = cv2.resize(img1,(1442, 450))\n",
        "        inputImages.append(img1)\n",
        "    \n",
        "  else:\n",
        "        img1 = cv2.imread(f'/content/drive/MyDrive/1.5_echo_cube/image.00{i}.jpg')\n",
        "        img1 = cv2.resize(img1,(1442, 450))\n",
        "        inputImages.append(img1)"
      ],
      "metadata": {
        "colab": {
          "base_uri": "https://localhost:8080/"
        },
        "id": "hSZxGrep-euV",
        "outputId": "ae35f399-3f30-4bde-a6fc-d5748e3339ab"
      },
      "execution_count": null,
      "outputs": [
        {
          "output_type": "stream",
          "name": "stdout",
          "text": [
            "0\n",
            "1\n",
            "-\n",
            "1\n",
            "2\n",
            "-\n",
            "2\n",
            "3\n",
            "-\n",
            "3\n",
            "4\n",
            "-\n",
            "4\n",
            "5\n",
            "-\n",
            "5\n",
            "6\n",
            "-\n",
            "6\n",
            "7\n",
            "-\n",
            "7\n",
            "8\n",
            "-\n",
            "8\n",
            "9\n",
            "-\n"
          ]
        }
      ]
    },
    {
      "cell_type": "code",
      "source": [
        "for i in range(len(inputImages)-1):\n",
        "  outputImage = np.zeros((900, 1442, 3), dtype=\"uint8\")\n",
        "  outputImage[0:450, 0:1442] = inputImages[i]\n",
        "  outputImage[450:900, 0:1442] = inputImages[i+1]\n",
        "  images.append(outputImage)"
      ],
      "metadata": {
        "id": "_rfvIGJeyd77"
      },
      "execution_count": null,
      "outputs": []
    },
    {
      "cell_type": "code",
      "source": [
        "for l in range(1,14):\n",
        "  print(l)\n",
        "  count = 0\n",
        "  inputImages = []\n",
        "  images = []\n",
        "  # Iterate directory\n",
        "  for path in os.listdir(f'/content/drive/MyDrive/Seg_All/Seg{l}'):\n",
        "      # check if current path is a file\n",
        "      #print(path)\n",
        "      if os.path.isfile(os.path.join(f'/content/drive/MyDrive/Seg_All/Seg{l}', path)):\n",
        "          count += 1\n",
        "  print(count)\n",
        "\n",
        "  for i in range(1,count+1):\n",
        "    if i < 10:\n",
        "        #print(i-1)\n",
        "        #print(i)\n",
        "        #print('-')\n",
        "        img1 = cv2.imread(f'/content/drive/MyDrive/Seg_All/Seg{l}/image.000{i}.jpg')\n",
        "        img1 = cv2.resize(img1,(1442, 450))\n",
        "        inputImages.append(img1)\n",
        "    \n",
        "    else:\n",
        "        img1 = cv2.imread(f'/content/drive/MyDrive/Seg_All/Seg{l}/image.00{i}.jpg')\n",
        "        img1 = cv2.resize(img1,(1442, 450))\n",
        "        inputImages.append(img1)\n",
        "\n",
        "  for i in range(len(inputImages)-1):\n",
        "    outputImage = np.zeros((900, 1442, 3), dtype=\"uint8\")\n",
        "    outputImage[0:450, 0:1442] = inputImages[i]\n",
        "    outputImage[450:900, 0:1442] = inputImages[i+1]\n",
        "    cv2.imwrite(f'/content/drive/My Drive/Combine_All/Combine{l}/{i+1}.png' , outputImage)\n",
        "    #images.append(outputImage)\n",
        "  # Save Image\n",
        "  #cv2.imwrite(f'/content/drive/My Drive/Combine_All/Combine{l}/{i}.png' , images)\n"
      ],
      "metadata": {
        "colab": {
          "base_uri": "https://localhost:8080/"
        },
        "id": "sxStTmw-xYB8",
        "outputId": "e5ea414e-ffa7-478d-8d3c-52f3db8e62fd"
      },
      "execution_count": null,
      "outputs": [
        {
          "output_type": "stream",
          "name": "stdout",
          "text": [
            "1\n",
            "88\n",
            "2\n",
            "82\n",
            "3\n",
            "94\n",
            "4\n",
            "84\n",
            "5\n",
            "78\n",
            "6\n",
            "78\n",
            "7\n",
            "80\n",
            "8\n",
            "95\n",
            "9\n",
            "79\n",
            "10\n",
            "88\n",
            "11\n",
            "50\n",
            "12\n",
            "62\n",
            "13\n",
            "91\n"
          ]
        }
      ]
    },
    {
      "cell_type": "code",
      "source": [
        "data1 = []\n",
        "for l in range(1,14):\n",
        "  count = 0\n",
        "  #print(l)\n",
        "  # Iterate directory\n",
        "  for path in os.listdir(f'/content/drive/MyDrive/Combine_All/Combine{l}'):\n",
        "      # check if current path is a file\n",
        "      #print(path)\n",
        "      if os.path.isfile(os.path.join(f'/content/drive/MyDrive/Combine_All/Combine{l}', path)):\n",
        "          count += 1\n",
        "  #print(count)\n",
        "\n",
        "  for i in range(1,count+1): \n",
        "      for image1 in glob.glob(f'/content/drive/MyDrive/Combine_All/Combine{l}/{i}.png'):      \n",
        "          data1.append(image1)"
      ],
      "metadata": {
        "id": "n5jRYJEG3_KO"
      },
      "execution_count": null,
      "outputs": []
    },
    {
      "cell_type": "code",
      "source": [
        "print(len(data1))"
      ],
      "metadata": {
        "colab": {
          "base_uri": "https://localhost:8080/"
        },
        "id": "rQwFbDs54jYb",
        "outputId": "ae88128d-cb97-4f64-cd3c-4b60bf1ab6c5"
      },
      "execution_count": null,
      "outputs": [
        {
          "output_type": "stream",
          "name": "stdout",
          "text": [
            "1036\n"
          ]
        }
      ]
    },
    {
      "cell_type": "code",
      "source": [
        "print(len(inputImages))"
      ],
      "metadata": {
        "colab": {
          "base_uri": "https://localhost:8080/"
        },
        "id": "G45y97nwqAnL",
        "outputId": "1a6e6ad5-788c-4dc5-e0b1-23207b0cebd5"
      },
      "execution_count": null,
      "outputs": [
        {
          "output_type": "stream",
          "name": "stdout",
          "text": [
            "91\n"
          ]
        }
      ]
    },
    {
      "cell_type": "code",
      "source": [
        "print(len(images))"
      ],
      "metadata": {
        "colab": {
          "base_uri": "https://localhost:8080/"
        },
        "id": "Uu_ss-PwpFjX",
        "outputId": "847e092a-5f9a-4f76-9096-f050fdcc4cb8"
      },
      "execution_count": null,
      "outputs": [
        {
          "output_type": "stream",
          "name": "stdout",
          "text": [
            "0\n"
          ]
        }
      ]
    },
    {
      "cell_type": "code",
      "source": [
        "plt.imshow(inputImages[34])"
      ],
      "metadata": {
        "colab": {
          "base_uri": "https://localhost:8080/",
          "height": 173
        },
        "id": "xy9jd-YirZFO",
        "outputId": "c6e7333b-edb0-4ccc-b776-fe8b1aaca665"
      },
      "execution_count": null,
      "outputs": [
        {
          "output_type": "execute_result",
          "data": {
            "text/plain": [
              "<matplotlib.image.AxesImage at 0x7f4ff25d3c90>"
            ]
          },
          "metadata": {},
          "execution_count": 52
        },
        {
          "output_type": "display_data",
          "data": {
            "text/plain": [
              "<Figure size 432x288 with 1 Axes>"
            ],
            "image/png": "[encoded data removed]"
          },
          "metadata": {
            "needs_background": "light"
          }
        }
      ]
    },
    {
      "cell_type": "code",
      "source": [
        "plt.imshow(images[68])"
      ],
      "metadata": {
        "colab": {
          "base_uri": "https://localhost:8080/",
          "height": 165
        },
        "id": "ro_s0qpbfn0h",
        "outputId": "d4d7a262-e8a4-4b4d-d83d-c4eb6ae9fc72"
      },
      "execution_count": null,
      "outputs": [
        {
          "output_type": "error",
          "ename": "IndexError",
          "evalue": "ignored",
          "traceback": [
            "\u001b[0;31m---------------------------------------------------------------------------\u001b[0m",
            "\u001b[0;31mIndexError\u001b[0m                                Traceback (most recent call last)",
            "\u001b[0;32m<ipython-input-53-7fa88febb198>\u001b[0m in \u001b[0;36m<module>\u001b[0;34m\u001b[0m\n\u001b[0;32m----> 1\u001b[0;31m \u001b[0mplt\u001b[0m\u001b[0;34m.\u001b[0m\u001b[0mimshow\u001b[0m\u001b[0;34m(\u001b[0m\u001b[0mimages\u001b[0m\u001b[0;34m[\u001b[0m\u001b[0;36m68\u001b[0m\u001b[0;34m]\u001b[0m\u001b[0;34m)\u001b[0m\u001b[0;34m\u001b[0m\u001b[0;34m\u001b[0m\u001b[0m\n\u001b[0m",
            "\u001b[0;31mIndexError\u001b[0m: list index out of range"
          ]
        }
      ]
    },
    {
      "cell_type": "code",
      "source": [
        "data4 = []\n",
        "\n",
        "for (columnName, columnData) in dataframe3.iteritems():\n",
        "  print('Column Name : ', columnName)\n",
        "  for i in range(94):\n",
        "    #if columnData[i]== 'Nan':\n",
        "    if math.isnan(columnData[i])==True:\n",
        "       break\n",
        "    else:\n",
        "      #print(i)\n",
        "      data4.append(columnData[i])"
      ],
      "metadata": {
        "id": "3pvNoAKY45nd"
      },
      "execution_count": null,
      "outputs": []
    },
    {
      "cell_type": "code",
      "source": [
        "data3 = []\n",
        "\n",
        "for (columnName, columnData) in dataframe2.iteritems():\n",
        "  print('Column Name : ', columnName)\n",
        "  for i in range(94):\n",
        "    #if columnData[i]== 'Nan':\n",
        "    if math.isnan(columnData[i])==True:\n",
        "       break\n",
        "    else:\n",
        "      print(i)\n",
        "      data3.append(columnData[i])"
      ],
      "metadata": {
        "colab": {
          "base_uri": "https://localhost:8080/"
        },
        "id": "D83BhayfVBGU",
        "outputId": "97d9f5fe-0999-4460-99ce-163e580fd5bc"
      },
      "execution_count": null,
      "outputs": [
        {
          "output_type": "stream",
          "name": "stdout",
          "text": [
            "Column Name :  PER1\n",
            "0\n",
            "1\n",
            "2\n",
            "3\n",
            "4\n",
            "5\n",
            "6\n",
            "7\n",
            "8\n",
            "9\n",
            "10\n",
            "11\n",
            "12\n",
            "13\n",
            "14\n",
            "15\n",
            "16\n",
            "17\n",
            "18\n",
            "19\n",
            "20\n",
            "21\n",
            "22\n",
            "23\n",
            "24\n",
            "25\n",
            "26\n",
            "27\n",
            "28\n",
            "29\n",
            "30\n",
            "31\n",
            "32\n",
            "33\n",
            "34\n",
            "35\n",
            "36\n",
            "37\n",
            "38\n",
            "39\n",
            "40\n",
            "41\n",
            "42\n",
            "43\n",
            "44\n",
            "45\n",
            "46\n",
            "47\n",
            "48\n",
            "49\n",
            "50\n",
            "51\n",
            "52\n",
            "53\n",
            "54\n",
            "55\n",
            "56\n",
            "57\n",
            "58\n",
            "59\n",
            "60\n",
            "61\n",
            "62\n",
            "63\n",
            "64\n",
            "65\n",
            "66\n",
            "67\n",
            "68\n",
            "69\n",
            "70\n",
            "71\n",
            "72\n",
            "73\n",
            "74\n",
            "75\n",
            "76\n",
            "77\n",
            "78\n",
            "79\n",
            "80\n",
            "81\n",
            "82\n",
            "83\n",
            "84\n",
            "85\n",
            "86\n",
            "Column Name :  PER2\n",
            "0\n",
            "1\n",
            "2\n",
            "3\n",
            "4\n",
            "5\n",
            "6\n",
            "7\n",
            "8\n",
            "9\n",
            "10\n",
            "11\n",
            "12\n",
            "13\n",
            "14\n",
            "15\n",
            "16\n",
            "17\n",
            "18\n",
            "19\n",
            "20\n",
            "21\n",
            "22\n",
            "23\n",
            "24\n",
            "25\n",
            "26\n",
            "27\n",
            "28\n",
            "29\n",
            "30\n",
            "31\n",
            "32\n",
            "33\n",
            "34\n",
            "35\n",
            "36\n",
            "37\n",
            "38\n",
            "39\n",
            "40\n",
            "41\n",
            "42\n",
            "43\n",
            "44\n",
            "45\n",
            "46\n",
            "47\n",
            "48\n",
            "49\n",
            "50\n",
            "51\n",
            "52\n",
            "53\n",
            "54\n",
            "55\n",
            "56\n",
            "57\n",
            "58\n",
            "59\n",
            "60\n",
            "61\n",
            "62\n",
            "63\n",
            "64\n",
            "65\n",
            "66\n",
            "67\n",
            "68\n",
            "69\n",
            "70\n",
            "71\n",
            "72\n",
            "73\n",
            "74\n",
            "75\n",
            "76\n",
            "77\n",
            "78\n",
            "79\n",
            "80\n",
            "Column Name :  PER3\n",
            "0\n",
            "1\n",
            "2\n",
            "3\n",
            "4\n",
            "5\n",
            "6\n",
            "7\n",
            "8\n",
            "9\n",
            "10\n",
            "11\n",
            "12\n",
            "13\n",
            "14\n",
            "15\n",
            "16\n",
            "17\n",
            "18\n",
            "19\n",
            "20\n",
            "21\n",
            "22\n",
            "23\n",
            "24\n",
            "25\n",
            "26\n",
            "27\n",
            "28\n",
            "29\n",
            "30\n",
            "31\n",
            "32\n",
            "33\n",
            "34\n",
            "35\n",
            "36\n",
            "37\n",
            "38\n",
            "39\n",
            "40\n",
            "41\n",
            "42\n",
            "43\n",
            "44\n",
            "45\n",
            "46\n",
            "47\n",
            "48\n",
            "49\n",
            "50\n",
            "51\n",
            "52\n",
            "53\n",
            "54\n",
            "55\n",
            "56\n",
            "57\n",
            "58\n",
            "59\n",
            "60\n",
            "61\n",
            "62\n",
            "63\n",
            "64\n",
            "65\n",
            "66\n",
            "67\n",
            "68\n",
            "69\n",
            "70\n",
            "71\n",
            "72\n",
            "73\n",
            "74\n",
            "75\n",
            "76\n",
            "77\n",
            "78\n",
            "79\n",
            "80\n",
            "81\n",
            "82\n",
            "83\n",
            "84\n",
            "85\n",
            "86\n",
            "87\n",
            "88\n",
            "89\n",
            "90\n",
            "91\n",
            "92\n",
            "Column Name :  PER4\n",
            "0\n",
            "1\n",
            "2\n",
            "3\n",
            "4\n",
            "5\n",
            "6\n",
            "7\n",
            "8\n",
            "9\n",
            "10\n",
            "11\n",
            "12\n",
            "13\n",
            "14\n",
            "15\n",
            "16\n",
            "17\n",
            "18\n",
            "19\n",
            "20\n",
            "21\n",
            "22\n",
            "23\n",
            "24\n",
            "25\n",
            "26\n",
            "27\n",
            "28\n",
            "29\n",
            "30\n",
            "31\n",
            "32\n",
            "33\n",
            "34\n",
            "35\n",
            "36\n",
            "37\n",
            "38\n",
            "39\n",
            "40\n",
            "41\n",
            "42\n",
            "43\n",
            "44\n",
            "45\n",
            "46\n",
            "47\n",
            "48\n",
            "49\n",
            "50\n",
            "51\n",
            "52\n",
            "53\n",
            "54\n",
            "55\n",
            "56\n",
            "57\n",
            "58\n",
            "59\n",
            "60\n",
            "61\n",
            "62\n",
            "63\n",
            "64\n",
            "65\n",
            "66\n",
            "67\n",
            "68\n",
            "69\n",
            "70\n",
            "71\n",
            "72\n",
            "73\n",
            "74\n",
            "75\n",
            "76\n",
            "77\n",
            "78\n",
            "79\n",
            "80\n",
            "81\n",
            "82\n",
            "Column Name :  PER5\n",
            "0\n",
            "1\n",
            "2\n",
            "3\n",
            "4\n",
            "5\n",
            "6\n",
            "7\n",
            "8\n",
            "9\n",
            "10\n",
            "11\n",
            "12\n",
            "13\n",
            "14\n",
            "15\n",
            "16\n",
            "17\n",
            "18\n",
            "19\n",
            "20\n",
            "21\n",
            "22\n",
            "23\n",
            "24\n",
            "25\n",
            "26\n",
            "27\n",
            "28\n",
            "29\n",
            "30\n",
            "31\n",
            "32\n",
            "33\n",
            "34\n",
            "35\n",
            "36\n",
            "37\n",
            "38\n",
            "39\n",
            "40\n",
            "41\n",
            "42\n",
            "43\n",
            "44\n",
            "45\n",
            "46\n",
            "47\n",
            "48\n",
            "49\n",
            "50\n",
            "51\n",
            "52\n",
            "53\n",
            "54\n",
            "55\n",
            "56\n",
            "57\n",
            "58\n",
            "59\n",
            "60\n",
            "61\n",
            "62\n",
            "63\n",
            "64\n",
            "65\n",
            "66\n",
            "67\n",
            "68\n",
            "69\n",
            "70\n",
            "71\n",
            "72\n",
            "73\n",
            "74\n",
            "75\n",
            "76\n",
            "Column Name :  PER6\n",
            "0\n",
            "1\n",
            "2\n",
            "3\n",
            "4\n",
            "5\n",
            "6\n",
            "7\n",
            "8\n",
            "9\n",
            "10\n",
            "11\n",
            "12\n",
            "13\n",
            "14\n",
            "15\n",
            "16\n",
            "17\n",
            "18\n",
            "19\n",
            "20\n",
            "21\n",
            "22\n",
            "23\n",
            "24\n",
            "25\n",
            "26\n",
            "27\n",
            "28\n",
            "29\n",
            "30\n",
            "31\n",
            "32\n",
            "33\n",
            "34\n",
            "35\n",
            "36\n",
            "37\n",
            "38\n",
            "39\n",
            "40\n",
            "41\n",
            "42\n",
            "43\n",
            "44\n",
            "45\n",
            "46\n",
            "47\n",
            "48\n",
            "49\n",
            "50\n",
            "51\n",
            "52\n",
            "53\n",
            "54\n",
            "55\n",
            "56\n",
            "57\n",
            "58\n",
            "59\n",
            "60\n",
            "61\n",
            "62\n",
            "63\n",
            "64\n",
            "65\n",
            "66\n",
            "67\n",
            "68\n",
            "69\n",
            "70\n",
            "71\n",
            "72\n",
            "73\n",
            "74\n",
            "75\n",
            "76\n",
            "Column Name :  PER7\n",
            "0\n",
            "1\n",
            "2\n",
            "3\n",
            "4\n",
            "5\n",
            "6\n",
            "7\n",
            "8\n",
            "9\n",
            "10\n",
            "11\n",
            "12\n",
            "13\n",
            "14\n",
            "15\n",
            "16\n",
            "17\n",
            "18\n",
            "19\n",
            "20\n",
            "21\n",
            "22\n",
            "23\n",
            "24\n",
            "25\n",
            "26\n",
            "27\n",
            "28\n",
            "29\n",
            "30\n",
            "31\n",
            "32\n",
            "33\n",
            "34\n",
            "35\n",
            "36\n",
            "37\n",
            "38\n",
            "39\n",
            "40\n",
            "41\n",
            "42\n",
            "43\n",
            "44\n",
            "45\n",
            "46\n",
            "47\n",
            "48\n",
            "49\n",
            "50\n",
            "51\n",
            "52\n",
            "53\n",
            "54\n",
            "55\n",
            "56\n",
            "57\n",
            "58\n",
            "59\n",
            "60\n",
            "61\n",
            "62\n",
            "63\n",
            "64\n",
            "65\n",
            "66\n",
            "67\n",
            "68\n",
            "69\n",
            "70\n",
            "71\n",
            "72\n",
            "73\n",
            "74\n",
            "75\n",
            "76\n",
            "77\n",
            "78\n",
            "Column Name :  PER8\n",
            "0\n",
            "1\n",
            "2\n",
            "3\n",
            "4\n",
            "5\n",
            "6\n",
            "7\n",
            "8\n",
            "9\n",
            "10\n",
            "11\n",
            "12\n",
            "13\n",
            "14\n",
            "15\n",
            "16\n",
            "17\n",
            "18\n",
            "19\n",
            "20\n",
            "21\n",
            "22\n",
            "23\n",
            "24\n",
            "25\n",
            "26\n",
            "27\n",
            "28\n",
            "29\n",
            "30\n",
            "31\n",
            "32\n",
            "33\n",
            "34\n",
            "35\n",
            "36\n",
            "37\n",
            "38\n",
            "39\n",
            "40\n",
            "41\n",
            "42\n",
            "43\n",
            "44\n",
            "45\n",
            "46\n",
            "47\n",
            "48\n",
            "49\n",
            "50\n",
            "51\n",
            "52\n",
            "53\n",
            "54\n",
            "55\n",
            "56\n",
            "57\n",
            "58\n",
            "59\n",
            "60\n",
            "61\n",
            "62\n",
            "63\n",
            "64\n",
            "65\n",
            "66\n",
            "67\n",
            "68\n",
            "69\n",
            "70\n",
            "71\n",
            "72\n",
            "73\n",
            "74\n",
            "75\n",
            "76\n",
            "77\n",
            "78\n",
            "79\n",
            "80\n",
            "81\n",
            "82\n",
            "83\n",
            "84\n",
            "85\n",
            "86\n",
            "87\n",
            "88\n",
            "89\n",
            "90\n",
            "91\n",
            "92\n",
            "93\n",
            "Column Name :  PER9\n",
            "0\n",
            "1\n",
            "2\n",
            "3\n",
            "4\n",
            "5\n",
            "6\n",
            "7\n",
            "8\n",
            "9\n",
            "10\n",
            "11\n",
            "12\n",
            "13\n",
            "14\n",
            "15\n",
            "16\n",
            "17\n",
            "18\n",
            "19\n",
            "20\n",
            "21\n",
            "22\n",
            "23\n",
            "24\n",
            "25\n",
            "26\n",
            "27\n",
            "28\n",
            "29\n",
            "30\n",
            "31\n",
            "32\n",
            "33\n",
            "34\n",
            "35\n",
            "36\n",
            "37\n",
            "38\n",
            "39\n",
            "40\n",
            "41\n",
            "42\n",
            "43\n",
            "44\n",
            "45\n",
            "46\n",
            "47\n",
            "48\n",
            "49\n",
            "50\n",
            "51\n",
            "52\n",
            "53\n",
            "54\n",
            "55\n",
            "56\n",
            "57\n",
            "58\n",
            "59\n",
            "60\n",
            "61\n",
            "62\n",
            "63\n",
            "64\n",
            "65\n",
            "66\n",
            "67\n",
            "68\n",
            "69\n",
            "70\n",
            "71\n",
            "72\n",
            "73\n",
            "74\n",
            "75\n",
            "76\n",
            "77\n",
            "Column Name :  PER10\n",
            "0\n",
            "1\n",
            "2\n",
            "3\n",
            "4\n",
            "5\n",
            "6\n",
            "7\n",
            "8\n",
            "9\n",
            "10\n",
            "11\n",
            "12\n",
            "13\n",
            "14\n",
            "15\n",
            "16\n",
            "17\n",
            "18\n",
            "19\n",
            "20\n",
            "21\n",
            "22\n",
            "23\n",
            "24\n",
            "25\n",
            "26\n",
            "27\n",
            "28\n",
            "29\n",
            "30\n",
            "31\n",
            "32\n",
            "33\n",
            "34\n",
            "35\n",
            "36\n",
            "37\n",
            "38\n",
            "39\n",
            "40\n",
            "41\n",
            "42\n",
            "43\n",
            "44\n",
            "45\n",
            "46\n",
            "47\n",
            "48\n",
            "49\n",
            "50\n",
            "51\n",
            "52\n",
            "53\n",
            "54\n",
            "55\n",
            "56\n",
            "57\n",
            "58\n",
            "59\n",
            "60\n",
            "61\n",
            "62\n",
            "63\n",
            "64\n",
            "65\n",
            "66\n",
            "67\n",
            "68\n",
            "69\n",
            "70\n",
            "71\n",
            "72\n",
            "73\n",
            "74\n",
            "75\n",
            "76\n",
            "77\n",
            "78\n",
            "79\n",
            "80\n",
            "81\n",
            "82\n",
            "83\n",
            "84\n",
            "85\n",
            "86\n",
            "Column Name :  PER11\n",
            "0\n",
            "1\n",
            "2\n",
            "3\n",
            "4\n",
            "5\n",
            "6\n",
            "7\n",
            "8\n",
            "9\n",
            "10\n",
            "11\n",
            "12\n",
            "13\n",
            "14\n",
            "15\n",
            "16\n",
            "17\n",
            "18\n",
            "19\n",
            "20\n",
            "21\n",
            "22\n",
            "23\n",
            "24\n",
            "25\n",
            "26\n",
            "27\n",
            "28\n",
            "29\n",
            "30\n",
            "31\n",
            "32\n",
            "33\n",
            "34\n",
            "35\n",
            "36\n",
            "37\n",
            "38\n",
            "39\n",
            "40\n",
            "41\n",
            "42\n",
            "43\n",
            "44\n",
            "45\n",
            "46\n",
            "47\n",
            "48\n",
            "Column Name :  PER12\n",
            "0\n",
            "1\n",
            "2\n",
            "3\n",
            "4\n",
            "5\n",
            "6\n",
            "7\n",
            "8\n",
            "9\n",
            "10\n",
            "11\n",
            "12\n",
            "13\n",
            "14\n",
            "15\n",
            "16\n",
            "17\n",
            "18\n",
            "19\n",
            "20\n",
            "21\n",
            "22\n",
            "23\n",
            "24\n",
            "25\n",
            "26\n",
            "27\n",
            "28\n",
            "29\n",
            "30\n",
            "31\n",
            "32\n",
            "33\n",
            "34\n",
            "35\n",
            "36\n",
            "37\n",
            "38\n",
            "39\n",
            "40\n",
            "41\n",
            "42\n",
            "43\n",
            "44\n",
            "45\n",
            "46\n",
            "47\n",
            "48\n",
            "49\n",
            "50\n",
            "51\n",
            "52\n",
            "53\n",
            "54\n",
            "55\n",
            "56\n",
            "57\n",
            "58\n",
            "59\n",
            "60\n",
            "Column Name :  PER13\n",
            "0\n",
            "1\n",
            "2\n",
            "3\n",
            "4\n",
            "5\n",
            "6\n",
            "7\n",
            "8\n",
            "9\n",
            "10\n",
            "11\n",
            "12\n",
            "13\n",
            "14\n",
            "15\n",
            "16\n",
            "17\n",
            "18\n",
            "19\n",
            "20\n",
            "21\n",
            "22\n",
            "23\n",
            "24\n",
            "25\n",
            "26\n",
            "27\n",
            "28\n",
            "29\n",
            "30\n",
            "31\n",
            "32\n",
            "33\n",
            "34\n",
            "35\n",
            "36\n",
            "37\n",
            "38\n",
            "39\n",
            "40\n",
            "41\n",
            "42\n",
            "43\n",
            "44\n",
            "45\n",
            "46\n",
            "47\n",
            "48\n",
            "49\n",
            "50\n",
            "51\n",
            "52\n",
            "53\n",
            "54\n",
            "55\n",
            "56\n",
            "57\n",
            "58\n",
            "59\n",
            "60\n",
            "61\n",
            "62\n",
            "63\n",
            "64\n",
            "65\n",
            "66\n",
            "67\n",
            "68\n",
            "69\n",
            "70\n",
            "71\n",
            "72\n",
            "73\n",
            "74\n",
            "75\n",
            "76\n",
            "77\n",
            "78\n",
            "79\n",
            "80\n",
            "81\n",
            "82\n",
            "83\n",
            "84\n",
            "85\n",
            "86\n",
            "87\n",
            "88\n",
            "89\n"
          ]
        }
      ]
    },
    {
      "cell_type": "code",
      "source": [
        "print(len(data1))\n",
        "#print(len(data2))"
      ],
      "metadata": {
        "colab": {
          "base_uri": "https://localhost:8080/"
        },
        "id": "IDYVKUaCYYxN",
        "outputId": "d147a510-25b1-44ee-8abf-d1ee6a782cfd"
      },
      "execution_count": null,
      "outputs": [
        {
          "output_type": "stream",
          "name": "stdout",
          "text": [
            "1036\n"
          ]
        }
      ]
    },
    {
      "cell_type": "code",
      "source": [
        "print(len(data3))"
      ],
      "metadata": {
        "colab": {
          "base_uri": "https://localhost:8080/"
        },
        "id": "34kXHnkvYM20",
        "outputId": "0c50828a-61c1-4e16-c11b-63df93c2f232"
      },
      "execution_count": null,
      "outputs": [
        {
          "output_type": "stream",
          "name": "stdout",
          "text": [
            "1036\n"
          ]
        }
      ]
    },
    {
      "cell_type": "code",
      "source": [
        "#print(len(data4))"
      ],
      "metadata": {
        "id": "BAmzuufm7jU-"
      },
      "execution_count": null,
      "outputs": []
    },
    {
      "cell_type": "code",
      "source": [
        "for (columnName, columnData) in dataframe2.iteritems():\n",
        "    print('Column Name : ', columnName)\n",
        "    print('Column Contents : ', columnData)"
      ],
      "metadata": {
        "id": "p_nEEGTSUC-V"
      },
      "execution_count": null,
      "outputs": []
    },
    {
      "cell_type": "code",
      "source": [
        "data = {\n",
        "  \"Image1\": data1,\n",
        "  \"Diff_Data\": data3\n",
        "}"
      ],
      "metadata": {
        "id": "gTQyJin3QMN9"
      },
      "execution_count": null,
      "outputs": []
    },
    {
      "cell_type": "code",
      "source": [
        "#load data into a DataFrame object:\n",
        "df = pd.DataFrame(data)\n",
        " \n",
        "print(df)"
      ],
      "metadata": {
        "colab": {
          "base_uri": "https://localhost:8080/"
        },
        "id": "I_BkJoEjQyEm",
        "outputId": "7a28ff5d-fd08-4bd4-834f-e6310336eae6"
      },
      "execution_count": null,
      "outputs": [
        {
          "output_type": "stream",
          "name": "stdout",
          "text": [
            "                                                 Image1  Diff_Data\n",
            "0     /content/drive/MyDrive/Combine_All/Combine1/1.png        0.0\n",
            "1     /content/drive/MyDrive/Combine_All/Combine1/2.png        0.0\n",
            "2     /content/drive/MyDrive/Combine_All/Combine1/3.png        0.0\n",
            "3     /content/drive/MyDrive/Combine_All/Combine1/4.png        0.0\n",
            "4     /content/drive/MyDrive/Combine_All/Combine1/5.png        0.0\n",
            "...                                                 ...        ...\n",
            "1031  /content/drive/MyDrive/Combine_All/Combine13/8...        0.0\n",
            "1032  /content/drive/MyDrive/Combine_All/Combine13/8...        0.0\n",
            "1033  /content/drive/MyDrive/Combine_All/Combine13/8...        0.0\n",
            "1034  /content/drive/MyDrive/Combine_All/Combine13/8...        0.0\n",
            "1035  /content/drive/MyDrive/Combine_All/Combine13/9...        0.0\n",
            "\n",
            "[1036 rows x 2 columns]\n"
          ]
        }
      ]
    },
    {
      "cell_type": "code",
      "source": [
        "image_df = df.sample(1036, random_state=1).reset_index(drop=True)\n",
        "\n",
        "train_df, test_df = train_test_split(image_df, train_size=0.7, shuffle=True, random_state=1)"
      ],
      "metadata": {
        "id": "NWZwas0kit11"
      },
      "execution_count": null,
      "outputs": []
    },
    {
      "cell_type": "code",
      "source": [
        "train_generator = tf.keras.preprocessing.image.ImageDataGenerator(\n",
        "    #rescale=1./255,\n",
        "    validation_split=0.2\n",
        ")\n",
        "\n",
        "test_generator = tf.keras.preprocessing.image.ImageDataGenerator(\n",
        "    #rescale=1./255\n",
        ")"
      ],
      "metadata": {
        "id": "dIyJ2xB7i4Qo"
      },
      "execution_count": null,
      "outputs": []
    },
    {
      "cell_type": "code",
      "source": [
        "train_df"
      ],
      "metadata": {
        "colab": {
          "base_uri": "https://localhost:8080/",
          "height": 424
        },
        "id": "s3vlUXpBi52J",
        "outputId": "a0470e62-2907-4e77-d7e6-d11ac0acdc9f"
      },
      "execution_count": null,
      "outputs": [
        {
          "output_type": "execute_result",
          "data": {
            "text/plain": [
              "                                                Image1  Diff_Data\n",
              "286  /content/drive/MyDrive/Combine_All/Combine12/5...   0.000000\n",
              "602  /content/drive/MyDrive/Combine_All/Combine3/65...   0.013523\n",
              "386  /content/drive/MyDrive/Combine_All/Combine1/59...   0.021490\n",
              "688  /content/drive/MyDrive/Combine_All/Combine12/4...   0.033513\n",
              "578  /content/drive/MyDrive/Combine_All/Combine6/25...   0.022280\n",
              "..                                                 ...        ...\n",
              "960  /content/drive/MyDrive/Combine_All/Combine4/22...   0.000000\n",
              "847  /content/drive/MyDrive/Combine_All/Combine4/57...   0.021306\n",
              "715  /content/drive/MyDrive/Combine_All/Combine13/6...   0.000000\n",
              "905  /content/drive/MyDrive/Combine_All/Combine13/4...   0.034668\n",
              "235  /content/drive/MyDrive/Combine_All/Combine8/85...   0.000000\n",
              "\n",
              "[725 rows x 2 columns]"
            ],
            "text/html": [
              "\n",
              "  <div id=\"df-34ebf948-1039-428f-a6cd-00afb9bce237\">\n",
              "    <div class=\"colab-df-container\">\n",
              "      <div>\n",
              "<style scoped>\n",
              "    .dataframe tbody tr th:only-of-type {\n",
              "        vertical-align: middle;\n",
              "    }\n",
              "\n",
              "    .dataframe tbody tr th {\n",
              "        vertical-align: top;\n",
              "    }\n",
              "\n",
              "    .dataframe thead th {\n",
              "        text-align: right;\n",
              "    }\n",
              "</style>\n",
              "<table border=\"1\" class=\"dataframe\">\n",
              "  <thead>\n",
              "    <tr style=\"text-align: right;\">\n",
              "      <th></th>\n",
              "      <th>Image1</th>\n",
              "      <th>Diff_Data</th>\n",
              "    </tr>\n",
              "  </thead>\n",
              "  <tbody>\n",
              "    <tr>\n",
              "      <th>286</th>\n",
              "      <td>/content/drive/MyDrive/Combine_All/Combine12/5...</td>\n",
              "      <td>0.000000</td>\n",
              "    </tr>\n",
              "    <tr>\n",
              "      <th>602</th>\n",
              "      <td>/content/drive/MyDrive/Combine_All/Combine3/65...</td>\n",
              "      <td>0.013523</td>\n",
              "    </tr>\n",
              "    <tr>\n",
              "      <th>386</th>\n",
              "      <td>/content/drive/MyDrive/Combine_All/Combine1/59...</td>\n",
              "      <td>0.021490</td>\n",
              "    </tr>\n",
              "    <tr>\n",
              "      <th>688</th>\n",
              "      <td>/content/drive/MyDrive/Combine_All/Combine12/4...</td>\n",
              "      <td>0.033513</td>\n",
              "    </tr>\n",
              "    <tr>\n",
              "      <th>578</th>\n",
              "      <td>/content/drive/MyDrive/Combine_All/Combine6/25...</td>\n",
              "      <td>0.022280</td>\n",
              "    </tr>\n",
              "    <tr>\n",
              "      <th>...</th>\n",
              "      <td>...</td>\n",
              "      <td>...</td>\n",
              "    </tr>\n",
              "    <tr>\n",
              "      <th>960</th>\n",
              "      <td>/content/drive/MyDrive/Combine_All/Combine4/22...</td>\n",
              "      <td>0.000000</td>\n",
              "    </tr>\n",
              "    <tr>\n",
              "      <th>847</th>\n",
              "      <td>/content/drive/MyDrive/Combine_All/Combine4/57...</td>\n",
              "      <td>0.021306</td>\n",
              "    </tr>\n",
              "    <tr>\n",
              "      <th>715</th>\n",
              "      <td>/content/drive/MyDrive/Combine_All/Combine13/6...</td>\n",
              "      <td>0.000000</td>\n",
              "    </tr>\n",
              "    <tr>\n",
              "      <th>905</th>\n",
              "      <td>/content/drive/MyDrive/Combine_All/Combine13/4...</td>\n",
              "      <td>0.034668</td>\n",
              "    </tr>\n",
              "    <tr>\n",
              "      <th>235</th>\n",
              "      <td>/content/drive/MyDrive/Combine_All/Combine8/85...</td>\n",
              "      <td>0.000000</td>\n",
              "    </tr>\n",
              "  </tbody>\n",
              "</table>\n",
              "<p>725 rows × 2 columns</p>\n",
              "</div>\n",
              "      <button class=\"colab-df-convert\" onclick=\"convertToInteractive('df-34ebf948-1039-428f-a6cd-00afb9bce237')\"\n",
              "              title=\"Convert this dataframe to an interactive table.\"\n",
              "              style=\"display:none;\">\n",
              "        \n",
              "  <svg xmlns=\"http://www.w3.org/2000/svg\" height=\"24px\"viewBox=\"0 0 24 24\"\n",
              "       width=\"24px\">\n",
              "    <path d=\"M0 0h24v24H0V0z\" fill=\"none\"/>\n",
              "    <path d=\"M18.56 5.44l.94 2.06.94-2.06 2.06-.94-2.06-.94-.94-2.06-.94 2.06-2.06.94zm-11 1L8.5 8.5l.94-2.06 2.06-.94-2.06-.94L8.5 2.5l-.94 2.06-2.06.94zm10 10l.94 2.06.94-2.06 2.06-.94-2.06-.94-.94-2.06-.94 2.06-2.06.94z\"/><path d=\"M17.41 7.96l-1.37-1.37c-.4-.4-.92-.59-1.43-.59-.52 0-1.04.2-1.43.59L10.3 9.45l-7.72 7.72c-.78.78-.78 2.05 0 2.83L4 21.41c.39.39.9.59 1.41.59.51 0 1.02-.2 1.41-.59l7.78-7.78 2.81-2.81c.8-.78.8-2.07 0-2.86zM5.41 20L4 18.59l7.72-7.72 1.47 1.35L5.41 20z\"/>\n",
              "  </svg>\n",
              "      </button>\n",
              "      \n",
              "  <style>\n",
              "    .colab-df-container {\n",
              "      display:flex;\n",
              "      flex-wrap:wrap;\n",
              "      gap: 12px;\n",
              "    }\n",
              "\n",
              "    .colab-df-convert {\n",
              "      background-color: #E8F0FE;\n",
              "      border: none;\n",
              "      border-radius: 50%;\n",
              "      cursor: pointer;\n",
              "      display: none;\n",
              "      fill: #1967D2;\n",
              "      height: 32px;\n",
              "      padding: 0 0 0 0;\n",
              "      width: 32px;\n",
              "    }\n",
              "\n",
              "    .colab-df-convert:hover {\n",
              "      background-color: #E2EBFA;\n",
              "      box-shadow: 0px 1px 2px rgba(60, 64, 67, 0.3), 0px 1px 3px 1px rgba(60, 64, 67, 0.15);\n",
              "      fill: #174EA6;\n",
              "    }\n",
              "\n",
              "    [theme=dark] .colab-df-convert {\n",
              "      background-color: #3B4455;\n",
              "      fill: #D2E3FC;\n",
              "    }\n",
              "\n",
              "    [theme=dark] .colab-df-convert:hover {\n",
              "      background-color: #434B5C;\n",
              "      box-shadow: 0px 1px 3px 1px rgba(0, 0, 0, 0.15);\n",
              "      filter: drop-shadow(0px 1px 2px rgba(0, 0, 0, 0.3));\n",
              "      fill: #FFFFFF;\n",
              "    }\n",
              "  </style>\n",
              "\n",
              "      <script>\n",
              "        const buttonEl =\n",
              "          document.querySelector('#df-34ebf948-1039-428f-a6cd-00afb9bce237 button.colab-df-convert');\n",
              "        buttonEl.style.display =\n",
              "          google.colab.kernel.accessAllowed ? 'block' : 'none';\n",
              "\n",
              "        async function convertToInteractive(key) {\n",
              "          const element = document.querySelector('#df-34ebf948-1039-428f-a6cd-00afb9bce237');\n",
              "          const dataTable =\n",
              "            await google.colab.kernel.invokeFunction('convertToInteractive',\n",
              "                                                     [key], {});\n",
              "          if (!dataTable) return;\n",
              "\n",
              "          const docLinkHtml = 'Like what you see? Visit the ' +\n",
              "            '<a target=\"_blank\" href=https://colab.research.google.com/notebooks/data_table.ipynb>data table notebook</a>'\n",
              "            + ' to learn more about interactive tables.';\n",
              "          element.innerHTML = '';\n",
              "          dataTable['output_type'] = 'display_data';\n",
              "          await google.colab.output.renderOutput(dataTable, element);\n",
              "          const docLink = document.createElement('div');\n",
              "          docLink.innerHTML = docLinkHtml;\n",
              "          element.appendChild(docLink);\n",
              "        }\n",
              "      </script>\n",
              "    </div>\n",
              "  </div>\n",
              "  "
            ]
          },
          "metadata": {},
          "execution_count": 64
        }
      ]
    },
    {
      "cell_type": "code",
      "source": [],
      "metadata": {
        "id": "lxvJiwZL9i8q"
      },
      "execution_count": null,
      "outputs": []
    },
    {
      "cell_type": "code",
      "source": [
        "train_images = train_generator.flow_from_dataframe(\n",
        "    dataframe=train_df,\n",
        "    x_col='Image1',\n",
        "    y_col='Diff_Data',\n",
        "    target_size=(120, 120),\n",
        "    color_mode='rgb',\n",
        "    class_mode='raw',\n",
        "    batch_size=32,\n",
        "    shuffle=True,\n",
        "    seed=42,\n",
        "    subset='training'\n",
        ")\n",
        "\n",
        "val_images = train_generator.flow_from_dataframe(\n",
        "    dataframe=train_df,\n",
        "    x_col='Image1',\n",
        "    y_col='Diff_Data',\n",
        "    target_size=(120, 120),\n",
        "    color_mode='rgb',\n",
        "    class_mode='raw',\n",
        "    batch_size=32,\n",
        "    shuffle=True,\n",
        "    seed=42,\n",
        "    subset='validation'\n",
        ")\n",
        "\n",
        "test_images = test_generator.flow_from_dataframe(\n",
        "    dataframe=test_df,\n",
        "    x_col='Image1',\n",
        "    y_col='Diff_Data',\n",
        "    target_size=(120, 120),\n",
        "    color_mode='rgb',\n",
        "    class_mode='raw',\n",
        "    batch_size=32,\n",
        "    shuffle=False\n",
        ")"
      ],
      "metadata": {
        "colab": {
          "base_uri": "https://localhost:8080/"
        },
        "id": "0rkpEZF0jC07",
        "outputId": "446cc161-78fe-4169-afac-f5e55d085737"
      },
      "execution_count": null,
      "outputs": [
        {
          "output_type": "stream",
          "name": "stdout",
          "text": [
            "Found 580 validated image filenames.\n",
            "Found 145 validated image filenames.\n",
            "Found 311 validated image filenames.\n"
          ]
        }
      ]
    },
    {
      "cell_type": "code",
      "source": [
        "inputs = tf.keras.Input(shape=(120, 120, 3))\n",
        "x = tf.keras.layers.Conv2D(filters=16, kernel_size=(3, 3), activation='relu')(inputs)\n",
        "x = tf.keras.layers.MaxPool2D()(x)\n",
        "x = tf.keras.layers.Conv2D(filters=32, kernel_size=(3, 3), activation='relu')(x)\n",
        "x = tf.keras.layers.MaxPool2D()(x)\n",
        "x = tf.keras.layers.GlobalAveragePooling2D()(x)\n",
        "x = tf.keras.layers.Dense(64, activation='relu')(x)\n",
        "x = tf.keras.layers.Dense(64, activation='relu')(x)\n",
        "outputs = tf.keras.layers.Dense(1, activation='linear')(x)\n",
        "\n",
        "model = tf.keras.Model(inputs=inputs, outputs=outputs)\n",
        "\n",
        "model.compile(\n",
        "    optimizer='adam',\n",
        "    loss='mse'\n",
        ")\n",
        "\n",
        "history = model.fit(\n",
        "    train_images,\n",
        "    validation_data=val_images,\n",
        "    epochs=50,\n",
        "    callbacks=[\n",
        "        tf.keras.callbacks.EarlyStopping(\n",
        "            monitor='val_loss',\n",
        "            patience=10,\n",
        "            restore_best_weights=True\n",
        "        )\n",
        "    ]\n",
        ")"
      ],
      "metadata": {
        "colab": {
          "base_uri": "https://localhost:8080/"
        },
        "id": "5SZi9gEbjeXn",
        "outputId": "5f68455f-5ae4-48d3-bf13-4e37f70bd444"
      },
      "execution_count": null,
      "outputs": [
        {
          "output_type": "stream",
          "name": "stdout",
          "text": [
            "Epoch 1/50\n",
            "19/19 [==============================] - 21s 1s/step - loss: 0.3421 - val_loss: 0.0029\n",
            "Epoch 2/50\n",
            "19/19 [==============================] - 22s 1s/step - loss: 0.0280 - val_loss: 0.0042\n",
            "Epoch 3/50\n",
            "19/19 [==============================] - 20s 1s/step - loss: 0.0073 - val_loss: 0.0032\n",
            "Epoch 4/50\n",
            "19/19 [==============================] - 20s 1s/step - loss: 0.0024 - val_loss: 0.0011\n",
            "Epoch 5/50\n",
            "19/19 [==============================] - 20s 1s/step - loss: 0.0011 - val_loss: 7.1653e-04\n",
            "Epoch 6/50\n",
            "19/19 [==============================] - 20s 1s/step - loss: 8.8891e-04 - val_loss: 7.9779e-04\n",
            "Epoch 7/50\n",
            "19/19 [==============================] - 20s 1s/step - loss: 6.8422e-04 - val_loss: 6.6308e-04\n",
            "Epoch 8/50\n",
            "19/19 [==============================] - 20s 1s/step - loss: 9.3171e-04 - val_loss: 0.0015\n",
            "Epoch 9/50\n",
            "19/19 [==============================] - 20s 1s/step - loss: 9.8248e-04 - val_loss: 6.9783e-04\n",
            "Epoch 10/50\n",
            "19/19 [==============================] - 20s 1s/step - loss: 8.4596e-04 - val_loss: 6.4044e-04\n",
            "Epoch 11/50\n",
            "19/19 [==============================] - 20s 1s/step - loss: 5.6628e-04 - val_loss: 6.0872e-04\n",
            "Epoch 12/50\n",
            "19/19 [==============================] - 20s 1s/step - loss: 6.0018e-04 - val_loss: 9.6310e-04\n",
            "Epoch 13/50\n",
            "19/19 [==============================] - 20s 1s/step - loss: 8.8445e-04 - val_loss: 0.0010\n",
            "Epoch 14/50\n",
            "19/19 [==============================] - 21s 1s/step - loss: 7.7817e-04 - val_loss: 5.4306e-04\n",
            "Epoch 15/50\n",
            "19/19 [==============================] - 22s 1s/step - loss: 6.4070e-04 - val_loss: 7.4421e-04\n",
            "Epoch 16/50\n",
            "19/19 [==============================] - 20s 1s/step - loss: 5.5201e-04 - val_loss: 8.9081e-04\n",
            "Epoch 17/50\n",
            "19/19 [==============================] - 20s 1s/step - loss: 8.4155e-04 - val_loss: 5.2137e-04\n",
            "Epoch 18/50\n",
            "19/19 [==============================] - 19s 1s/step - loss: 8.4337e-04 - val_loss: 0.0016\n",
            "Epoch 19/50\n",
            "19/19 [==============================] - 20s 1s/step - loss: 8.9539e-04 - val_loss: 6.5259e-04\n",
            "Epoch 20/50\n",
            "19/19 [==============================] - 21s 1s/step - loss: 0.0012 - val_loss: 6.2906e-04\n",
            "Epoch 21/50\n",
            "19/19 [==============================] - 19s 1s/step - loss: 4.6684e-04 - val_loss: 5.6929e-04\n",
            "Epoch 22/50\n",
            "19/19 [==============================] - 21s 1s/step - loss: 4.3446e-04 - val_loss: 4.4812e-04\n",
            "Epoch 23/50\n",
            "19/19 [==============================] - 20s 1s/step - loss: 4.7758e-04 - val_loss: 0.0010\n",
            "Epoch 24/50\n",
            "19/19 [==============================] - 20s 1s/step - loss: 5.5168e-04 - val_loss: 4.3612e-04\n",
            "Epoch 25/50\n",
            "19/19 [==============================] - 19s 1s/step - loss: 4.1704e-04 - val_loss: 4.0107e-04\n",
            "Epoch 26/50\n",
            "19/19 [==============================] - 19s 1s/step - loss: 3.9219e-04 - val_loss: 4.2729e-04\n",
            "Epoch 27/50\n",
            "19/19 [==============================] - 21s 1s/step - loss: 4.3747e-04 - val_loss: 0.0011\n",
            "Epoch 28/50\n",
            "19/19 [==============================] - 20s 1s/step - loss: 5.4502e-04 - val_loss: 4.1171e-04\n",
            "Epoch 29/50\n",
            "19/19 [==============================] - 19s 1s/step - loss: 5.0062e-04 - val_loss: 3.9245e-04\n",
            "Epoch 30/50\n",
            "19/19 [==============================] - 19s 1s/step - loss: 3.6146e-04 - val_loss: 5.1971e-04\n",
            "Epoch 31/50\n",
            "19/19 [==============================] - 19s 1s/step - loss: 3.0656e-04 - val_loss: 3.4711e-04\n",
            "Epoch 32/50\n",
            "19/19 [==============================] - 20s 1s/step - loss: 3.5541e-04 - val_loss: 3.4471e-04\n",
            "Epoch 33/50\n",
            "19/19 [==============================] - 21s 1s/step - loss: 3.6107e-04 - val_loss: 6.6030e-04\n",
            "Epoch 34/50\n",
            "19/19 [==============================] - 21s 1s/step - loss: 4.0093e-04 - val_loss: 4.2238e-04\n",
            "Epoch 35/50\n",
            "19/19 [==============================] - 20s 1s/step - loss: 3.0614e-04 - val_loss: 3.6722e-04\n",
            "Epoch 36/50\n",
            "19/19 [==============================] - 20s 1s/step - loss: 2.9372e-04 - val_loss: 5.0469e-04\n",
            "Epoch 37/50\n",
            "19/19 [==============================] - 22s 1s/step - loss: 2.6650e-04 - val_loss: 3.4644e-04\n",
            "Epoch 38/50\n",
            "19/19 [==============================] - 20s 1s/step - loss: 2.9616e-04 - val_loss: 5.7239e-04\n",
            "Epoch 39/50\n",
            "19/19 [==============================] - 21s 1s/step - loss: 2.7807e-04 - val_loss: 3.6343e-04\n",
            "Epoch 40/50\n",
            "19/19 [==============================] - 19s 1s/step - loss: 2.9132e-04 - val_loss: 2.8355e-04\n",
            "Epoch 41/50\n",
            "19/19 [==============================] - 20s 1s/step - loss: 3.8134e-04 - val_loss: 2.8507e-04\n",
            "Epoch 42/50\n",
            "19/19 [==============================] - 20s 1s/step - loss: 6.1404e-04 - val_loss: 9.1123e-04\n",
            "Epoch 43/50\n",
            "19/19 [==============================] - 19s 993ms/step - loss: 5.0499e-04 - val_loss: 6.0081e-04\n",
            "Epoch 44/50\n",
            "19/19 [==============================] - 20s 1s/step - loss: 2.7119e-04 - val_loss: 2.9894e-04\n",
            "Epoch 45/50\n",
            "19/19 [==============================] - 20s 1s/step - loss: 2.1727e-04 - val_loss: 4.0298e-04\n",
            "Epoch 46/50\n",
            "19/19 [==============================] - 20s 1s/step - loss: 1.9041e-04 - val_loss: 2.5782e-04\n",
            "Epoch 47/50\n",
            "19/19 [==============================] - 20s 1s/step - loss: 2.3290e-04 - val_loss: 2.3554e-04\n",
            "Epoch 48/50\n",
            "19/19 [==============================] - 19s 1s/step - loss: 2.6731e-04 - val_loss: 2.7219e-04\n",
            "Epoch 49/50\n",
            "19/19 [==============================] - 19s 1s/step - loss: 2.4660e-04 - val_loss: 3.7522e-04\n",
            "Epoch 50/50\n",
            "19/19 [==============================] - 20s 1s/step - loss: 1.9163e-04 - val_loss: 2.2828e-04\n"
          ]
        }
      ]
    },
    {
      "cell_type": "code",
      "source": [
        "predicted_layer_perc = np.squeeze(model.predict(test_images))\n",
        "true_layer_perc = test_images.labels\n",
        "\n",
        "rmse = np.sqrt(model.evaluate(test_images, verbose=0))\n",
        "print(\"     Test RMSE: {:.5f}\".format(rmse))\n",
        "\n",
        "r2 = r2_score(true_layer_perc, predicted_layer_perc)\n",
        "print(\"Test R^2 Score: {:.5f}\".format(r2))"
      ],
      "metadata": {
        "colab": {
          "base_uri": "https://localhost:8080/"
        },
        "id": "gu6tL6HtoXi8",
        "outputId": "89fd9464-707e-4d3a-fefb-18902cefdc14"
      },
      "execution_count": null,
      "outputs": [
        {
          "output_type": "stream",
          "name": "stdout",
          "text": [
            "10/10 [==============================] - 8s 827ms/step\n",
            "     Test RMSE: 0.01360\n",
            "Test R^2 Score: -0.00056\n"
          ]
        }
      ]
    },
    {
      "cell_type": "code",
      "source": [
        "print(true_layer_perc)"
      ],
      "metadata": {
        "id": "NSLm_5IopFGn"
      },
      "execution_count": null,
      "outputs": []
    },
    {
      "cell_type": "code",
      "source": [
        "print(predicted_layer_perc)"
      ],
      "metadata": {
        "id": "VfhmsYmGoYtz"
      },
      "execution_count": null,
      "outputs": []
    },
    {
      "cell_type": "code",
      "source": [
        "from google.colab import drive\n",
        "drive.mount('/content/drive')"
      ],
      "metadata": {
        "id": "Rb7bcdCrXGVT"
      },
      "execution_count": null,
      "outputs": []
    }
  ]
}