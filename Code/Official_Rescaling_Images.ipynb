{
  "nbformat": 4,
  "nbformat_minor": 0,
  "metadata": {
    "colab": {
      "provenance": [],
      "collapsed_sections": []
    },
    "kernelspec": {
      "name": "python3",
      "display_name": "Python 3"
    },
    "language_info": {
      "name": "python"
    }
  },
  "cells": [
    {
      "cell_type": "markdown",
      "source": [
        "# Rescaling Images"
      ],
      "metadata": {
        "id": "9QoVRu-6f3aK"
      }
    },
    {
      "cell_type": "markdown",
      "source": [
        "This code is to be used in tandom with 3D_Model_Works.\n",
        "\n",
        "This code rescales the images so plotting can take place with Pypotree."
      ],
      "metadata": {
        "id": "jt8gNH-QWKHK"
      }
    },
    {
      "cell_type": "markdown",
      "source": [
        "## Install and Imports"
      ],
      "metadata": {
        "id": "-XEH83ouWVrL"
      }
    },
    {
      "cell_type": "code",
      "execution_count": null,
      "metadata": {
        "colab": {
          "base_uri": "https://localhost:8080/"
        },
        "id": "1c7h_ZYWMHJf",
        "outputId": "1b5a38bb-644a-4d4f-d3e4-b092476af72e"
      },
      "outputs": [
        {
          "output_type": "stream",
          "name": "stdout",
          "text": [
            "Looking in indexes: https://pypi.org/simple, https://us-python.pkg.dev/colab-wheels/public/simple/\n",
            "Requirement already satisfied: pillow in /usr/local/lib/python3.7/dist-packages (7.1.2)\n"
          ]
        }
      ],
      "source": [
        "# Python Imaging Library\n",
        "!pip install pillow"
      ]
    },
    {
      "cell_type": "code",
      "source": [
        "# Get current user environment\n",
        "import os\n",
        "# Python Imaging library that allows for more extensive editing capabilities\n",
        "import PIL \n",
        "from PIL import Image \n",
        "# Used to retrieve files/ pathnames matching a specified pattern\n",
        "import glob\n",
        "# For solving computer vision problems\n",
        "import cv2\n",
        "# Used to work with arrays and matrix data structures\n",
        "import numpy as np"
      ],
      "metadata": {
        "id": "46BuWTWtMb9N"
      },
      "execution_count": null,
      "outputs": []
    },
    {
      "cell_type": "markdown",
      "source": [
        "## Looping through Images and Resizing"
      ],
      "metadata": {
        "id": "Qplo4nvCWYWB"
      }
    },
    {
      "cell_type": "markdown",
      "source": [
        "To achieve appropriate model size with Pypotree the Images need to be scaled down to the scale of the phantom."
      ],
      "metadata": {
        "id": "QL59yFDXgF-3"
      }
    },
    {
      "cell_type": "code",
      "source": [
        "# For each folder of Image Differences (Seg1 - Seg13)\n",
        "for l in range(1,14):\n",
        "  count = 0\n",
        "\n",
        "  # Iterate through the Difference Image directory  \n",
        "  # To know how many files are in the current directory  \n",
        "  for path in os.listdir(f'/content/drive/MyDrive/Seg_All/Seg{l}'):\n",
        "      # Checking if current path is a file\n",
        "      if os.path.isfile(os.path.join(f'/content/drive/MyDrive/Seg_All/Seg{l}', path)):\n",
        "          # Increase count by 1\n",
        "          count += 1\n",
        "  #print(count)\n",
        "\n",
        "  # Going through each image within the current directory {l}, rescaling images and saving them\n",
        "  for i in range(1,count+1): \n",
        "    new_h, new_w = 54, 87 \n",
        "    if i <10:\n",
        "      image = cv2.imread(f'/content/drive/MyDrive/Seg_All/Seg{l}/image.000{i}.jpg')\n",
        "      resized_image = cv2.resize(image, (new_w, new_h))\n",
        "      cv2.imwrite(f'/content/drive/MyDrive/Resized_All/Resize{l}/{i}.jpg',resized_image)\n",
        "        \n",
        "    else:\n",
        "      image = cv2.imread(f'/content/drive/MyDrive/Seg_All/Seg{l}/image.00{i}.jpg')\n",
        "      resized_image = cv2.resize(image, (new_w, new_h))\n",
        "      cv2.imwrite(f'/content/drive/MyDrive/Resized_All/Resize{l}/{i}.jpg',resized_image)"
      ],
      "metadata": {
        "colab": {
          "base_uri": "https://localhost:8080/"
        },
        "id": "d6GhoeJOZSWn",
        "outputId": "57ae0696-824c-492a-f7a8-0e07da2e3983"
      },
      "execution_count": null,
      "outputs": [
        {
          "output_type": "stream",
          "name": "stdout",
          "text": [
            "88\n",
            "82\n",
            "94\n",
            "84\n",
            "78\n",
            "78\n",
            "80\n",
            "95\n",
            "79\n",
            "88\n",
            "50\n",
            "62\n",
            "91\n"
          ]
        }
      ]
    }
  ]
}