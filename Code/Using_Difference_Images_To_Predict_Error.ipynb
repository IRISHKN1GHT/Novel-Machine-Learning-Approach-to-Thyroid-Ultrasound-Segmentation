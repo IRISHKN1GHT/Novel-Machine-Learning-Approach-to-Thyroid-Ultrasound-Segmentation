{
  "cells": [
    {
      "cell_type": "markdown",
      "source": [
        "# Difference_Image_Prediction"
      ],
      "metadata": {
        "id": "QjVh1OYTWgm1"
      }
    },
    {
      "cell_type": "markdown",
      "source": [
        "In this code the aim is to pass in image data into a CNN and use it to predict variable image height for each layer. Each image has an associated error value attached and this is what it is going to learn."
      ],
      "metadata": {
        "id": "avQRnFfhyTb4"
      }
    },
    {
      "cell_type": "markdown",
      "source": [
        "# Installs and Imports"
      ],
      "metadata": {
        "id": "SREvlYBWy2Qd"
      }
    },
    {
      "cell_type": "code",
      "execution_count": null,
      "metadata": {
        "colab": {
          "base_uri": "https://localhost:8080/"
        },
        "id": "v-uyRNouCK0P",
        "outputId": "8774ed2a-ee23-48f3-f3ef-b23b7e4aa954"
      },
      "outputs": [
        {
          "output_type": "stream",
          "name": "stdout",
          "text": [
            "Looking in indexes: https://pypi.org/simple, https://us-python.pkg.dev/colab-wheels/public/simple/\n",
            "Requirement already satisfied: pandas in /usr/local/lib/python3.7/dist-packages (1.3.5)\n",
            "Requirement already satisfied: numpy>=1.17.3 in /usr/local/lib/python3.7/dist-packages (from pandas) (1.21.6)\n",
            "Requirement already satisfied: python-dateutil>=2.7.3 in /usr/local/lib/python3.7/dist-packages (from pandas) (2.8.2)\n",
            "Requirement already satisfied: pytz>=2017.3 in /usr/local/lib/python3.7/dist-packages (from pandas) (2022.4)\n",
            "Requirement already satisfied: six>=1.5 in /usr/local/lib/python3.7/dist-packages (from python-dateutil>=2.7.3->pandas) (1.15.0)\n"
          ]
        }
      ],
      "source": [
        "# For Pandas data manipulation \n",
        "!pip install pandas"
      ]
    },
    {
      "cell_type": "code",
      "execution_count": null,
      "metadata": {
        "id": "ei5puUSXCXqg",
        "colab": {
          "base_uri": "https://localhost:8080/"
        },
        "outputId": "96917a2b-617a-4fe5-95e5-10b4e548f961"
      },
      "outputs": [
        {
          "output_type": "stream",
          "name": "stdout",
          "text": [
            "Looking in indexes: https://pypi.org/simple, https://us-python.pkg.dev/colab-wheels/public/simple/\n",
            "Requirement already satisfied: xlrd in /usr/local/lib/python3.7/dist-packages (1.1.0)\n",
            "Collecting xlrd\n",
            "  Downloading xlrd-2.0.1-py2.py3-none-any.whl (96 kB)\n",
            "\u001b[K     |████████████████████████████████| 96 kB 2.8 MB/s \n",
            "\u001b[?25hInstalling collected packages: xlrd\n",
            "  Attempting uninstall: xlrd\n",
            "    Found existing installation: xlrd 1.1.0\n",
            "    Uninstalling xlrd-1.1.0:\n",
            "      Successfully uninstalled xlrd-1.1.0\n",
            "Successfully installed xlrd-2.0.1\n"
          ]
        }
      ],
      "source": [
        "# Needed to work with .xls files\n",
        "!pip install --upgrade xlrd"
      ]
    },
    {
      "cell_type": "code",
      "execution_count": null,
      "metadata": {
        "id": "yeTrJpWuhk1R"
      },
      "outputs": [],
      "source": [
        "# Used to work with arrays and matrix data structures\n",
        "import numpy as np\n",
        "# Data manipulation and analysis tool using data structures\n",
        "import pandas as pd\n",
        "# Used to evaluate machine learning performance, by splitting dataset\n",
        "from sklearn.model_selection import train_test_split\n",
        "# Training and inference of neural networks\n",
        "import tensorflow as tf\n",
        "# Measure of variance form dependent value to independent value\n",
        "from sklearn.metrics import r2_score\n",
        "# Data visualisation\n",
        "import matplotlib.pyplot as plt\n",
        "# For solving computer vision problems\n",
        "import cv2\n",
        "# cv2 has some issues and this solves it for colab\n",
        "from google.colab.patches import cv2_imshow\n",
        "# Python Imaging library that allows for more extensive editing capabilities\n",
        "from PIL import Image, ImageChops\n",
        "# Used to retrieve files/ pathnames matching a specified pattern\n",
        "import glob\n",
        "# Get current user environment\n",
        "import os\n",
        "# Importing .CSV files\n",
        "import csv\n",
        "# Working with paths, checking if they are absolute or not (True or False)\n",
        "from pathlib import Path\n",
        "# Used to do mathematical operations easily\n",
        "import math\n",
        "\n",
        "from keras.preprocessing import image\n",
        "import matplotlib.pyplot as plt\n",
        "import tensorflow_datasets as tfds\n",
        "tfds.disable_progress_bar()"
      ]
    },
    {
      "cell_type": "markdown",
      "source": [
        "# Importing Data"
      ],
      "metadata": {
        "id": "lmaDIGBkOuDK"
      }
    },
    {
      "cell_type": "code",
      "execution_count": null,
      "metadata": {
        "id": "KPCa7ZwPA3sx",
        "colab": {
          "base_uri": "https://localhost:8080/"
        },
        "outputId": "448ee9a0-3fc0-4c5f-8551-5b7ab85787d2"
      },
      "outputs": [
        {
          "output_type": "stream",
          "name": "stdout",
          "text": [
            "    ERR1  ERR2  ERR3  ERR4  ERR5  ERR6  ERR7  ERR8  ERR9  ERR10  ERR11  ERR12  \\\n",
            "0    0.0   0.0   0.0   0.0   0.0   0.0   0.0   0.0   0.0    0.0    0.0    0.0   \n",
            "1    0.0   0.0   0.0   0.0   0.0   0.0   0.0   0.0   0.0    0.0    0.0    0.0   \n",
            "2    0.0   0.0   0.0   0.0   0.0   0.0   0.0   0.0   0.0    0.0    0.0    0.0   \n",
            "3    0.0   0.0   0.0   0.0   0.0   0.0   0.0   0.0   0.0    0.0    0.0    0.0   \n",
            "4    0.0   0.0   0.0   0.0   0.0   0.0   0.0   0.0   0.0    0.0    0.0    0.0   \n",
            "..   ...   ...   ...   ...   ...   ...   ...   ...   ...    ...    ...    ...   \n",
            "89   NaN   NaN   0.0   NaN   NaN   NaN   NaN   0.0   NaN    NaN    NaN    NaN   \n",
            "90   NaN   NaN   0.0   NaN   NaN   NaN   NaN   0.0   NaN    NaN    NaN    NaN   \n",
            "91   NaN   NaN   0.0   NaN   NaN   NaN   NaN   0.0   NaN    NaN    NaN    NaN   \n",
            "92   NaN   NaN   0.0   NaN   NaN   NaN   NaN   0.0   NaN    NaN    NaN    NaN   \n",
            "93   NaN   NaN   NaN   NaN   NaN   NaN   NaN   0.0   NaN    NaN    NaN    NaN   \n",
            "\n",
            "    ERR13  \n",
            "0     0.0  \n",
            "1     0.0  \n",
            "2     0.0  \n",
            "3     0.0  \n",
            "4     0.0  \n",
            "..    ...  \n",
            "89    0.0  \n",
            "90    NaN  \n",
            "91    NaN  \n",
            "92    NaN  \n",
            "93    NaN  \n",
            "\n",
            "[94 rows x 13 columns]\n"
          ]
        }
      ],
      "source": [
        "# Reading in the Error per Image from .xls file \n",
        "Error = pd.read_excel('Error_Per_Diff_Image_Updated.xls')\n",
        "# Printing contents of file\n",
        "print(Error)"
      ]
    },
    {
      "cell_type": "code",
      "execution_count": null,
      "metadata": {
        "id": "fyy023EKfBl0",
        "colab": {
          "base_uri": "https://localhost:8080/"
        },
        "outputId": "4afbcd08-6d62-4487-9671-6d78ce14aa1b"
      },
      "outputs": [
        {
          "output_type": "stream",
          "name": "stdout",
          "text": [
            "0.0\n",
            "0.0\n",
            "0.0\n",
            "0.0\n",
            "0.0\n",
            "0.0\n",
            "0.0\n",
            "0.0\n",
            "0.0\n",
            "0.0\n",
            "0.0\n",
            "0.0\n",
            "0.0\n",
            "0.0\n",
            "0.0\n",
            "0.0\n",
            "0.0\n",
            "0.0\n",
            "0.29576012181820144\n",
            "0.4181599527291072\n",
            "0.4806272649993289\n",
            "0.5134592450542211\n",
            "0.4445693242144531\n",
            "0.50288269135532\n",
            "0.5155906007445474\n",
            "0.4531256026498853\n",
            "0.498661635134739\n",
            "0.5079499644388356\n",
            "0.5902682746586977\n",
            "0.5460289518790334\n",
            "0.4868338838499859\n",
            "0.5137076332309439\n",
            "0.4880742819498935\n",
            "0.5501821256165349\n",
            "0.5245233184043296\n",
            "0.4890261794967131\n",
            "0.5174010574239524\n",
            "0.4897219749482782\n",
            "0.5409609074036648\n",
            "0.5739147673713588\n",
            "0.57304078040171\n",
            "0.5496020389429463\n",
            "0.5000146564452104\n",
            "0.4898816530618857\n",
            "0.4760228270277192\n",
            "0.5042943384466329\n",
            "0.5334298087411039\n",
            "0.4996605875846024\n",
            "0.514608618915454\n",
            "0.4840661298807891\n",
            "0.47467751963577964\n",
            "0.4911961047796982\n",
            "0.5315167569452266\n",
            "0.5593832876412226\n",
            "0.5481579933938002\n",
            "0.5193349367998654\n",
            "0.4799160417107003\n",
            "0.5074917576780488\n",
            "0.5560238761206395\n",
            "0.5047363459785028\n",
            "0.4739369834567303\n",
            "0.3852238347740362\n",
            "0.44553047846351085\n",
            "0.41299779844765105\n",
            "0.3798719180966986\n",
            "0.3675543329851785\n",
            "0.3176931063795649\n",
            "0.3610345290421319\n",
            "0.3143483513041922\n",
            "0.2937421607302921\n",
            "0.3064909538877378\n",
            "0.2732748206899637\n",
            "0.1973984038359774\n",
            "0.10638959299823043\n",
            "0.0\n",
            "0.0\n",
            "0.0\n",
            "0.0\n",
            "0.0\n",
            "0.0\n",
            "0.0\n",
            "0.0\n",
            "0.0\n",
            "0.0\n",
            "0.0\n",
            "0.0\n",
            "0.0\n",
            "nan\n"
          ]
        }
      ],
      "source": [
        "# Looping though and printing column of data\n",
        "for i in range(88):\n",
        "  print(Error['ERR1'][i])"
      ]
    },
    {
      "cell_type": "code",
      "execution_count": null,
      "metadata": {
        "id": "hSZxGrep-euV"
      },
      "outputs": [],
      "source": [
        "# To hold all paths to Difference Images \n",
        "Diff_Array = []\n",
        "\n",
        "# For each folder of Image Differences (Diff1 - Diff13)\n",
        "for l in range(1,14):\n",
        "  count = 0\n",
        "  \n",
        "  # Printing what Diff folder currently in\n",
        "  #print(l)\n",
        "\n",
        "  # Iterate through the Difference Image directory  \n",
        "  # To know how many files are in the current directory              \n",
        "  for path in os.listdir(f'/content/drive/MyDrive/Diff_All/Diff{l}'):\n",
        "      # Checking if current path is a file\n",
        "      if os.path.isfile(os.path.join(f'/content/drive/MyDrive/Diff_All/Diff{l}', path)):\n",
        "          # Increase count by 1\n",
        "          count += 1\n",
        "  #print(count)\n",
        "\n",
        "  # Going through each image within the current directory {l} adding each image {i} to an Error_Array\n",
        "  for i in range(1,count+1): \n",
        "      for diff_Image in glob.glob(f'/content/drive/MyDrive/Diff_All/Diff{l}/{i}.jpg'):            \n",
        "            Diff_Array.append(diff_Image)"
      ]
    },
    {
      "cell_type": "code",
      "execution_count": null,
      "metadata": {
        "id": "sSZzMQsMBgGA",
        "colab": {
          "base_uri": "https://localhost:8080/"
        },
        "outputId": "6aba592f-d7a6-4fc4-f437-2edd95575df1"
      },
      "outputs": [
        {
          "output_type": "stream",
          "name": "stdout",
          "text": [
            "['/content/drive/MyDrive/Diff_All/Diff1/1.jpg', '/content/drive/MyDrive/Diff_All/Diff1/2.jpg', '/content/drive/MyDrive/Diff_All/Diff1/3.jpg', '/content/drive/MyDrive/Diff_All/Diff1/4.jpg', '/content/drive/MyDrive/Diff_All/Diff1/5.jpg', '/content/drive/MyDrive/Diff_All/Diff1/6.jpg', '/content/drive/MyDrive/Diff_All/Diff1/7.jpg', '/content/drive/MyDrive/Diff_All/Diff1/8.jpg', '/content/drive/MyDrive/Diff_All/Diff1/9.jpg', '/content/drive/MyDrive/Diff_All/Diff1/10.jpg', '/content/drive/MyDrive/Diff_All/Diff1/11.jpg', '/content/drive/MyDrive/Diff_All/Diff1/12.jpg', '/content/drive/MyDrive/Diff_All/Diff1/13.jpg', '/content/drive/MyDrive/Diff_All/Diff1/14.jpg', '/content/drive/MyDrive/Diff_All/Diff1/15.jpg', '/content/drive/MyDrive/Diff_All/Diff1/16.jpg', '/content/drive/MyDrive/Diff_All/Diff1/17.jpg', '/content/drive/MyDrive/Diff_All/Diff1/18.jpg', '/content/drive/MyDrive/Diff_All/Diff1/19.jpg', '/content/drive/MyDrive/Diff_All/Diff1/20.jpg', '/content/drive/MyDrive/Diff_All/Diff1/21.jpg', '/content/drive/MyDrive/Diff_All/Diff1/22.jpg', '/content/drive/MyDrive/Diff_All/Diff1/23.jpg', '/content/drive/MyDrive/Diff_All/Diff1/24.jpg', '/content/drive/MyDrive/Diff_All/Diff1/25.jpg', '/content/drive/MyDrive/Diff_All/Diff1/26.jpg', '/content/drive/MyDrive/Diff_All/Diff1/27.jpg', '/content/drive/MyDrive/Diff_All/Diff1/28.jpg', '/content/drive/MyDrive/Diff_All/Diff1/29.jpg', '/content/drive/MyDrive/Diff_All/Diff1/30.jpg', '/content/drive/MyDrive/Diff_All/Diff1/31.jpg', '/content/drive/MyDrive/Diff_All/Diff1/32.jpg', '/content/drive/MyDrive/Diff_All/Diff1/33.jpg', '/content/drive/MyDrive/Diff_All/Diff1/34.jpg', '/content/drive/MyDrive/Diff_All/Diff1/35.jpg', '/content/drive/MyDrive/Diff_All/Diff1/36.jpg', '/content/drive/MyDrive/Diff_All/Diff1/37.jpg', '/content/drive/MyDrive/Diff_All/Diff1/38.jpg', '/content/drive/MyDrive/Diff_All/Diff1/39.jpg', '/content/drive/MyDrive/Diff_All/Diff1/40.jpg', '/content/drive/MyDrive/Diff_All/Diff1/41.jpg', '/content/drive/MyDrive/Diff_All/Diff1/42.jpg', '/content/drive/MyDrive/Diff_All/Diff1/43.jpg', '/content/drive/MyDrive/Diff_All/Diff1/44.jpg', '/content/drive/MyDrive/Diff_All/Diff1/45.jpg', '/content/drive/MyDrive/Diff_All/Diff1/46.jpg', '/content/drive/MyDrive/Diff_All/Diff1/47.jpg', '/content/drive/MyDrive/Diff_All/Diff1/48.jpg', '/content/drive/MyDrive/Diff_All/Diff1/49.jpg', '/content/drive/MyDrive/Diff_All/Diff1/50.jpg', '/content/drive/MyDrive/Diff_All/Diff1/51.jpg', '/content/drive/MyDrive/Diff_All/Diff1/52.jpg', '/content/drive/MyDrive/Diff_All/Diff1/53.jpg', '/content/drive/MyDrive/Diff_All/Diff1/54.jpg', '/content/drive/MyDrive/Diff_All/Diff1/55.jpg', '/content/drive/MyDrive/Diff_All/Diff1/56.jpg', '/content/drive/MyDrive/Diff_All/Diff1/57.jpg', '/content/drive/MyDrive/Diff_All/Diff1/58.jpg', '/content/drive/MyDrive/Diff_All/Diff1/59.jpg', '/content/drive/MyDrive/Diff_All/Diff1/60.jpg', '/content/drive/MyDrive/Diff_All/Diff1/61.jpg', '/content/drive/MyDrive/Diff_All/Diff1/62.jpg', '/content/drive/MyDrive/Diff_All/Diff1/63.jpg', '/content/drive/MyDrive/Diff_All/Diff1/64.jpg', '/content/drive/MyDrive/Diff_All/Diff1/65.jpg', '/content/drive/MyDrive/Diff_All/Diff1/66.jpg', '/content/drive/MyDrive/Diff_All/Diff1/67.jpg', '/content/drive/MyDrive/Diff_All/Diff1/68.jpg', '/content/drive/MyDrive/Diff_All/Diff1/69.jpg', '/content/drive/MyDrive/Diff_All/Diff1/70.jpg', '/content/drive/MyDrive/Diff_All/Diff1/71.jpg', '/content/drive/MyDrive/Diff_All/Diff1/72.jpg', '/content/drive/MyDrive/Diff_All/Diff1/73.jpg', '/content/drive/MyDrive/Diff_All/Diff1/74.jpg', '/content/drive/MyDrive/Diff_All/Diff1/75.jpg', '/content/drive/MyDrive/Diff_All/Diff1/76.jpg', '/content/drive/MyDrive/Diff_All/Diff1/77.jpg', '/content/drive/MyDrive/Diff_All/Diff1/78.jpg', '/content/drive/MyDrive/Diff_All/Diff1/79.jpg', '/content/drive/MyDrive/Diff_All/Diff1/80.jpg', '/content/drive/MyDrive/Diff_All/Diff1/81.jpg', '/content/drive/MyDrive/Diff_All/Diff1/82.jpg', '/content/drive/MyDrive/Diff_All/Diff1/83.jpg', '/content/drive/MyDrive/Diff_All/Diff1/84.jpg', '/content/drive/MyDrive/Diff_All/Diff1/85.jpg', '/content/drive/MyDrive/Diff_All/Diff1/86.jpg', '/content/drive/MyDrive/Diff_All/Diff1/87.jpg', '/content/drive/MyDrive/Diff_All/Diff2/1.jpg', '/content/drive/MyDrive/Diff_All/Diff2/2.jpg', '/content/drive/MyDrive/Diff_All/Diff2/3.jpg', '/content/drive/MyDrive/Diff_All/Diff2/4.jpg', '/content/drive/MyDrive/Diff_All/Diff2/5.jpg', '/content/drive/MyDrive/Diff_All/Diff2/6.jpg', '/content/drive/MyDrive/Diff_All/Diff2/7.jpg', '/content/drive/MyDrive/Diff_All/Diff2/8.jpg', '/content/drive/MyDrive/Diff_All/Diff2/9.jpg', '/content/drive/MyDrive/Diff_All/Diff2/10.jpg', '/content/drive/MyDrive/Diff_All/Diff2/11.jpg', '/content/drive/MyDrive/Diff_All/Diff2/12.jpg', '/content/drive/MyDrive/Diff_All/Diff2/13.jpg', '/content/drive/MyDrive/Diff_All/Diff2/14.jpg', '/content/drive/MyDrive/Diff_All/Diff2/15.jpg', '/content/drive/MyDrive/Diff_All/Diff2/16.jpg', '/content/drive/MyDrive/Diff_All/Diff2/17.jpg', '/content/drive/MyDrive/Diff_All/Diff2/18.jpg', '/content/drive/MyDrive/Diff_All/Diff2/19.jpg', '/content/drive/MyDrive/Diff_All/Diff2/20.jpg', '/content/drive/MyDrive/Diff_All/Diff2/21.jpg', '/content/drive/MyDrive/Diff_All/Diff2/22.jpg', '/content/drive/MyDrive/Diff_All/Diff2/23.jpg', '/content/drive/MyDrive/Diff_All/Diff2/24.jpg', '/content/drive/MyDrive/Diff_All/Diff2/25.jpg', '/content/drive/MyDrive/Diff_All/Diff2/26.jpg', '/content/drive/MyDrive/Diff_All/Diff2/27.jpg', '/content/drive/MyDrive/Diff_All/Diff2/28.jpg', '/content/drive/MyDrive/Diff_All/Diff2/29.jpg', '/content/drive/MyDrive/Diff_All/Diff2/30.jpg', '/content/drive/MyDrive/Diff_All/Diff2/31.jpg', '/content/drive/MyDrive/Diff_All/Diff2/32.jpg', '/content/drive/MyDrive/Diff_All/Diff2/33.jpg', '/content/drive/MyDrive/Diff_All/Diff2/34.jpg', '/content/drive/MyDrive/Diff_All/Diff2/35.jpg', '/content/drive/MyDrive/Diff_All/Diff2/36.jpg', '/content/drive/MyDrive/Diff_All/Diff2/37.jpg', '/content/drive/MyDrive/Diff_All/Diff2/38.jpg', '/content/drive/MyDrive/Diff_All/Diff2/39.jpg', '/content/drive/MyDrive/Diff_All/Diff2/40.jpg', '/content/drive/MyDrive/Diff_All/Diff2/41.jpg', '/content/drive/MyDrive/Diff_All/Diff2/42.jpg', '/content/drive/MyDrive/Diff_All/Diff2/43.jpg', '/content/drive/MyDrive/Diff_All/Diff2/44.jpg', '/content/drive/MyDrive/Diff_All/Diff2/45.jpg', '/content/drive/MyDrive/Diff_All/Diff2/46.jpg', '/content/drive/MyDrive/Diff_All/Diff2/47.jpg', '/content/drive/MyDrive/Diff_All/Diff2/48.jpg', '/content/drive/MyDrive/Diff_All/Diff2/49.jpg', '/content/drive/MyDrive/Diff_All/Diff2/50.jpg', '/content/drive/MyDrive/Diff_All/Diff2/51.jpg', '/content/drive/MyDrive/Diff_All/Diff2/52.jpg', '/content/drive/MyDrive/Diff_All/Diff2/53.jpg', '/content/drive/MyDrive/Diff_All/Diff2/54.jpg', '/content/drive/MyDrive/Diff_All/Diff2/55.jpg', '/content/drive/MyDrive/Diff_All/Diff2/56.jpg', '/content/drive/MyDrive/Diff_All/Diff2/57.jpg', '/content/drive/MyDrive/Diff_All/Diff2/58.jpg', '/content/drive/MyDrive/Diff_All/Diff2/59.jpg', '/content/drive/MyDrive/Diff_All/Diff2/60.jpg', '/content/drive/MyDrive/Diff_All/Diff2/61.jpg', '/content/drive/MyDrive/Diff_All/Diff2/62.jpg', '/content/drive/MyDrive/Diff_All/Diff2/63.jpg', '/content/drive/MyDrive/Diff_All/Diff2/64.jpg', '/content/drive/MyDrive/Diff_All/Diff2/65.jpg', '/content/drive/MyDrive/Diff_All/Diff2/66.jpg', '/content/drive/MyDrive/Diff_All/Diff2/67.jpg', '/content/drive/MyDrive/Diff_All/Diff2/68.jpg', '/content/drive/MyDrive/Diff_All/Diff2/69.jpg', '/content/drive/MyDrive/Diff_All/Diff2/70.jpg', '/content/drive/MyDrive/Diff_All/Diff2/71.jpg', '/content/drive/MyDrive/Diff_All/Diff2/72.jpg', '/content/drive/MyDrive/Diff_All/Diff2/73.jpg', '/content/drive/MyDrive/Diff_All/Diff2/74.jpg', '/content/drive/MyDrive/Diff_All/Diff2/75.jpg', '/content/drive/MyDrive/Diff_All/Diff2/76.jpg', '/content/drive/MyDrive/Diff_All/Diff2/77.jpg', '/content/drive/MyDrive/Diff_All/Diff2/78.jpg', '/content/drive/MyDrive/Diff_All/Diff2/79.jpg', '/content/drive/MyDrive/Diff_All/Diff2/80.jpg', '/content/drive/MyDrive/Diff_All/Diff2/81.jpg', '/content/drive/MyDrive/Diff_All/Diff3/1.jpg', '/content/drive/MyDrive/Diff_All/Diff3/2.jpg', '/content/drive/MyDrive/Diff_All/Diff3/3.jpg', '/content/drive/MyDrive/Diff_All/Diff3/4.jpg', '/content/drive/MyDrive/Diff_All/Diff3/5.jpg', '/content/drive/MyDrive/Diff_All/Diff3/6.jpg', '/content/drive/MyDrive/Diff_All/Diff3/7.jpg', '/content/drive/MyDrive/Diff_All/Diff3/8.jpg', '/content/drive/MyDrive/Diff_All/Diff3/9.jpg', '/content/drive/MyDrive/Diff_All/Diff3/10.jpg', '/content/drive/MyDrive/Diff_All/Diff3/11.jpg', '/content/drive/MyDrive/Diff_All/Diff3/12.jpg', '/content/drive/MyDrive/Diff_All/Diff3/13.jpg', '/content/drive/MyDrive/Diff_All/Diff3/14.jpg', '/content/drive/MyDrive/Diff_All/Diff3/15.jpg', '/content/drive/MyDrive/Diff_All/Diff3/16.jpg', '/content/drive/MyDrive/Diff_All/Diff3/17.jpg', '/content/drive/MyDrive/Diff_All/Diff3/18.jpg', '/content/drive/MyDrive/Diff_All/Diff3/19.jpg', '/content/drive/MyDrive/Diff_All/Diff3/20.jpg', '/content/drive/MyDrive/Diff_All/Diff3/21.jpg', '/content/drive/MyDrive/Diff_All/Diff3/22.jpg', '/content/drive/MyDrive/Diff_All/Diff3/23.jpg', '/content/drive/MyDrive/Diff_All/Diff3/24.jpg', '/content/drive/MyDrive/Diff_All/Diff3/25.jpg', '/content/drive/MyDrive/Diff_All/Diff3/26.jpg', '/content/drive/MyDrive/Diff_All/Diff3/27.jpg', '/content/drive/MyDrive/Diff_All/Diff3/28.jpg', '/content/drive/MyDrive/Diff_All/Diff3/29.jpg', '/content/drive/MyDrive/Diff_All/Diff3/30.jpg', '/content/drive/MyDrive/Diff_All/Diff3/31.jpg', '/content/drive/MyDrive/Diff_All/Diff3/32.jpg', '/content/drive/MyDrive/Diff_All/Diff3/33.jpg', '/content/drive/MyDrive/Diff_All/Diff3/34.jpg', '/content/drive/MyDrive/Diff_All/Diff3/35.jpg', '/content/drive/MyDrive/Diff_All/Diff3/36.jpg', '/content/drive/MyDrive/Diff_All/Diff3/37.jpg', '/content/drive/MyDrive/Diff_All/Diff3/38.jpg', '/content/drive/MyDrive/Diff_All/Diff3/39.jpg', '/content/drive/MyDrive/Diff_All/Diff3/40.jpg', '/content/drive/MyDrive/Diff_All/Diff3/41.jpg', '/content/drive/MyDrive/Diff_All/Diff3/42.jpg', '/content/drive/MyDrive/Diff_All/Diff3/43.jpg', '/content/drive/MyDrive/Diff_All/Diff3/44.jpg', '/content/drive/MyDrive/Diff_All/Diff3/45.jpg', '/content/drive/MyDrive/Diff_All/Diff3/46.jpg', '/content/drive/MyDrive/Diff_All/Diff3/47.jpg', '/content/drive/MyDrive/Diff_All/Diff3/48.jpg', '/content/drive/MyDrive/Diff_All/Diff3/49.jpg', '/content/drive/MyDrive/Diff_All/Diff3/50.jpg', '/content/drive/MyDrive/Diff_All/Diff3/51.jpg', '/content/drive/MyDrive/Diff_All/Diff3/52.jpg', '/content/drive/MyDrive/Diff_All/Diff3/53.jpg', '/content/drive/MyDrive/Diff_All/Diff3/54.jpg', '/content/drive/MyDrive/Diff_All/Diff3/55.jpg', '/content/drive/MyDrive/Diff_All/Diff3/56.jpg', '/content/drive/MyDrive/Diff_All/Diff3/57.jpg', '/content/drive/MyDrive/Diff_All/Diff3/58.jpg', '/content/drive/MyDrive/Diff_All/Diff3/59.jpg', '/content/drive/MyDrive/Diff_All/Diff3/60.jpg', '/content/drive/MyDrive/Diff_All/Diff3/61.jpg', '/content/drive/MyDrive/Diff_All/Diff3/62.jpg', '/content/drive/MyDrive/Diff_All/Diff3/63.jpg', '/content/drive/MyDrive/Diff_All/Diff3/64.jpg', '/content/drive/MyDrive/Diff_All/Diff3/65.jpg', '/content/drive/MyDrive/Diff_All/Diff3/66.jpg', '/content/drive/MyDrive/Diff_All/Diff3/67.jpg', '/content/drive/MyDrive/Diff_All/Diff3/68.jpg', '/content/drive/MyDrive/Diff_All/Diff3/69.jpg', '/content/drive/MyDrive/Diff_All/Diff3/70.jpg', '/content/drive/MyDrive/Diff_All/Diff3/71.jpg', '/content/drive/MyDrive/Diff_All/Diff3/72.jpg', '/content/drive/MyDrive/Diff_All/Diff3/73.jpg', '/content/drive/MyDrive/Diff_All/Diff3/74.jpg', '/content/drive/MyDrive/Diff_All/Diff3/75.jpg', '/content/drive/MyDrive/Diff_All/Diff3/76.jpg', '/content/drive/MyDrive/Diff_All/Diff3/77.jpg', '/content/drive/MyDrive/Diff_All/Diff3/78.jpg', '/content/drive/MyDrive/Diff_All/Diff3/79.jpg', '/content/drive/MyDrive/Diff_All/Diff3/80.jpg', '/content/drive/MyDrive/Diff_All/Diff3/81.jpg', '/content/drive/MyDrive/Diff_All/Diff3/82.jpg', '/content/drive/MyDrive/Diff_All/Diff3/83.jpg', '/content/drive/MyDrive/Diff_All/Diff3/84.jpg', '/content/drive/MyDrive/Diff_All/Diff3/85.jpg', '/content/drive/MyDrive/Diff_All/Diff3/86.jpg', '/content/drive/MyDrive/Diff_All/Diff3/87.jpg', '/content/drive/MyDrive/Diff_All/Diff3/88.jpg', '/content/drive/MyDrive/Diff_All/Diff3/89.jpg', '/content/drive/MyDrive/Diff_All/Diff3/90.jpg', '/content/drive/MyDrive/Diff_All/Diff3/91.jpg', '/content/drive/MyDrive/Diff_All/Diff3/92.jpg', '/content/drive/MyDrive/Diff_All/Diff3/93.jpg', '/content/drive/MyDrive/Diff_All/Diff4/1.jpg', '/content/drive/MyDrive/Diff_All/Diff4/2.jpg', '/content/drive/MyDrive/Diff_All/Diff4/3.jpg', '/content/drive/MyDrive/Diff_All/Diff4/4.jpg', '/content/drive/MyDrive/Diff_All/Diff4/5.jpg', '/content/drive/MyDrive/Diff_All/Diff4/6.jpg', '/content/drive/MyDrive/Diff_All/Diff4/7.jpg', '/content/drive/MyDrive/Diff_All/Diff4/8.jpg', '/content/drive/MyDrive/Diff_All/Diff4/9.jpg', '/content/drive/MyDrive/Diff_All/Diff4/10.jpg', '/content/drive/MyDrive/Diff_All/Diff4/11.jpg', '/content/drive/MyDrive/Diff_All/Diff4/12.jpg', '/content/drive/MyDrive/Diff_All/Diff4/13.jpg', '/content/drive/MyDrive/Diff_All/Diff4/14.jpg', '/content/drive/MyDrive/Diff_All/Diff4/15.jpg', '/content/drive/MyDrive/Diff_All/Diff4/16.jpg', '/content/drive/MyDrive/Diff_All/Diff4/17.jpg', '/content/drive/MyDrive/Diff_All/Diff4/18.jpg', '/content/drive/MyDrive/Diff_All/Diff4/19.jpg', '/content/drive/MyDrive/Diff_All/Diff4/20.jpg', '/content/drive/MyDrive/Diff_All/Diff4/21.jpg', '/content/drive/MyDrive/Diff_All/Diff4/22.jpg', '/content/drive/MyDrive/Diff_All/Diff4/23.jpg', '/content/drive/MyDrive/Diff_All/Diff4/24.jpg', '/content/drive/MyDrive/Diff_All/Diff4/25.jpg', '/content/drive/MyDrive/Diff_All/Diff4/26.jpg', '/content/drive/MyDrive/Diff_All/Diff4/27.jpg', '/content/drive/MyDrive/Diff_All/Diff4/28.jpg', '/content/drive/MyDrive/Diff_All/Diff4/29.jpg', '/content/drive/MyDrive/Diff_All/Diff4/30.jpg', '/content/drive/MyDrive/Diff_All/Diff4/31.jpg', '/content/drive/MyDrive/Diff_All/Diff4/32.jpg', '/content/drive/MyDrive/Diff_All/Diff4/33.jpg', '/content/drive/MyDrive/Diff_All/Diff4/34.jpg', '/content/drive/MyDrive/Diff_All/Diff4/35.jpg', '/content/drive/MyDrive/Diff_All/Diff4/36.jpg', '/content/drive/MyDrive/Diff_All/Diff4/37.jpg', '/content/drive/MyDrive/Diff_All/Diff4/38.jpg', '/content/drive/MyDrive/Diff_All/Diff4/39.jpg', '/content/drive/MyDrive/Diff_All/Diff4/40.jpg', '/content/drive/MyDrive/Diff_All/Diff4/41.jpg', '/content/drive/MyDrive/Diff_All/Diff4/42.jpg', '/content/drive/MyDrive/Diff_All/Diff4/43.jpg', '/content/drive/MyDrive/Diff_All/Diff4/44.jpg', '/content/drive/MyDrive/Diff_All/Diff4/45.jpg', '/content/drive/MyDrive/Diff_All/Diff4/46.jpg', '/content/drive/MyDrive/Diff_All/Diff4/47.jpg', '/content/drive/MyDrive/Diff_All/Diff4/48.jpg', '/content/drive/MyDrive/Diff_All/Diff4/49.jpg', '/content/drive/MyDrive/Diff_All/Diff4/50.jpg', '/content/drive/MyDrive/Diff_All/Diff4/51.jpg', '/content/drive/MyDrive/Diff_All/Diff4/52.jpg', '/content/drive/MyDrive/Diff_All/Diff4/53.jpg', '/content/drive/MyDrive/Diff_All/Diff4/54.jpg', '/content/drive/MyDrive/Diff_All/Diff4/55.jpg', '/content/drive/MyDrive/Diff_All/Diff4/56.jpg', '/content/drive/MyDrive/Diff_All/Diff4/57.jpg', '/content/drive/MyDrive/Diff_All/Diff4/58.jpg', '/content/drive/MyDrive/Diff_All/Diff4/59.jpg', '/content/drive/MyDrive/Diff_All/Diff4/60.jpg', '/content/drive/MyDrive/Diff_All/Diff4/61.jpg', '/content/drive/MyDrive/Diff_All/Diff4/62.jpg', '/content/drive/MyDrive/Diff_All/Diff4/63.jpg', '/content/drive/MyDrive/Diff_All/Diff4/64.jpg', '/content/drive/MyDrive/Diff_All/Diff4/65.jpg', '/content/drive/MyDrive/Diff_All/Diff4/66.jpg', '/content/drive/MyDrive/Diff_All/Diff4/67.jpg', '/content/drive/MyDrive/Diff_All/Diff4/68.jpg', '/content/drive/MyDrive/Diff_All/Diff4/69.jpg', '/content/drive/MyDrive/Diff_All/Diff4/70.jpg', '/content/drive/MyDrive/Diff_All/Diff4/71.jpg', '/content/drive/MyDrive/Diff_All/Diff4/72.jpg', '/content/drive/MyDrive/Diff_All/Diff4/73.jpg', '/content/drive/MyDrive/Diff_All/Diff4/74.jpg', '/content/drive/MyDrive/Diff_All/Diff4/75.jpg', '/content/drive/MyDrive/Diff_All/Diff4/76.jpg', '/content/drive/MyDrive/Diff_All/Diff4/77.jpg', '/content/drive/MyDrive/Diff_All/Diff4/78.jpg', '/content/drive/MyDrive/Diff_All/Diff4/79.jpg', '/content/drive/MyDrive/Diff_All/Diff4/80.jpg', '/content/drive/MyDrive/Diff_All/Diff4/81.jpg', '/content/drive/MyDrive/Diff_All/Diff4/82.jpg', '/content/drive/MyDrive/Diff_All/Diff4/83.jpg', '/content/drive/MyDrive/Diff_All/Diff5/1.jpg', '/content/drive/MyDrive/Diff_All/Diff5/2.jpg', '/content/drive/MyDrive/Diff_All/Diff5/3.jpg', '/content/drive/MyDrive/Diff_All/Diff5/4.jpg', '/content/drive/MyDrive/Diff_All/Diff5/5.jpg', '/content/drive/MyDrive/Diff_All/Diff5/6.jpg', '/content/drive/MyDrive/Diff_All/Diff5/7.jpg', '/content/drive/MyDrive/Diff_All/Diff5/8.jpg', '/content/drive/MyDrive/Diff_All/Diff5/9.jpg', '/content/drive/MyDrive/Diff_All/Diff5/10.jpg', '/content/drive/MyDrive/Diff_All/Diff5/11.jpg', '/content/drive/MyDrive/Diff_All/Diff5/12.jpg', '/content/drive/MyDrive/Diff_All/Diff5/13.jpg', '/content/drive/MyDrive/Diff_All/Diff5/14.jpg', '/content/drive/MyDrive/Diff_All/Diff5/15.jpg', '/content/drive/MyDrive/Diff_All/Diff5/16.jpg', '/content/drive/MyDrive/Diff_All/Diff5/17.jpg', '/content/drive/MyDrive/Diff_All/Diff5/18.jpg', '/content/drive/MyDrive/Diff_All/Diff5/19.jpg', '/content/drive/MyDrive/Diff_All/Diff5/20.jpg', '/content/drive/MyDrive/Diff_All/Diff5/21.jpg', '/content/drive/MyDrive/Diff_All/Diff5/22.jpg', '/content/drive/MyDrive/Diff_All/Diff5/23.jpg', '/content/drive/MyDrive/Diff_All/Diff5/24.jpg', '/content/drive/MyDrive/Diff_All/Diff5/25.jpg', '/content/drive/MyDrive/Diff_All/Diff5/26.jpg', '/content/drive/MyDrive/Diff_All/Diff5/27.jpg', '/content/drive/MyDrive/Diff_All/Diff5/28.jpg', '/content/drive/MyDrive/Diff_All/Diff5/29.jpg', '/content/drive/MyDrive/Diff_All/Diff5/30.jpg', '/content/drive/MyDrive/Diff_All/Diff5/31.jpg', '/content/drive/MyDrive/Diff_All/Diff5/32.jpg', '/content/drive/MyDrive/Diff_All/Diff5/33.jpg', '/content/drive/MyDrive/Diff_All/Diff5/34.jpg', '/content/drive/MyDrive/Diff_All/Diff5/35.jpg', '/content/drive/MyDrive/Diff_All/Diff5/36.jpg', '/content/drive/MyDrive/Diff_All/Diff5/37.jpg', '/content/drive/MyDrive/Diff_All/Diff5/38.jpg', '/content/drive/MyDrive/Diff_All/Diff5/39.jpg', '/content/drive/MyDrive/Diff_All/Diff5/40.jpg', '/content/drive/MyDrive/Diff_All/Diff5/41.jpg', '/content/drive/MyDrive/Diff_All/Diff5/42.jpg', '/content/drive/MyDrive/Diff_All/Diff5/43.jpg', '/content/drive/MyDrive/Diff_All/Diff5/44.jpg', '/content/drive/MyDrive/Diff_All/Diff5/45.jpg', '/content/drive/MyDrive/Diff_All/Diff5/46.jpg', '/content/drive/MyDrive/Diff_All/Diff5/47.jpg', '/content/drive/MyDrive/Diff_All/Diff5/48.jpg', '/content/drive/MyDrive/Diff_All/Diff5/49.jpg', '/content/drive/MyDrive/Diff_All/Diff5/50.jpg', '/content/drive/MyDrive/Diff_All/Diff5/51.jpg', '/content/drive/MyDrive/Diff_All/Diff5/52.jpg', '/content/drive/MyDrive/Diff_All/Diff5/53.jpg', '/content/drive/MyDrive/Diff_All/Diff5/54.jpg', '/content/drive/MyDrive/Diff_All/Diff5/55.jpg', '/content/drive/MyDrive/Diff_All/Diff5/56.jpg', '/content/drive/MyDrive/Diff_All/Diff5/57.jpg', '/content/drive/MyDrive/Diff_All/Diff5/58.jpg', '/content/drive/MyDrive/Diff_All/Diff5/59.jpg', '/content/drive/MyDrive/Diff_All/Diff5/60.jpg', '/content/drive/MyDrive/Diff_All/Diff5/61.jpg', '/content/drive/MyDrive/Diff_All/Diff5/62.jpg', '/content/drive/MyDrive/Diff_All/Diff5/63.jpg', '/content/drive/MyDrive/Diff_All/Diff5/64.jpg', '/content/drive/MyDrive/Diff_All/Diff5/65.jpg', '/content/drive/MyDrive/Diff_All/Diff5/66.jpg', '/content/drive/MyDrive/Diff_All/Diff5/67.jpg', '/content/drive/MyDrive/Diff_All/Diff5/68.jpg', '/content/drive/MyDrive/Diff_All/Diff5/69.jpg', '/content/drive/MyDrive/Diff_All/Diff5/70.jpg', '/content/drive/MyDrive/Diff_All/Diff5/71.jpg', '/content/drive/MyDrive/Diff_All/Diff5/72.jpg', '/content/drive/MyDrive/Diff_All/Diff5/73.jpg', '/content/drive/MyDrive/Diff_All/Diff5/74.jpg', '/content/drive/MyDrive/Diff_All/Diff5/75.jpg', '/content/drive/MyDrive/Diff_All/Diff5/76.jpg', '/content/drive/MyDrive/Diff_All/Diff5/77.jpg', '/content/drive/MyDrive/Diff_All/Diff6/1.jpg', '/content/drive/MyDrive/Diff_All/Diff6/2.jpg', '/content/drive/MyDrive/Diff_All/Diff6/3.jpg', '/content/drive/MyDrive/Diff_All/Diff6/4.jpg', '/content/drive/MyDrive/Diff_All/Diff6/5.jpg', '/content/drive/MyDrive/Diff_All/Diff6/6.jpg', '/content/drive/MyDrive/Diff_All/Diff6/7.jpg', '/content/drive/MyDrive/Diff_All/Diff6/8.jpg', '/content/drive/MyDrive/Diff_All/Diff6/9.jpg', '/content/drive/MyDrive/Diff_All/Diff6/10.jpg', '/content/drive/MyDrive/Diff_All/Diff6/11.jpg', '/content/drive/MyDrive/Diff_All/Diff6/12.jpg', '/content/drive/MyDrive/Diff_All/Diff6/13.jpg', '/content/drive/MyDrive/Diff_All/Diff6/14.jpg', '/content/drive/MyDrive/Diff_All/Diff6/15.jpg', '/content/drive/MyDrive/Diff_All/Diff6/16.jpg', '/content/drive/MyDrive/Diff_All/Diff6/17.jpg', '/content/drive/MyDrive/Diff_All/Diff6/18.jpg', '/content/drive/MyDrive/Diff_All/Diff6/19.jpg', '/content/drive/MyDrive/Diff_All/Diff6/20.jpg', '/content/drive/MyDrive/Diff_All/Diff6/21.jpg', '/content/drive/MyDrive/Diff_All/Diff6/22.jpg', '/content/drive/MyDrive/Diff_All/Diff6/23.jpg', '/content/drive/MyDrive/Diff_All/Diff6/24.jpg', '/content/drive/MyDrive/Diff_All/Diff6/25.jpg', '/content/drive/MyDrive/Diff_All/Diff6/26.jpg', '/content/drive/MyDrive/Diff_All/Diff6/27.jpg', '/content/drive/MyDrive/Diff_All/Diff6/28.jpg', '/content/drive/MyDrive/Diff_All/Diff6/29.jpg', '/content/drive/MyDrive/Diff_All/Diff6/30.jpg', '/content/drive/MyDrive/Diff_All/Diff6/31.jpg', '/content/drive/MyDrive/Diff_All/Diff6/32.jpg', '/content/drive/MyDrive/Diff_All/Diff6/33.jpg', '/content/drive/MyDrive/Diff_All/Diff6/34.jpg', '/content/drive/MyDrive/Diff_All/Diff6/35.jpg', '/content/drive/MyDrive/Diff_All/Diff6/36.jpg', '/content/drive/MyDrive/Diff_All/Diff6/37.jpg', '/content/drive/MyDrive/Diff_All/Diff6/38.jpg', '/content/drive/MyDrive/Diff_All/Diff6/39.jpg', '/content/drive/MyDrive/Diff_All/Diff6/40.jpg', '/content/drive/MyDrive/Diff_All/Diff6/41.jpg', '/content/drive/MyDrive/Diff_All/Diff6/42.jpg', '/content/drive/MyDrive/Diff_All/Diff6/43.jpg', '/content/drive/MyDrive/Diff_All/Diff6/44.jpg', '/content/drive/MyDrive/Diff_All/Diff6/45.jpg', '/content/drive/MyDrive/Diff_All/Diff6/46.jpg', '/content/drive/MyDrive/Diff_All/Diff6/47.jpg', '/content/drive/MyDrive/Diff_All/Diff6/48.jpg', '/content/drive/MyDrive/Diff_All/Diff6/49.jpg', '/content/drive/MyDrive/Diff_All/Diff6/50.jpg', '/content/drive/MyDrive/Diff_All/Diff6/51.jpg', '/content/drive/MyDrive/Diff_All/Diff6/52.jpg', '/content/drive/MyDrive/Diff_All/Diff6/53.jpg', '/content/drive/MyDrive/Diff_All/Diff6/54.jpg', '/content/drive/MyDrive/Diff_All/Diff6/55.jpg', '/content/drive/MyDrive/Diff_All/Diff6/56.jpg', '/content/drive/MyDrive/Diff_All/Diff6/57.jpg', '/content/drive/MyDrive/Diff_All/Diff6/58.jpg', '/content/drive/MyDrive/Diff_All/Diff6/59.jpg', '/content/drive/MyDrive/Diff_All/Diff6/60.jpg', '/content/drive/MyDrive/Diff_All/Diff6/61.jpg', '/content/drive/MyDrive/Diff_All/Diff6/62.jpg', '/content/drive/MyDrive/Diff_All/Diff6/63.jpg', '/content/drive/MyDrive/Diff_All/Diff6/64.jpg', '/content/drive/MyDrive/Diff_All/Diff6/65.jpg', '/content/drive/MyDrive/Diff_All/Diff6/66.jpg', '/content/drive/MyDrive/Diff_All/Diff6/67.jpg', '/content/drive/MyDrive/Diff_All/Diff6/68.jpg', '/content/drive/MyDrive/Diff_All/Diff6/69.jpg', '/content/drive/MyDrive/Diff_All/Diff6/70.jpg', '/content/drive/MyDrive/Diff_All/Diff6/71.jpg', '/content/drive/MyDrive/Diff_All/Diff6/72.jpg', '/content/drive/MyDrive/Diff_All/Diff6/73.jpg', '/content/drive/MyDrive/Diff_All/Diff6/74.jpg', '/content/drive/MyDrive/Diff_All/Diff6/75.jpg', '/content/drive/MyDrive/Diff_All/Diff6/76.jpg', '/content/drive/MyDrive/Diff_All/Diff6/77.jpg', '/content/drive/MyDrive/Diff_All/Diff7/1.jpg', '/content/drive/MyDrive/Diff_All/Diff7/2.jpg', '/content/drive/MyDrive/Diff_All/Diff7/3.jpg', '/content/drive/MyDrive/Diff_All/Diff7/4.jpg', '/content/drive/MyDrive/Diff_All/Diff7/5.jpg', '/content/drive/MyDrive/Diff_All/Diff7/6.jpg', '/content/drive/MyDrive/Diff_All/Diff7/7.jpg', '/content/drive/MyDrive/Diff_All/Diff7/8.jpg', '/content/drive/MyDrive/Diff_All/Diff7/9.jpg', '/content/drive/MyDrive/Diff_All/Diff7/10.jpg', '/content/drive/MyDrive/Diff_All/Diff7/11.jpg', '/content/drive/MyDrive/Diff_All/Diff7/12.jpg', '/content/drive/MyDrive/Diff_All/Diff7/13.jpg', '/content/drive/MyDrive/Diff_All/Diff7/14.jpg', '/content/drive/MyDrive/Diff_All/Diff7/15.jpg', '/content/drive/MyDrive/Diff_All/Diff7/16.jpg', '/content/drive/MyDrive/Diff_All/Diff7/17.jpg', '/content/drive/MyDrive/Diff_All/Diff7/18.jpg', '/content/drive/MyDrive/Diff_All/Diff7/19.jpg', '/content/drive/MyDrive/Diff_All/Diff7/20.jpg', '/content/drive/MyDrive/Diff_All/Diff7/21.jpg', '/content/drive/MyDrive/Diff_All/Diff7/22.jpg', '/content/drive/MyDrive/Diff_All/Diff7/23.jpg', '/content/drive/MyDrive/Diff_All/Diff7/24.jpg', '/content/drive/MyDrive/Diff_All/Diff7/25.jpg', '/content/drive/MyDrive/Diff_All/Diff7/26.jpg', '/content/drive/MyDrive/Diff_All/Diff7/27.jpg', '/content/drive/MyDrive/Diff_All/Diff7/28.jpg', '/content/drive/MyDrive/Diff_All/Diff7/29.jpg', '/content/drive/MyDrive/Diff_All/Diff7/30.jpg', '/content/drive/MyDrive/Diff_All/Diff7/31.jpg', '/content/drive/MyDrive/Diff_All/Diff7/32.jpg', '/content/drive/MyDrive/Diff_All/Diff7/33.jpg', '/content/drive/MyDrive/Diff_All/Diff7/34.jpg', '/content/drive/MyDrive/Diff_All/Diff7/35.jpg', '/content/drive/MyDrive/Diff_All/Diff7/36.jpg', '/content/drive/MyDrive/Diff_All/Diff7/37.jpg', '/content/drive/MyDrive/Diff_All/Diff7/38.jpg', '/content/drive/MyDrive/Diff_All/Diff7/39.jpg', '/content/drive/MyDrive/Diff_All/Diff7/40.jpg', '/content/drive/MyDrive/Diff_All/Diff7/41.jpg', '/content/drive/MyDrive/Diff_All/Diff7/42.jpg', '/content/drive/MyDrive/Diff_All/Diff7/43.jpg', '/content/drive/MyDrive/Diff_All/Diff7/44.jpg', '/content/drive/MyDrive/Diff_All/Diff7/45.jpg', '/content/drive/MyDrive/Diff_All/Diff7/46.jpg', '/content/drive/MyDrive/Diff_All/Diff7/47.jpg', '/content/drive/MyDrive/Diff_All/Diff7/48.jpg', '/content/drive/MyDrive/Diff_All/Diff7/49.jpg', '/content/drive/MyDrive/Diff_All/Diff7/50.jpg', '/content/drive/MyDrive/Diff_All/Diff7/51.jpg', '/content/drive/MyDrive/Diff_All/Diff7/52.jpg', '/content/drive/MyDrive/Diff_All/Diff7/53.jpg', '/content/drive/MyDrive/Diff_All/Diff7/54.jpg', '/content/drive/MyDrive/Diff_All/Diff7/55.jpg', '/content/drive/MyDrive/Diff_All/Diff7/56.jpg', '/content/drive/MyDrive/Diff_All/Diff7/57.jpg', '/content/drive/MyDrive/Diff_All/Diff7/58.jpg', '/content/drive/MyDrive/Diff_All/Diff7/59.jpg', '/content/drive/MyDrive/Diff_All/Diff7/60.jpg', '/content/drive/MyDrive/Diff_All/Diff7/61.jpg', '/content/drive/MyDrive/Diff_All/Diff7/62.jpg', '/content/drive/MyDrive/Diff_All/Diff7/63.jpg', '/content/drive/MyDrive/Diff_All/Diff7/64.jpg', '/content/drive/MyDrive/Diff_All/Diff7/65.jpg', '/content/drive/MyDrive/Diff_All/Diff7/66.jpg', '/content/drive/MyDrive/Diff_All/Diff7/67.jpg', '/content/drive/MyDrive/Diff_All/Diff7/68.jpg', '/content/drive/MyDrive/Diff_All/Diff7/69.jpg', '/content/drive/MyDrive/Diff_All/Diff7/70.jpg', '/content/drive/MyDrive/Diff_All/Diff7/71.jpg', '/content/drive/MyDrive/Diff_All/Diff7/72.jpg', '/content/drive/MyDrive/Diff_All/Diff7/73.jpg', '/content/drive/MyDrive/Diff_All/Diff7/74.jpg', '/content/drive/MyDrive/Diff_All/Diff7/75.jpg', '/content/drive/MyDrive/Diff_All/Diff7/76.jpg', '/content/drive/MyDrive/Diff_All/Diff7/77.jpg', '/content/drive/MyDrive/Diff_All/Diff7/78.jpg', '/content/drive/MyDrive/Diff_All/Diff7/79.jpg', '/content/drive/MyDrive/Diff_All/Diff8/1.jpg', '/content/drive/MyDrive/Diff_All/Diff8/2.jpg', '/content/drive/MyDrive/Diff_All/Diff8/3.jpg', '/content/drive/MyDrive/Diff_All/Diff8/4.jpg', '/content/drive/MyDrive/Diff_All/Diff8/5.jpg', '/content/drive/MyDrive/Diff_All/Diff8/6.jpg', '/content/drive/MyDrive/Diff_All/Diff8/7.jpg', '/content/drive/MyDrive/Diff_All/Diff8/8.jpg', '/content/drive/MyDrive/Diff_All/Diff8/9.jpg', '/content/drive/MyDrive/Diff_All/Diff8/10.jpg', '/content/drive/MyDrive/Diff_All/Diff8/11.jpg', '/content/drive/MyDrive/Diff_All/Diff8/12.jpg', '/content/drive/MyDrive/Diff_All/Diff8/13.jpg', '/content/drive/MyDrive/Diff_All/Diff8/14.jpg', '/content/drive/MyDrive/Diff_All/Diff8/15.jpg', '/content/drive/MyDrive/Diff_All/Diff8/16.jpg', '/content/drive/MyDrive/Diff_All/Diff8/17.jpg', '/content/drive/MyDrive/Diff_All/Diff8/18.jpg', '/content/drive/MyDrive/Diff_All/Diff8/19.jpg', '/content/drive/MyDrive/Diff_All/Diff8/20.jpg', '/content/drive/MyDrive/Diff_All/Diff8/21.jpg', '/content/drive/MyDrive/Diff_All/Diff8/22.jpg', '/content/drive/MyDrive/Diff_All/Diff8/23.jpg', '/content/drive/MyDrive/Diff_All/Diff8/24.jpg', '/content/drive/MyDrive/Diff_All/Diff8/25.jpg', '/content/drive/MyDrive/Diff_All/Diff8/26.jpg', '/content/drive/MyDrive/Diff_All/Diff8/27.jpg', '/content/drive/MyDrive/Diff_All/Diff8/28.jpg', '/content/drive/MyDrive/Diff_All/Diff8/29.jpg', '/content/drive/MyDrive/Diff_All/Diff8/30.jpg', '/content/drive/MyDrive/Diff_All/Diff8/31.jpg', '/content/drive/MyDrive/Diff_All/Diff8/32.jpg', '/content/drive/MyDrive/Diff_All/Diff8/33.jpg', '/content/drive/MyDrive/Diff_All/Diff8/34.jpg', '/content/drive/MyDrive/Diff_All/Diff8/35.jpg', '/content/drive/MyDrive/Diff_All/Diff8/36.jpg', '/content/drive/MyDrive/Diff_All/Diff8/37.jpg', '/content/drive/MyDrive/Diff_All/Diff8/38.jpg', '/content/drive/MyDrive/Diff_All/Diff8/39.jpg', '/content/drive/MyDrive/Diff_All/Diff8/40.jpg', '/content/drive/MyDrive/Diff_All/Diff8/41.jpg', '/content/drive/MyDrive/Diff_All/Diff8/42.jpg', '/content/drive/MyDrive/Diff_All/Diff8/43.jpg', '/content/drive/MyDrive/Diff_All/Diff8/44.jpg', '/content/drive/MyDrive/Diff_All/Diff8/45.jpg', '/content/drive/MyDrive/Diff_All/Diff8/46.jpg', '/content/drive/MyDrive/Diff_All/Diff8/47.jpg', '/content/drive/MyDrive/Diff_All/Diff8/48.jpg', '/content/drive/MyDrive/Diff_All/Diff8/49.jpg', '/content/drive/MyDrive/Diff_All/Diff8/50.jpg', '/content/drive/MyDrive/Diff_All/Diff8/51.jpg', '/content/drive/MyDrive/Diff_All/Diff8/52.jpg', '/content/drive/MyDrive/Diff_All/Diff8/53.jpg', '/content/drive/MyDrive/Diff_All/Diff8/54.jpg', '/content/drive/MyDrive/Diff_All/Diff8/55.jpg', '/content/drive/MyDrive/Diff_All/Diff8/56.jpg', '/content/drive/MyDrive/Diff_All/Diff8/57.jpg', '/content/drive/MyDrive/Diff_All/Diff8/58.jpg', '/content/drive/MyDrive/Diff_All/Diff8/59.jpg', '/content/drive/MyDrive/Diff_All/Diff8/60.jpg', '/content/drive/MyDrive/Diff_All/Diff8/61.jpg', '/content/drive/MyDrive/Diff_All/Diff8/62.jpg', '/content/drive/MyDrive/Diff_All/Diff8/63.jpg', '/content/drive/MyDrive/Diff_All/Diff8/64.jpg', '/content/drive/MyDrive/Diff_All/Diff8/65.jpg', '/content/drive/MyDrive/Diff_All/Diff8/66.jpg', '/content/drive/MyDrive/Diff_All/Diff8/67.jpg', '/content/drive/MyDrive/Diff_All/Diff8/68.jpg', '/content/drive/MyDrive/Diff_All/Diff8/69.jpg', '/content/drive/MyDrive/Diff_All/Diff8/70.jpg', '/content/drive/MyDrive/Diff_All/Diff8/71.jpg', '/content/drive/MyDrive/Diff_All/Diff8/72.jpg', '/content/drive/MyDrive/Diff_All/Diff8/73.jpg', '/content/drive/MyDrive/Diff_All/Diff8/74.jpg', '/content/drive/MyDrive/Diff_All/Diff8/75.jpg', '/content/drive/MyDrive/Diff_All/Diff8/76.jpg', '/content/drive/MyDrive/Diff_All/Diff8/77.jpg', '/content/drive/MyDrive/Diff_All/Diff8/78.jpg', '/content/drive/MyDrive/Diff_All/Diff8/79.jpg', '/content/drive/MyDrive/Diff_All/Diff8/80.jpg', '/content/drive/MyDrive/Diff_All/Diff8/81.jpg', '/content/drive/MyDrive/Diff_All/Diff8/82.jpg', '/content/drive/MyDrive/Diff_All/Diff8/83.jpg', '/content/drive/MyDrive/Diff_All/Diff8/84.jpg', '/content/drive/MyDrive/Diff_All/Diff8/85.jpg', '/content/drive/MyDrive/Diff_All/Diff8/86.jpg', '/content/drive/MyDrive/Diff_All/Diff8/87.jpg', '/content/drive/MyDrive/Diff_All/Diff8/88.jpg', '/content/drive/MyDrive/Diff_All/Diff8/89.jpg', '/content/drive/MyDrive/Diff_All/Diff8/90.jpg', '/content/drive/MyDrive/Diff_All/Diff8/91.jpg', '/content/drive/MyDrive/Diff_All/Diff8/92.jpg', '/content/drive/MyDrive/Diff_All/Diff8/93.jpg', '/content/drive/MyDrive/Diff_All/Diff8/94.jpg', '/content/drive/MyDrive/Diff_All/Diff9/1.jpg', '/content/drive/MyDrive/Diff_All/Diff9/2.jpg', '/content/drive/MyDrive/Diff_All/Diff9/3.jpg', '/content/drive/MyDrive/Diff_All/Diff9/4.jpg', '/content/drive/MyDrive/Diff_All/Diff9/5.jpg', '/content/drive/MyDrive/Diff_All/Diff9/6.jpg', '/content/drive/MyDrive/Diff_All/Diff9/7.jpg', '/content/drive/MyDrive/Diff_All/Diff9/8.jpg', '/content/drive/MyDrive/Diff_All/Diff9/9.jpg', '/content/drive/MyDrive/Diff_All/Diff9/10.jpg', '/content/drive/MyDrive/Diff_All/Diff9/11.jpg', '/content/drive/MyDrive/Diff_All/Diff9/12.jpg', '/content/drive/MyDrive/Diff_All/Diff9/13.jpg', '/content/drive/MyDrive/Diff_All/Diff9/14.jpg', '/content/drive/MyDrive/Diff_All/Diff9/15.jpg', '/content/drive/MyDrive/Diff_All/Diff9/16.jpg', '/content/drive/MyDrive/Diff_All/Diff9/17.jpg', '/content/drive/MyDrive/Diff_All/Diff9/18.jpg', '/content/drive/MyDrive/Diff_All/Diff9/19.jpg', '/content/drive/MyDrive/Diff_All/Diff9/20.jpg', '/content/drive/MyDrive/Diff_All/Diff9/21.jpg', '/content/drive/MyDrive/Diff_All/Diff9/22.jpg', '/content/drive/MyDrive/Diff_All/Diff9/23.jpg', '/content/drive/MyDrive/Diff_All/Diff9/24.jpg', '/content/drive/MyDrive/Diff_All/Diff9/25.jpg', '/content/drive/MyDrive/Diff_All/Diff9/26.jpg', '/content/drive/MyDrive/Diff_All/Diff9/27.jpg', '/content/drive/MyDrive/Diff_All/Diff9/28.jpg', '/content/drive/MyDrive/Diff_All/Diff9/29.jpg', '/content/drive/MyDrive/Diff_All/Diff9/30.jpg', '/content/drive/MyDrive/Diff_All/Diff9/31.jpg', '/content/drive/MyDrive/Diff_All/Diff9/32.jpg', '/content/drive/MyDrive/Diff_All/Diff9/33.jpg', '/content/drive/MyDrive/Diff_All/Diff9/34.jpg', '/content/drive/MyDrive/Diff_All/Diff9/35.jpg', '/content/drive/MyDrive/Diff_All/Diff9/36.jpg', '/content/drive/MyDrive/Diff_All/Diff9/37.jpg', '/content/drive/MyDrive/Diff_All/Diff9/38.jpg', '/content/drive/MyDrive/Diff_All/Diff9/39.jpg', '/content/drive/MyDrive/Diff_All/Diff9/40.jpg', '/content/drive/MyDrive/Diff_All/Diff9/41.jpg', '/content/drive/MyDrive/Diff_All/Diff9/42.jpg', '/content/drive/MyDrive/Diff_All/Diff9/43.jpg', '/content/drive/MyDrive/Diff_All/Diff9/44.jpg', '/content/drive/MyDrive/Diff_All/Diff9/45.jpg', '/content/drive/MyDrive/Diff_All/Diff9/46.jpg', '/content/drive/MyDrive/Diff_All/Diff9/47.jpg', '/content/drive/MyDrive/Diff_All/Diff9/48.jpg', '/content/drive/MyDrive/Diff_All/Diff9/49.jpg', '/content/drive/MyDrive/Diff_All/Diff9/50.jpg', '/content/drive/MyDrive/Diff_All/Diff9/51.jpg', '/content/drive/MyDrive/Diff_All/Diff9/52.jpg', '/content/drive/MyDrive/Diff_All/Diff9/53.jpg', '/content/drive/MyDrive/Diff_All/Diff9/54.jpg', '/content/drive/MyDrive/Diff_All/Diff9/55.jpg', '/content/drive/MyDrive/Diff_All/Diff9/56.jpg', '/content/drive/MyDrive/Diff_All/Diff9/57.jpg', '/content/drive/MyDrive/Diff_All/Diff9/58.jpg', '/content/drive/MyDrive/Diff_All/Diff9/59.jpg', '/content/drive/MyDrive/Diff_All/Diff9/60.jpg', '/content/drive/MyDrive/Diff_All/Diff9/61.jpg', '/content/drive/MyDrive/Diff_All/Diff9/62.jpg', '/content/drive/MyDrive/Diff_All/Diff9/63.jpg', '/content/drive/MyDrive/Diff_All/Diff9/64.jpg', '/content/drive/MyDrive/Diff_All/Diff9/65.jpg', '/content/drive/MyDrive/Diff_All/Diff9/66.jpg', '/content/drive/MyDrive/Diff_All/Diff9/67.jpg', '/content/drive/MyDrive/Diff_All/Diff9/68.jpg', '/content/drive/MyDrive/Diff_All/Diff9/69.jpg', '/content/drive/MyDrive/Diff_All/Diff9/70.jpg', '/content/drive/MyDrive/Diff_All/Diff9/71.jpg', '/content/drive/MyDrive/Diff_All/Diff9/72.jpg', '/content/drive/MyDrive/Diff_All/Diff9/73.jpg', '/content/drive/MyDrive/Diff_All/Diff9/74.jpg', '/content/drive/MyDrive/Diff_All/Diff9/75.jpg', '/content/drive/MyDrive/Diff_All/Diff9/76.jpg', '/content/drive/MyDrive/Diff_All/Diff9/77.jpg', '/content/drive/MyDrive/Diff_All/Diff9/78.jpg', '/content/drive/MyDrive/Diff_All/Diff10/1.jpg', '/content/drive/MyDrive/Diff_All/Diff10/2.jpg', '/content/drive/MyDrive/Diff_All/Diff10/3.jpg', '/content/drive/MyDrive/Diff_All/Diff10/4.jpg', '/content/drive/MyDrive/Diff_All/Diff10/5.jpg', '/content/drive/MyDrive/Diff_All/Diff10/6.jpg', '/content/drive/MyDrive/Diff_All/Diff10/7.jpg', '/content/drive/MyDrive/Diff_All/Diff10/8.jpg', '/content/drive/MyDrive/Diff_All/Diff10/9.jpg', '/content/drive/MyDrive/Diff_All/Diff10/10.jpg', '/content/drive/MyDrive/Diff_All/Diff10/11.jpg', '/content/drive/MyDrive/Diff_All/Diff10/12.jpg', '/content/drive/MyDrive/Diff_All/Diff10/13.jpg', '/content/drive/MyDrive/Diff_All/Diff10/14.jpg', '/content/drive/MyDrive/Diff_All/Diff10/15.jpg', '/content/drive/MyDrive/Diff_All/Diff10/16.jpg', '/content/drive/MyDrive/Diff_All/Diff10/17.jpg', '/content/drive/MyDrive/Diff_All/Diff10/18.jpg', '/content/drive/MyDrive/Diff_All/Diff10/19.jpg', '/content/drive/MyDrive/Diff_All/Diff10/20.jpg', '/content/drive/MyDrive/Diff_All/Diff10/21.jpg', '/content/drive/MyDrive/Diff_All/Diff10/22.jpg', '/content/drive/MyDrive/Diff_All/Diff10/23.jpg', '/content/drive/MyDrive/Diff_All/Diff10/24.jpg', '/content/drive/MyDrive/Diff_All/Diff10/25.jpg', '/content/drive/MyDrive/Diff_All/Diff10/26.jpg', '/content/drive/MyDrive/Diff_All/Diff10/27.jpg', '/content/drive/MyDrive/Diff_All/Diff10/28.jpg', '/content/drive/MyDrive/Diff_All/Diff10/29.jpg', '/content/drive/MyDrive/Diff_All/Diff10/30.jpg', '/content/drive/MyDrive/Diff_All/Diff10/31.jpg', '/content/drive/MyDrive/Diff_All/Diff10/32.jpg', '/content/drive/MyDrive/Diff_All/Diff10/33.jpg', '/content/drive/MyDrive/Diff_All/Diff10/34.jpg', '/content/drive/MyDrive/Diff_All/Diff10/35.jpg', '/content/drive/MyDrive/Diff_All/Diff10/36.jpg', '/content/drive/MyDrive/Diff_All/Diff10/37.jpg', '/content/drive/MyDrive/Diff_All/Diff10/38.jpg', '/content/drive/MyDrive/Diff_All/Diff10/39.jpg', '/content/drive/MyDrive/Diff_All/Diff10/40.jpg', '/content/drive/MyDrive/Diff_All/Diff10/41.jpg', '/content/drive/MyDrive/Diff_All/Diff10/42.jpg', '/content/drive/MyDrive/Diff_All/Diff10/43.jpg', '/content/drive/MyDrive/Diff_All/Diff10/44.jpg', '/content/drive/MyDrive/Diff_All/Diff10/45.jpg', '/content/drive/MyDrive/Diff_All/Diff10/46.jpg', '/content/drive/MyDrive/Diff_All/Diff10/47.jpg', '/content/drive/MyDrive/Diff_All/Diff10/48.jpg', '/content/drive/MyDrive/Diff_All/Diff10/49.jpg', '/content/drive/MyDrive/Diff_All/Diff10/50.jpg', '/content/drive/MyDrive/Diff_All/Diff10/51.jpg', '/content/drive/MyDrive/Diff_All/Diff10/52.jpg', '/content/drive/MyDrive/Diff_All/Diff10/53.jpg', '/content/drive/MyDrive/Diff_All/Diff10/54.jpg', '/content/drive/MyDrive/Diff_All/Diff10/55.jpg', '/content/drive/MyDrive/Diff_All/Diff10/56.jpg', '/content/drive/MyDrive/Diff_All/Diff10/57.jpg', '/content/drive/MyDrive/Diff_All/Diff10/58.jpg', '/content/drive/MyDrive/Diff_All/Diff10/59.jpg', '/content/drive/MyDrive/Diff_All/Diff10/60.jpg', '/content/drive/MyDrive/Diff_All/Diff10/61.jpg', '/content/drive/MyDrive/Diff_All/Diff10/62.jpg', '/content/drive/MyDrive/Diff_All/Diff10/63.jpg', '/content/drive/MyDrive/Diff_All/Diff10/64.jpg', '/content/drive/MyDrive/Diff_All/Diff10/65.jpg', '/content/drive/MyDrive/Diff_All/Diff10/66.jpg', '/content/drive/MyDrive/Diff_All/Diff10/67.jpg', '/content/drive/MyDrive/Diff_All/Diff10/68.jpg', '/content/drive/MyDrive/Diff_All/Diff10/69.jpg', '/content/drive/MyDrive/Diff_All/Diff10/70.jpg', '/content/drive/MyDrive/Diff_All/Diff10/71.jpg', '/content/drive/MyDrive/Diff_All/Diff10/72.jpg', '/content/drive/MyDrive/Diff_All/Diff10/73.jpg', '/content/drive/MyDrive/Diff_All/Diff10/74.jpg', '/content/drive/MyDrive/Diff_All/Diff10/75.jpg', '/content/drive/MyDrive/Diff_All/Diff10/76.jpg', '/content/drive/MyDrive/Diff_All/Diff10/77.jpg', '/content/drive/MyDrive/Diff_All/Diff10/78.jpg', '/content/drive/MyDrive/Diff_All/Diff10/79.jpg', '/content/drive/MyDrive/Diff_All/Diff10/80.jpg', '/content/drive/MyDrive/Diff_All/Diff10/81.jpg', '/content/drive/MyDrive/Diff_All/Diff10/82.jpg', '/content/drive/MyDrive/Diff_All/Diff10/83.jpg', '/content/drive/MyDrive/Diff_All/Diff10/84.jpg', '/content/drive/MyDrive/Diff_All/Diff10/85.jpg', '/content/drive/MyDrive/Diff_All/Diff10/86.jpg', '/content/drive/MyDrive/Diff_All/Diff10/87.jpg', '/content/drive/MyDrive/Diff_All/Diff11/1.jpg', '/content/drive/MyDrive/Diff_All/Diff11/2.jpg', '/content/drive/MyDrive/Diff_All/Diff11/3.jpg', '/content/drive/MyDrive/Diff_All/Diff11/4.jpg', '/content/drive/MyDrive/Diff_All/Diff11/5.jpg', '/content/drive/MyDrive/Diff_All/Diff11/6.jpg', '/content/drive/MyDrive/Diff_All/Diff11/7.jpg', '/content/drive/MyDrive/Diff_All/Diff11/8.jpg', '/content/drive/MyDrive/Diff_All/Diff11/9.jpg', '/content/drive/MyDrive/Diff_All/Diff11/10.jpg', '/content/drive/MyDrive/Diff_All/Diff11/11.jpg', '/content/drive/MyDrive/Diff_All/Diff11/12.jpg', '/content/drive/MyDrive/Diff_All/Diff11/13.jpg', '/content/drive/MyDrive/Diff_All/Diff11/14.jpg', '/content/drive/MyDrive/Diff_All/Diff11/15.jpg', '/content/drive/MyDrive/Diff_All/Diff11/16.jpg', '/content/drive/MyDrive/Diff_All/Diff11/17.jpg', '/content/drive/MyDrive/Diff_All/Diff11/18.jpg', '/content/drive/MyDrive/Diff_All/Diff11/19.jpg', '/content/drive/MyDrive/Diff_All/Diff11/20.jpg', '/content/drive/MyDrive/Diff_All/Diff11/21.jpg', '/content/drive/MyDrive/Diff_All/Diff11/22.jpg', '/content/drive/MyDrive/Diff_All/Diff11/23.jpg', '/content/drive/MyDrive/Diff_All/Diff11/24.jpg', '/content/drive/MyDrive/Diff_All/Diff11/25.jpg', '/content/drive/MyDrive/Diff_All/Diff11/26.jpg', '/content/drive/MyDrive/Diff_All/Diff11/27.jpg', '/content/drive/MyDrive/Diff_All/Diff11/28.jpg', '/content/drive/MyDrive/Diff_All/Diff11/29.jpg', '/content/drive/MyDrive/Diff_All/Diff11/30.jpg', '/content/drive/MyDrive/Diff_All/Diff11/31.jpg', '/content/drive/MyDrive/Diff_All/Diff11/32.jpg', '/content/drive/MyDrive/Diff_All/Diff11/33.jpg', '/content/drive/MyDrive/Diff_All/Diff11/34.jpg', '/content/drive/MyDrive/Diff_All/Diff11/35.jpg', '/content/drive/MyDrive/Diff_All/Diff11/36.jpg', '/content/drive/MyDrive/Diff_All/Diff11/37.jpg', '/content/drive/MyDrive/Diff_All/Diff11/38.jpg', '/content/drive/MyDrive/Diff_All/Diff11/39.jpg', '/content/drive/MyDrive/Diff_All/Diff11/40.jpg', '/content/drive/MyDrive/Diff_All/Diff11/41.jpg', '/content/drive/MyDrive/Diff_All/Diff11/42.jpg', '/content/drive/MyDrive/Diff_All/Diff11/43.jpg', '/content/drive/MyDrive/Diff_All/Diff11/44.jpg', '/content/drive/MyDrive/Diff_All/Diff11/45.jpg', '/content/drive/MyDrive/Diff_All/Diff11/46.jpg', '/content/drive/MyDrive/Diff_All/Diff11/47.jpg', '/content/drive/MyDrive/Diff_All/Diff11/48.jpg', '/content/drive/MyDrive/Diff_All/Diff11/49.jpg', '/content/drive/MyDrive/Diff_All/Diff12/1.jpg', '/content/drive/MyDrive/Diff_All/Diff12/2.jpg', '/content/drive/MyDrive/Diff_All/Diff12/3.jpg', '/content/drive/MyDrive/Diff_All/Diff12/4.jpg', '/content/drive/MyDrive/Diff_All/Diff12/5.jpg', '/content/drive/MyDrive/Diff_All/Diff12/6.jpg', '/content/drive/MyDrive/Diff_All/Diff12/7.jpg', '/content/drive/MyDrive/Diff_All/Diff12/8.jpg', '/content/drive/MyDrive/Diff_All/Diff12/9.jpg', '/content/drive/MyDrive/Diff_All/Diff12/10.jpg', '/content/drive/MyDrive/Diff_All/Diff12/11.jpg', '/content/drive/MyDrive/Diff_All/Diff12/12.jpg', '/content/drive/MyDrive/Diff_All/Diff12/13.jpg', '/content/drive/MyDrive/Diff_All/Diff12/14.jpg', '/content/drive/MyDrive/Diff_All/Diff12/15.jpg', '/content/drive/MyDrive/Diff_All/Diff12/16.jpg', '/content/drive/MyDrive/Diff_All/Diff12/17.jpg', '/content/drive/MyDrive/Diff_All/Diff12/18.jpg', '/content/drive/MyDrive/Diff_All/Diff12/19.jpg', '/content/drive/MyDrive/Diff_All/Diff12/20.jpg', '/content/drive/MyDrive/Diff_All/Diff12/21.jpg', '/content/drive/MyDrive/Diff_All/Diff12/22.jpg', '/content/drive/MyDrive/Diff_All/Diff12/23.jpg', '/content/drive/MyDrive/Diff_All/Diff12/24.jpg', '/content/drive/MyDrive/Diff_All/Diff12/25.jpg', '/content/drive/MyDrive/Diff_All/Diff12/26.jpg', '/content/drive/MyDrive/Diff_All/Diff12/27.jpg', '/content/drive/MyDrive/Diff_All/Diff12/28.jpg', '/content/drive/MyDrive/Diff_All/Diff12/29.jpg', '/content/drive/MyDrive/Diff_All/Diff12/30.jpg', '/content/drive/MyDrive/Diff_All/Diff12/31.jpg', '/content/drive/MyDrive/Diff_All/Diff12/32.jpg', '/content/drive/MyDrive/Diff_All/Diff12/33.jpg', '/content/drive/MyDrive/Diff_All/Diff12/34.jpg', '/content/drive/MyDrive/Diff_All/Diff12/35.jpg', '/content/drive/MyDrive/Diff_All/Diff12/36.jpg', '/content/drive/MyDrive/Diff_All/Diff12/37.jpg', '/content/drive/MyDrive/Diff_All/Diff12/38.jpg', '/content/drive/MyDrive/Diff_All/Diff12/39.jpg', '/content/drive/MyDrive/Diff_All/Diff12/40.jpg', '/content/drive/MyDrive/Diff_All/Diff12/41.jpg', '/content/drive/MyDrive/Diff_All/Diff12/42.jpg', '/content/drive/MyDrive/Diff_All/Diff12/43.jpg', '/content/drive/MyDrive/Diff_All/Diff12/44.jpg', '/content/drive/MyDrive/Diff_All/Diff12/45.jpg', '/content/drive/MyDrive/Diff_All/Diff12/46.jpg', '/content/drive/MyDrive/Diff_All/Diff12/47.jpg', '/content/drive/MyDrive/Diff_All/Diff12/48.jpg', '/content/drive/MyDrive/Diff_All/Diff12/49.jpg', '/content/drive/MyDrive/Diff_All/Diff12/50.jpg', '/content/drive/MyDrive/Diff_All/Diff12/51.jpg', '/content/drive/MyDrive/Diff_All/Diff12/52.jpg', '/content/drive/MyDrive/Diff_All/Diff12/53.jpg', '/content/drive/MyDrive/Diff_All/Diff12/54.jpg', '/content/drive/MyDrive/Diff_All/Diff12/55.jpg', '/content/drive/MyDrive/Diff_All/Diff12/56.jpg', '/content/drive/MyDrive/Diff_All/Diff12/57.jpg', '/content/drive/MyDrive/Diff_All/Diff12/58.jpg', '/content/drive/MyDrive/Diff_All/Diff12/59.jpg', '/content/drive/MyDrive/Diff_All/Diff12/60.jpg', '/content/drive/MyDrive/Diff_All/Diff12/61.jpg', '/content/drive/MyDrive/Diff_All/Diff13/1.jpg', '/content/drive/MyDrive/Diff_All/Diff13/2.jpg', '/content/drive/MyDrive/Diff_All/Diff13/3.jpg', '/content/drive/MyDrive/Diff_All/Diff13/4.jpg', '/content/drive/MyDrive/Diff_All/Diff13/5.jpg', '/content/drive/MyDrive/Diff_All/Diff13/6.jpg', '/content/drive/MyDrive/Diff_All/Diff13/7.jpg', '/content/drive/MyDrive/Diff_All/Diff13/8.jpg', '/content/drive/MyDrive/Diff_All/Diff13/9.jpg', '/content/drive/MyDrive/Diff_All/Diff13/10.jpg', '/content/drive/MyDrive/Diff_All/Diff13/11.jpg', '/content/drive/MyDrive/Diff_All/Diff13/12.jpg', '/content/drive/MyDrive/Diff_All/Diff13/13.jpg', '/content/drive/MyDrive/Diff_All/Diff13/14.jpg', '/content/drive/MyDrive/Diff_All/Diff13/15.jpg', '/content/drive/MyDrive/Diff_All/Diff13/16.jpg', '/content/drive/MyDrive/Diff_All/Diff13/17.jpg', '/content/drive/MyDrive/Diff_All/Diff13/18.jpg', '/content/drive/MyDrive/Diff_All/Diff13/19.jpg', '/content/drive/MyDrive/Diff_All/Diff13/20.jpg', '/content/drive/MyDrive/Diff_All/Diff13/21.jpg', '/content/drive/MyDrive/Diff_All/Diff13/22.jpg', '/content/drive/MyDrive/Diff_All/Diff13/23.jpg', '/content/drive/MyDrive/Diff_All/Diff13/24.jpg', '/content/drive/MyDrive/Diff_All/Diff13/25.jpg', '/content/drive/MyDrive/Diff_All/Diff13/26.jpg', '/content/drive/MyDrive/Diff_All/Diff13/27.jpg', '/content/drive/MyDrive/Diff_All/Diff13/28.jpg', '/content/drive/MyDrive/Diff_All/Diff13/29.jpg', '/content/drive/MyDrive/Diff_All/Diff13/30.jpg', '/content/drive/MyDrive/Diff_All/Diff13/31.jpg', '/content/drive/MyDrive/Diff_All/Diff13/32.jpg', '/content/drive/MyDrive/Diff_All/Diff13/33.jpg', '/content/drive/MyDrive/Diff_All/Diff13/34.jpg', '/content/drive/MyDrive/Diff_All/Diff13/35.jpg', '/content/drive/MyDrive/Diff_All/Diff13/36.jpg', '/content/drive/MyDrive/Diff_All/Diff13/37.jpg', '/content/drive/MyDrive/Diff_All/Diff13/38.jpg', '/content/drive/MyDrive/Diff_All/Diff13/39.jpg', '/content/drive/MyDrive/Diff_All/Diff13/40.jpg', '/content/drive/MyDrive/Diff_All/Diff13/41.jpg', '/content/drive/MyDrive/Diff_All/Diff13/42.jpg', '/content/drive/MyDrive/Diff_All/Diff13/43.jpg', '/content/drive/MyDrive/Diff_All/Diff13/44.jpg', '/content/drive/MyDrive/Diff_All/Diff13/45.jpg', '/content/drive/MyDrive/Diff_All/Diff13/46.jpg', '/content/drive/MyDrive/Diff_All/Diff13/47.jpg', '/content/drive/MyDrive/Diff_All/Diff13/48.jpg', '/content/drive/MyDrive/Diff_All/Diff13/49.jpg', '/content/drive/MyDrive/Diff_All/Diff13/50.jpg', '/content/drive/MyDrive/Diff_All/Diff13/51.jpg', '/content/drive/MyDrive/Diff_All/Diff13/52.jpg', '/content/drive/MyDrive/Diff_All/Diff13/53.jpg', '/content/drive/MyDrive/Diff_All/Diff13/54.jpg', '/content/drive/MyDrive/Diff_All/Diff13/55.jpg', '/content/drive/MyDrive/Diff_All/Diff13/56.jpg', '/content/drive/MyDrive/Diff_All/Diff13/57.jpg', '/content/drive/MyDrive/Diff_All/Diff13/58.jpg', '/content/drive/MyDrive/Diff_All/Diff13/59.jpg', '/content/drive/MyDrive/Diff_All/Diff13/60.jpg', '/content/drive/MyDrive/Diff_All/Diff13/61.jpg', '/content/drive/MyDrive/Diff_All/Diff13/62.jpg', '/content/drive/MyDrive/Diff_All/Diff13/63.jpg', '/content/drive/MyDrive/Diff_All/Diff13/64.jpg', '/content/drive/MyDrive/Diff_All/Diff13/65.jpg', '/content/drive/MyDrive/Diff_All/Diff13/66.jpg', '/content/drive/MyDrive/Diff_All/Diff13/67.jpg', '/content/drive/MyDrive/Diff_All/Diff13/68.jpg', '/content/drive/MyDrive/Diff_All/Diff13/69.jpg', '/content/drive/MyDrive/Diff_All/Diff13/70.jpg', '/content/drive/MyDrive/Diff_All/Diff13/71.jpg', '/content/drive/MyDrive/Diff_All/Diff13/72.jpg', '/content/drive/MyDrive/Diff_All/Diff13/73.jpg', '/content/drive/MyDrive/Diff_All/Diff13/74.jpg', '/content/drive/MyDrive/Diff_All/Diff13/75.jpg', '/content/drive/MyDrive/Diff_All/Diff13/76.jpg', '/content/drive/MyDrive/Diff_All/Diff13/77.jpg', '/content/drive/MyDrive/Diff_All/Diff13/78.jpg', '/content/drive/MyDrive/Diff_All/Diff13/79.jpg', '/content/drive/MyDrive/Diff_All/Diff13/80.jpg', '/content/drive/MyDrive/Diff_All/Diff13/81.jpg', '/content/drive/MyDrive/Diff_All/Diff13/82.jpg', '/content/drive/MyDrive/Diff_All/Diff13/83.jpg', '/content/drive/MyDrive/Diff_All/Diff13/84.jpg', '/content/drive/MyDrive/Diff_All/Diff13/85.jpg', '/content/drive/MyDrive/Diff_All/Diff13/86.jpg', '/content/drive/MyDrive/Diff_All/Diff13/87.jpg', '/content/drive/MyDrive/Diff_All/Diff13/88.jpg', '/content/drive/MyDrive/Diff_All/Diff13/89.jpg', '/content/drive/MyDrive/Diff_All/Diff13/90.jpg']\n"
          ]
        }
      ],
      "source": [
        "print(Diff_Array)"
      ]
    },
    {
      "cell_type": "code",
      "execution_count": null,
      "metadata": {
        "id": "nura7w0adY6F"
      },
      "outputs": [],
      "source": [
        "# Adding each Error to Array for easier access\n",
        "Error_Array = []\n",
        "\n",
        "# Looping through Error_Array retrieving the Name and Values in each column\n",
        "for (columnName, columnData) in Error.iteritems():\n",
        "  #print('Column Name : ', columnName)\n",
        "\n",
        "  # Columns being different lengths has to be dealt with\n",
        "  # Max file leangth is 94 and if the values == Nan it breaks\n",
        "  for i in range(94):\n",
        "    if math.isnan(columnData[i])==True:\n",
        "       break\n",
        "    else:\n",
        "      # Appending Error value to Array\n",
        "      Error_Array.append(columnData[i])"
      ]
    },
    {
      "cell_type": "code",
      "source": [
        "print(Error_Array[100:120])"
      ],
      "metadata": {
        "colab": {
          "base_uri": "https://localhost:8080/"
        },
        "id": "rfq2yONaOKzG",
        "outputId": "acfc5239-38a9-4548-95b3-333caea9d33f"
      },
      "execution_count": null,
      "outputs": [
        {
          "output_type": "stream",
          "name": "stdout",
          "text": [
            "[0.0, 0.0, 0.0, 0.0, 0.0, 0.0, 0.0, 0.0, 0.0, 0.0, 0.2138575918072014, 0.36626919415778664, 0.3660161776299448, 0.34407470775819643, 0.37529525023180327, 0.41132310673440514, 0.3959492671006003, 0.40382980627264997, 0.41511526908462015, 0.42760950293051764]\n"
          ]
        }
      ]
    },
    {
      "cell_type": "markdown",
      "source": [
        "Values for both Array must be the same size"
      ],
      "metadata": {
        "id": "iXF8tpWM7IiX"
      }
    },
    {
      "cell_type": "code",
      "source": [
        "print('Error_Array length:',len(Error_Array))\n",
        "print('Difference Image Array length:',len(Diff_Array))"
      ],
      "metadata": {
        "colab": {
          "base_uri": "https://localhost:8080/"
        },
        "id": "72rvAx-f6tWq",
        "outputId": "1463346e-726f-4348-aad8-1560ad557f04"
      },
      "execution_count": null,
      "outputs": [
        {
          "output_type": "stream",
          "name": "stdout",
          "text": [
            "Error_Array length: 1036\n",
            "Difference Image Array length: 1036\n"
          ]
        }
      ]
    },
    {
      "cell_type": "markdown",
      "source": [
        "Setting up data to be put into a dataframe"
      ],
      "metadata": {
        "id": "DWS1K1D_7aXQ"
      }
    },
    {
      "cell_type": "code",
      "execution_count": null,
      "metadata": {
        "id": "gTQyJin3QMN9"
      },
      "outputs": [],
      "source": [
        "data = {\n",
        "  \"Difference_Image\": Diff_Array,\n",
        "  \"Error_Data\": Error_Array\n",
        "}"
      ]
    },
    {
      "cell_type": "code",
      "execution_count": null,
      "metadata": {
        "id": "I_BkJoEjQyEm",
        "colab": {
          "base_uri": "https://localhost:8080/"
        },
        "outputId": "ac60d209-5b45-4c90-d916-7ee4b57d63fa"
      },
      "outputs": [
        {
          "output_type": "stream",
          "name": "stdout",
          "text": [
            "                                   Difference_Image  Error_Data\n",
            "0       /content/drive/MyDrive/Diff_All/Diff1/1.jpg         0.0\n",
            "1       /content/drive/MyDrive/Diff_All/Diff1/2.jpg         0.0\n",
            "2       /content/drive/MyDrive/Diff_All/Diff1/3.jpg         0.0\n",
            "3       /content/drive/MyDrive/Diff_All/Diff1/4.jpg         0.0\n",
            "4       /content/drive/MyDrive/Diff_All/Diff1/5.jpg         0.0\n",
            "...                                             ...         ...\n",
            "1031  /content/drive/MyDrive/Diff_All/Diff13/86.jpg         0.0\n",
            "1032  /content/drive/MyDrive/Diff_All/Diff13/87.jpg         0.0\n",
            "1033  /content/drive/MyDrive/Diff_All/Diff13/88.jpg         0.0\n",
            "1034  /content/drive/MyDrive/Diff_All/Diff13/89.jpg         0.0\n",
            "1035  /content/drive/MyDrive/Diff_All/Diff13/90.jpg         0.0\n",
            "\n",
            "[1036 rows x 2 columns]\n"
          ]
        }
      ],
      "source": [
        "# Loading data into a DataFrame object:\n",
        "df = pd.DataFrame(data)\n",
        "# Printing dataframe\n",
        "print(df)"
      ]
    },
    {
      "cell_type": "markdown",
      "source": [
        "# CNN"
      ],
      "metadata": {
        "id": "5_xG2YXAO4Q_"
      }
    },
    {
      "cell_type": "code",
      "execution_count": null,
      "metadata": {
        "id": "NWZwas0kit11"
      },
      "outputs": [],
      "source": [
        "# Using all of df for training\n",
        "image_df = df.sample(1036, random_state=1).reset_index(drop=True)\n",
        "# Splitting up image_df into training and testing\n",
        "train_df, test_df = train_test_split(image_df, train_size=0.7, shuffle=True, random_state=1)"
      ]
    },
    {
      "cell_type": "code",
      "execution_count": null,
      "metadata": {
        "id": "dIyJ2xB7i4Qo"
      },
      "outputs": [],
      "source": [
        "train_generator = tf.keras.preprocessing.image.ImageDataGenerator(\n",
        "    #rescale=1./255,\n",
        "    validation_split=0.2\n",
        ")\n",
        "\n",
        "test_generator = tf.keras.preprocessing.image.ImageDataGenerator(\n",
        "    #rescale=1./255\n",
        ")"
      ]
    },
    {
      "cell_type": "code",
      "execution_count": null,
      "metadata": {
        "id": "s3vlUXpBi52J",
        "colab": {
          "base_uri": "https://localhost:8080/",
          "height": 424
        },
        "outputId": "cd125837-bce7-47e2-d9a1-d20d73a460cf"
      },
      "outputs": [
        {
          "output_type": "execute_result",
          "data": {
            "text/plain": [
              "                                  Difference_Image  Error_Data\n",
              "286  /content/drive/MyDrive/Diff_All/Diff12/55.jpg    0.000000\n",
              "602   /content/drive/MyDrive/Diff_All/Diff3/65.jpg    0.372369\n",
              "386   /content/drive/MyDrive/Diff_All/Diff1/59.jpg    0.556024\n",
              "688  /content/drive/MyDrive/Diff_All/Diff12/40.jpg    0.364783\n",
              "578   /content/drive/MyDrive/Diff_All/Diff6/25.jpg    0.387513\n",
              "..                                             ...         ...\n",
              "960   /content/drive/MyDrive/Diff_All/Diff4/22.jpg    0.000000\n",
              "847   /content/drive/MyDrive/Diff_All/Diff4/57.jpg    0.369376\n",
              "715  /content/drive/MyDrive/Diff_All/Diff13/66.jpg    0.000000\n",
              "905  /content/drive/MyDrive/Diff_All/Diff13/43.jpg    0.413228\n",
              "235   /content/drive/MyDrive/Diff_All/Diff8/85.jpg    0.000000\n",
              "\n",
              "[725 rows x 2 columns]"
            ],
            "text/html": [
              "\n",
              "  <div id=\"df-81aa3674-e989-471e-9cf6-341b961970a0\">\n",
              "    <div class=\"colab-df-container\">\n",
              "      <div>\n",
              "<style scoped>\n",
              "    .dataframe tbody tr th:only-of-type {\n",
              "        vertical-align: middle;\n",
              "    }\n",
              "\n",
              "    .dataframe tbody tr th {\n",
              "        vertical-align: top;\n",
              "    }\n",
              "\n",
              "    .dataframe thead th {\n",
              "        text-align: right;\n",
              "    }\n",
              "</style>\n",
              "<table border=\"1\" class=\"dataframe\">\n",
              "  <thead>\n",
              "    <tr style=\"text-align: right;\">\n",
              "      <th></th>\n",
              "      <th>Difference_Image</th>\n",
              "      <th>Error_Data</th>\n",
              "    </tr>\n",
              "  </thead>\n",
              "  <tbody>\n",
              "    <tr>\n",
              "      <th>286</th>\n",
              "      <td>/content/drive/MyDrive/Diff_All/Diff12/55.jpg</td>\n",
              "      <td>0.000000</td>\n",
              "    </tr>\n",
              "    <tr>\n",
              "      <th>602</th>\n",
              "      <td>/content/drive/MyDrive/Diff_All/Diff3/65.jpg</td>\n",
              "      <td>0.372369</td>\n",
              "    </tr>\n",
              "    <tr>\n",
              "      <th>386</th>\n",
              "      <td>/content/drive/MyDrive/Diff_All/Diff1/59.jpg</td>\n",
              "      <td>0.556024</td>\n",
              "    </tr>\n",
              "    <tr>\n",
              "      <th>688</th>\n",
              "      <td>/content/drive/MyDrive/Diff_All/Diff12/40.jpg</td>\n",
              "      <td>0.364783</td>\n",
              "    </tr>\n",
              "    <tr>\n",
              "      <th>578</th>\n",
              "      <td>/content/drive/MyDrive/Diff_All/Diff6/25.jpg</td>\n",
              "      <td>0.387513</td>\n",
              "    </tr>\n",
              "    <tr>\n",
              "      <th>...</th>\n",
              "      <td>...</td>\n",
              "      <td>...</td>\n",
              "    </tr>\n",
              "    <tr>\n",
              "      <th>960</th>\n",
              "      <td>/content/drive/MyDrive/Diff_All/Diff4/22.jpg</td>\n",
              "      <td>0.000000</td>\n",
              "    </tr>\n",
              "    <tr>\n",
              "      <th>847</th>\n",
              "      <td>/content/drive/MyDrive/Diff_All/Diff4/57.jpg</td>\n",
              "      <td>0.369376</td>\n",
              "    </tr>\n",
              "    <tr>\n",
              "      <th>715</th>\n",
              "      <td>/content/drive/MyDrive/Diff_All/Diff13/66.jpg</td>\n",
              "      <td>0.000000</td>\n",
              "    </tr>\n",
              "    <tr>\n",
              "      <th>905</th>\n",
              "      <td>/content/drive/MyDrive/Diff_All/Diff13/43.jpg</td>\n",
              "      <td>0.413228</td>\n",
              "    </tr>\n",
              "    <tr>\n",
              "      <th>235</th>\n",
              "      <td>/content/drive/MyDrive/Diff_All/Diff8/85.jpg</td>\n",
              "      <td>0.000000</td>\n",
              "    </tr>\n",
              "  </tbody>\n",
              "</table>\n",
              "<p>725 rows × 2 columns</p>\n",
              "</div>\n",
              "      <button class=\"colab-df-convert\" onclick=\"convertToInteractive('df-81aa3674-e989-471e-9cf6-341b961970a0')\"\n",
              "              title=\"Convert this dataframe to an interactive table.\"\n",
              "              style=\"display:none;\">\n",
              "        \n",
              "  <svg xmlns=\"http://www.w3.org/2000/svg\" height=\"24px\"viewBox=\"0 0 24 24\"\n",
              "       width=\"24px\">\n",
              "    <path d=\"M0 0h24v24H0V0z\" fill=\"none\"/>\n",
              "    <path d=\"M18.56 5.44l.94 2.06.94-2.06 2.06-.94-2.06-.94-.94-2.06-.94 2.06-2.06.94zm-11 1L8.5 8.5l.94-2.06 2.06-.94-2.06-.94L8.5 2.5l-.94 2.06-2.06.94zm10 10l.94 2.06.94-2.06 2.06-.94-2.06-.94-.94-2.06-.94 2.06-2.06.94z\"/><path d=\"M17.41 7.96l-1.37-1.37c-.4-.4-.92-.59-1.43-.59-.52 0-1.04.2-1.43.59L10.3 9.45l-7.72 7.72c-.78.78-.78 2.05 0 2.83L4 21.41c.39.39.9.59 1.41.59.51 0 1.02-.2 1.41-.59l7.78-7.78 2.81-2.81c.8-.78.8-2.07 0-2.86zM5.41 20L4 18.59l7.72-7.72 1.47 1.35L5.41 20z\"/>\n",
              "  </svg>\n",
              "      </button>\n",
              "      \n",
              "  <style>\n",
              "    .colab-df-container {\n",
              "      display:flex;\n",
              "      flex-wrap:wrap;\n",
              "      gap: 12px;\n",
              "    }\n",
              "\n",
              "    .colab-df-convert {\n",
              "      background-color: #E8F0FE;\n",
              "      border: none;\n",
              "      border-radius: 50%;\n",
              "      cursor: pointer;\n",
              "      display: none;\n",
              "      fill: #1967D2;\n",
              "      height: 32px;\n",
              "      padding: 0 0 0 0;\n",
              "      width: 32px;\n",
              "    }\n",
              "\n",
              "    .colab-df-convert:hover {\n",
              "      background-color: #E2EBFA;\n",
              "      box-shadow: 0px 1px 2px rgba(60, 64, 67, 0.3), 0px 1px 3px 1px rgba(60, 64, 67, 0.15);\n",
              "      fill: #174EA6;\n",
              "    }\n",
              "\n",
              "    [theme=dark] .colab-df-convert {\n",
              "      background-color: #3B4455;\n",
              "      fill: #D2E3FC;\n",
              "    }\n",
              "\n",
              "    [theme=dark] .colab-df-convert:hover {\n",
              "      background-color: #434B5C;\n",
              "      box-shadow: 0px 1px 3px 1px rgba(0, 0, 0, 0.15);\n",
              "      filter: drop-shadow(0px 1px 2px rgba(0, 0, 0, 0.3));\n",
              "      fill: #FFFFFF;\n",
              "    }\n",
              "  </style>\n",
              "\n",
              "      <script>\n",
              "        const buttonEl =\n",
              "          document.querySelector('#df-81aa3674-e989-471e-9cf6-341b961970a0 button.colab-df-convert');\n",
              "        buttonEl.style.display =\n",
              "          google.colab.kernel.accessAllowed ? 'block' : 'none';\n",
              "\n",
              "        async function convertToInteractive(key) {\n",
              "          const element = document.querySelector('#df-81aa3674-e989-471e-9cf6-341b961970a0');\n",
              "          const dataTable =\n",
              "            await google.colab.kernel.invokeFunction('convertToInteractive',\n",
              "                                                     [key], {});\n",
              "          if (!dataTable) return;\n",
              "\n",
              "          const docLinkHtml = 'Like what you see? Visit the ' +\n",
              "            '<a target=\"_blank\" href=https://colab.research.google.com/notebooks/data_table.ipynb>data table notebook</a>'\n",
              "            + ' to learn more about interactive tables.';\n",
              "          element.innerHTML = '';\n",
              "          dataTable['output_type'] = 'display_data';\n",
              "          await google.colab.output.renderOutput(dataTable, element);\n",
              "          const docLink = document.createElement('div');\n",
              "          docLink.innerHTML = docLinkHtml;\n",
              "          element.appendChild(docLink);\n",
              "        }\n",
              "      </script>\n",
              "    </div>\n",
              "  </div>\n",
              "  "
            ]
          },
          "metadata": {},
          "execution_count": 36
        }
      ],
      "source": [
        "train_df"
      ]
    },
    {
      "cell_type": "code",
      "execution_count": null,
      "metadata": {
        "id": "Z3gAoY57h-rT",
        "colab": {
          "base_uri": "https://localhost:8080/",
          "height": 424
        },
        "outputId": "5a9cdde3-bf05-4489-dd1d-bcac30de9723"
      },
      "outputs": [
        {
          "output_type": "execute_result",
          "data": {
            "text/plain": [
              "                                   Difference_Image  Error_Data\n",
              "855    /content/drive/MyDrive/Diff_All/Diff4/18.jpg    0.000000\n",
              "577    /content/drive/MyDrive/Diff_All/Diff8/83.jpg    0.000000\n",
              "267    /content/drive/MyDrive/Diff_All/Diff9/49.jpg    0.351849\n",
              "995     /content/drive/MyDrive/Diff_All/Diff4/4.jpg    0.000000\n",
              "99     /content/drive/MyDrive/Diff_All/Diff9/32.jpg    0.332143\n",
              "...                                             ...         ...\n",
              "276   /content/drive/MyDrive/Diff_All/Diff10/15.jpg    0.000000\n",
              "432    /content/drive/MyDrive/Diff_All/Diff7/74.jpg    0.000000\n",
              "1006  /content/drive/MyDrive/Diff_All/Diff13/68.jpg    0.000000\n",
              "314    /content/drive/MyDrive/Diff_All/Diff9/18.jpg    0.338612\n",
              "185   /content/drive/MyDrive/Diff_All/Diff11/16.jpg    0.398620\n",
              "\n",
              "[311 rows x 2 columns]"
            ],
            "text/html": [
              "\n",
              "  <div id=\"df-7d7b952e-5b36-4def-85e1-9db46224d7ba\">\n",
              "    <div class=\"colab-df-container\">\n",
              "      <div>\n",
              "<style scoped>\n",
              "    .dataframe tbody tr th:only-of-type {\n",
              "        vertical-align: middle;\n",
              "    }\n",
              "\n",
              "    .dataframe tbody tr th {\n",
              "        vertical-align: top;\n",
              "    }\n",
              "\n",
              "    .dataframe thead th {\n",
              "        text-align: right;\n",
              "    }\n",
              "</style>\n",
              "<table border=\"1\" class=\"dataframe\">\n",
              "  <thead>\n",
              "    <tr style=\"text-align: right;\">\n",
              "      <th></th>\n",
              "      <th>Difference_Image</th>\n",
              "      <th>Error_Data</th>\n",
              "    </tr>\n",
              "  </thead>\n",
              "  <tbody>\n",
              "    <tr>\n",
              "      <th>855</th>\n",
              "      <td>/content/drive/MyDrive/Diff_All/Diff4/18.jpg</td>\n",
              "      <td>0.000000</td>\n",
              "    </tr>\n",
              "    <tr>\n",
              "      <th>577</th>\n",
              "      <td>/content/drive/MyDrive/Diff_All/Diff8/83.jpg</td>\n",
              "      <td>0.000000</td>\n",
              "    </tr>\n",
              "    <tr>\n",
              "      <th>267</th>\n",
              "      <td>/content/drive/MyDrive/Diff_All/Diff9/49.jpg</td>\n",
              "      <td>0.351849</td>\n",
              "    </tr>\n",
              "    <tr>\n",
              "      <th>995</th>\n",
              "      <td>/content/drive/MyDrive/Diff_All/Diff4/4.jpg</td>\n",
              "      <td>0.000000</td>\n",
              "    </tr>\n",
              "    <tr>\n",
              "      <th>99</th>\n",
              "      <td>/content/drive/MyDrive/Diff_All/Diff9/32.jpg</td>\n",
              "      <td>0.332143</td>\n",
              "    </tr>\n",
              "    <tr>\n",
              "      <th>...</th>\n",
              "      <td>...</td>\n",
              "      <td>...</td>\n",
              "    </tr>\n",
              "    <tr>\n",
              "      <th>276</th>\n",
              "      <td>/content/drive/MyDrive/Diff_All/Diff10/15.jpg</td>\n",
              "      <td>0.000000</td>\n",
              "    </tr>\n",
              "    <tr>\n",
              "      <th>432</th>\n",
              "      <td>/content/drive/MyDrive/Diff_All/Diff7/74.jpg</td>\n",
              "      <td>0.000000</td>\n",
              "    </tr>\n",
              "    <tr>\n",
              "      <th>1006</th>\n",
              "      <td>/content/drive/MyDrive/Diff_All/Diff13/68.jpg</td>\n",
              "      <td>0.000000</td>\n",
              "    </tr>\n",
              "    <tr>\n",
              "      <th>314</th>\n",
              "      <td>/content/drive/MyDrive/Diff_All/Diff9/18.jpg</td>\n",
              "      <td>0.338612</td>\n",
              "    </tr>\n",
              "    <tr>\n",
              "      <th>185</th>\n",
              "      <td>/content/drive/MyDrive/Diff_All/Diff11/16.jpg</td>\n",
              "      <td>0.398620</td>\n",
              "    </tr>\n",
              "  </tbody>\n",
              "</table>\n",
              "<p>311 rows × 2 columns</p>\n",
              "</div>\n",
              "      <button class=\"colab-df-convert\" onclick=\"convertToInteractive('df-7d7b952e-5b36-4def-85e1-9db46224d7ba')\"\n",
              "              title=\"Convert this dataframe to an interactive table.\"\n",
              "              style=\"display:none;\">\n",
              "        \n",
              "  <svg xmlns=\"http://www.w3.org/2000/svg\" height=\"24px\"viewBox=\"0 0 24 24\"\n",
              "       width=\"24px\">\n",
              "    <path d=\"M0 0h24v24H0V0z\" fill=\"none\"/>\n",
              "    <path d=\"M18.56 5.44l.94 2.06.94-2.06 2.06-.94-2.06-.94-.94-2.06-.94 2.06-2.06.94zm-11 1L8.5 8.5l.94-2.06 2.06-.94-2.06-.94L8.5 2.5l-.94 2.06-2.06.94zm10 10l.94 2.06.94-2.06 2.06-.94-2.06-.94-.94-2.06-.94 2.06-2.06.94z\"/><path d=\"M17.41 7.96l-1.37-1.37c-.4-.4-.92-.59-1.43-.59-.52 0-1.04.2-1.43.59L10.3 9.45l-7.72 7.72c-.78.78-.78 2.05 0 2.83L4 21.41c.39.39.9.59 1.41.59.51 0 1.02-.2 1.41-.59l7.78-7.78 2.81-2.81c.8-.78.8-2.07 0-2.86zM5.41 20L4 18.59l7.72-7.72 1.47 1.35L5.41 20z\"/>\n",
              "  </svg>\n",
              "      </button>\n",
              "      \n",
              "  <style>\n",
              "    .colab-df-container {\n",
              "      display:flex;\n",
              "      flex-wrap:wrap;\n",
              "      gap: 12px;\n",
              "    }\n",
              "\n",
              "    .colab-df-convert {\n",
              "      background-color: #E8F0FE;\n",
              "      border: none;\n",
              "      border-radius: 50%;\n",
              "      cursor: pointer;\n",
              "      display: none;\n",
              "      fill: #1967D2;\n",
              "      height: 32px;\n",
              "      padding: 0 0 0 0;\n",
              "      width: 32px;\n",
              "    }\n",
              "\n",
              "    .colab-df-convert:hover {\n",
              "      background-color: #E2EBFA;\n",
              "      box-shadow: 0px 1px 2px rgba(60, 64, 67, 0.3), 0px 1px 3px 1px rgba(60, 64, 67, 0.15);\n",
              "      fill: #174EA6;\n",
              "    }\n",
              "\n",
              "    [theme=dark] .colab-df-convert {\n",
              "      background-color: #3B4455;\n",
              "      fill: #D2E3FC;\n",
              "    }\n",
              "\n",
              "    [theme=dark] .colab-df-convert:hover {\n",
              "      background-color: #434B5C;\n",
              "      box-shadow: 0px 1px 3px 1px rgba(0, 0, 0, 0.15);\n",
              "      filter: drop-shadow(0px 1px 2px rgba(0, 0, 0, 0.3));\n",
              "      fill: #FFFFFF;\n",
              "    }\n",
              "  </style>\n",
              "\n",
              "      <script>\n",
              "        const buttonEl =\n",
              "          document.querySelector('#df-7d7b952e-5b36-4def-85e1-9db46224d7ba button.colab-df-convert');\n",
              "        buttonEl.style.display =\n",
              "          google.colab.kernel.accessAllowed ? 'block' : 'none';\n",
              "\n",
              "        async function convertToInteractive(key) {\n",
              "          const element = document.querySelector('#df-7d7b952e-5b36-4def-85e1-9db46224d7ba');\n",
              "          const dataTable =\n",
              "            await google.colab.kernel.invokeFunction('convertToInteractive',\n",
              "                                                     [key], {});\n",
              "          if (!dataTable) return;\n",
              "\n",
              "          const docLinkHtml = 'Like what you see? Visit the ' +\n",
              "            '<a target=\"_blank\" href=https://colab.research.google.com/notebooks/data_table.ipynb>data table notebook</a>'\n",
              "            + ' to learn more about interactive tables.';\n",
              "          element.innerHTML = '';\n",
              "          dataTable['output_type'] = 'display_data';\n",
              "          await google.colab.output.renderOutput(dataTable, element);\n",
              "          const docLink = document.createElement('div');\n",
              "          docLink.innerHTML = docLinkHtml;\n",
              "          element.appendChild(docLink);\n",
              "        }\n",
              "      </script>\n",
              "    </div>\n",
              "  </div>\n",
              "  "
            ]
          },
          "metadata": {},
          "execution_count": 37
        }
      ],
      "source": [
        "test_df"
      ]
    },
    {
      "cell_type": "code",
      "execution_count": null,
      "metadata": {
        "id": "0rkpEZF0jC07",
        "colab": {
          "base_uri": "https://localhost:8080/"
        },
        "outputId": "4e3332fa-f9a5-4190-e161-60d35176b360"
      },
      "outputs": [
        {
          "output_type": "stream",
          "name": "stdout",
          "text": [
            "Found 580 validated image filenames.\n",
            "Found 145 validated image filenames.\n",
            "Found 311 validated image filenames.\n"
          ]
        }
      ],
      "source": [
        "train_images = train_generator.flow_from_dataframe(\n",
        "    dataframe=train_df,\n",
        "    x_col='Difference_Image',\n",
        "    y_col='Error_Data',\n",
        "    target_size=(120, 120), #target_size=(120, 120),\n",
        "    color_mode='rgb',\n",
        "    class_mode='raw',\n",
        "    batch_size=32,\n",
        "    shuffle=True,\n",
        "    seed=42,\n",
        "    subset='training'\n",
        ")\n",
        "\n",
        "val_images = train_generator.flow_from_dataframe(\n",
        "    dataframe=train_df,\n",
        "    x_col='Difference_Image',\n",
        "    y_col='Error_Data',\n",
        "    target_size=(120, 120), #target_size=(120, 120),\n",
        "    color_mode='rgb',\n",
        "    class_mode='raw',\n",
        "    batch_size=16,\n",
        "    shuffle=True,\n",
        "    seed=42,\n",
        "    subset='validation'\n",
        ")\n",
        "\n",
        "test_images = test_generator.flow_from_dataframe(\n",
        "    dataframe=test_df,\n",
        "    x_col='Difference_Image',\n",
        "    y_col='Error_Data',\n",
        "    target_size=(120, 120),\n",
        "    color_mode='rgb',\n",
        "    class_mode='raw',\n",
        "    batch_size=16,\n",
        "    shuffle=False\n",
        ")"
      ]
    },
    {
      "cell_type": "code",
      "execution_count": null,
      "metadata": {
        "id": "5SZi9gEbjeXn",
        "colab": {
          "base_uri": "https://localhost:8080/"
        },
        "outputId": "3b0007b5-0c16-40e3-b775-bbb514c7a083"
      },
      "outputs": [
        {
          "output_type": "stream",
          "name": "stdout",
          "text": [
            "Epoch 1/50\n",
            "19/19 [==============================] - 12s 622ms/step - loss: 0.1149 - val_loss: 0.1026\n",
            "Epoch 2/50\n",
            "19/19 [==============================] - 11s 566ms/step - loss: 0.0890 - val_loss: 0.0778\n",
            "Epoch 3/50\n",
            "19/19 [==============================] - 11s 558ms/step - loss: 0.0595 - val_loss: 0.0410\n",
            "Epoch 4/50\n",
            "19/19 [==============================] - 11s 553ms/step - loss: 0.0231 - val_loss: 0.0090\n",
            "Epoch 5/50\n",
            "19/19 [==============================] - 11s 560ms/step - loss: 0.0052 - val_loss: 0.0027\n",
            "Epoch 6/50\n",
            "19/19 [==============================] - 11s 564ms/step - loss: 0.0028 - val_loss: 0.0023\n",
            "Epoch 7/50\n",
            "19/19 [==============================] - 11s 567ms/step - loss: 0.0020 - val_loss: 0.0019\n",
            "Epoch 8/50\n",
            "19/19 [==============================] - 11s 558ms/step - loss: 0.0017 - val_loss: 0.0021\n",
            "Epoch 9/50\n",
            "19/19 [==============================] - 11s 562ms/step - loss: 0.0016 - val_loss: 0.0020\n",
            "Epoch 10/50\n",
            "19/19 [==============================] - 11s 564ms/step - loss: 0.0020 - val_loss: 0.0015\n",
            "Epoch 11/50\n",
            "19/19 [==============================] - 11s 586ms/step - loss: 0.0020 - val_loss: 0.0019\n",
            "Epoch 12/50\n",
            "19/19 [==============================] - 11s 555ms/step - loss: 0.0013 - val_loss: 0.0011\n",
            "Epoch 13/50\n",
            "19/19 [==============================] - 11s 559ms/step - loss: 0.0017 - val_loss: 0.0033\n",
            "Epoch 14/50\n",
            "19/19 [==============================] - 11s 552ms/step - loss: 0.0018 - val_loss: 0.0012\n",
            "Epoch 15/50\n",
            "19/19 [==============================] - 11s 549ms/step - loss: 9.9733e-04 - val_loss: 9.1034e-04\n",
            "Epoch 16/50\n",
            "19/19 [==============================] - 11s 552ms/step - loss: 6.6651e-04 - val_loss: 8.7455e-04\n",
            "Epoch 17/50\n",
            "19/19 [==============================] - 11s 553ms/step - loss: 4.6042e-04 - val_loss: 6.1333e-04\n",
            "Epoch 18/50\n",
            "19/19 [==============================] - 11s 555ms/step - loss: 3.8986e-04 - val_loss: 6.5735e-04\n",
            "Epoch 19/50\n",
            "19/19 [==============================] - 13s 678ms/step - loss: 2.5133e-04 - val_loss: 4.6633e-04\n",
            "Epoch 20/50\n",
            "19/19 [==============================] - 11s 555ms/step - loss: 2.9605e-04 - val_loss: 4.9927e-04\n",
            "Epoch 21/50\n",
            "19/19 [==============================] - 11s 557ms/step - loss: 3.5408e-04 - val_loss: 8.7126e-04\n",
            "Epoch 22/50\n",
            "19/19 [==============================] - 11s 556ms/step - loss: 5.8409e-04 - val_loss: 4.9656e-04\n",
            "Epoch 23/50\n",
            "19/19 [==============================] - 11s 557ms/step - loss: 3.3869e-04 - val_loss: 6.2966e-04\n",
            "Epoch 24/50\n",
            "19/19 [==============================] - 11s 558ms/step - loss: 2.9177e-04 - val_loss: 0.0010\n",
            "Epoch 25/50\n",
            "19/19 [==============================] - 11s 555ms/step - loss: 5.4619e-04 - val_loss: 4.9476e-04\n",
            "Epoch 26/50\n",
            "19/19 [==============================] - 11s 555ms/step - loss: 3.8324e-04 - val_loss: 7.2604e-04\n",
            "Epoch 27/50\n",
            "19/19 [==============================] - 11s 558ms/step - loss: 1.7852e-04 - val_loss: 6.7513e-04\n",
            "Epoch 28/50\n",
            "19/19 [==============================] - 11s 557ms/step - loss: 1.8118e-04 - val_loss: 5.7871e-04\n",
            "Epoch 29/50\n",
            "19/19 [==============================] - 11s 556ms/step - loss: 1.6321e-04 - val_loss: 6.5268e-04\n"
          ]
        }
      ],
      "source": [
        "inputs = tf.keras.Input(shape=(120, 120, 3))  #inputs = tf.keras.Input(shape=(120, 120, 3))\n",
        "x = tf.keras.layers.Conv2D(filters=16, kernel_size=(3, 3), activation='relu')(inputs)\n",
        "x = tf.keras.layers.MaxPool2D()(x)\n",
        "x = tf.keras.layers.Conv2D(filters=32, kernel_size=(3, 3), activation='relu')(x)\n",
        "x = tf.keras.layers.MaxPool2D()(x)\n",
        "x = tf.keras.layers.Conv2D(filters=32, kernel_size=(3, 3), activation='relu')(x)\n",
        "x = tf.keras.layers.MaxPool2D()(x)\n",
        "#x = tf.keras.layers.Conv2D(filters=64, kernel_size=(3, 3), activation='relu')(x)\n",
        "#x = tf.keras.layers.MaxPool2D()(x)\n",
        "\n",
        "x = tf.keras.layers.GlobalAveragePooling2D()(x)\n",
        "x = tf.keras.layers.Dense(64, activation='relu')(x)\n",
        "x = tf.keras.layers.Dense(64, activation='relu')(x)\n",
        "#outputs = tf.keras.layers.Dense(1, activation='linear')(x)\n",
        "#outputs = tf.keras.layers.Dense(1, activation=tf.keras.activations.softmax)(x)\n",
        "outputs = tf.keras.layers.Dense(1, activation=tf.keras.activations.sigmoid)(x)\n",
        "\n",
        "model = tf.keras.Model(inputs=inputs, outputs=outputs)\n",
        "\n",
        "model.compile(\n",
        "    optimizer='adam',\n",
        "    loss='mse'\n",
        ")\n",
        "\n",
        "history = model.fit(\n",
        "    train_images,\n",
        "    validation_data=val_images,\n",
        "    epochs=50,\n",
        "    callbacks=[\n",
        "        tf.keras.callbacks.EarlyStopping(\n",
        "            monitor='val_loss',\n",
        "            patience=10,\n",
        "            restore_best_weights=True\n",
        "        )\n",
        "    ]\n",
        ")"
      ]
    },
    {
      "cell_type": "code",
      "source": [
        "model.summary()"
      ],
      "metadata": {
        "colab": {
          "base_uri": "https://localhost:8080/"
        },
        "id": "SnZCiF_vIsq8",
        "outputId": "6ade56d1-082d-4b82-98c8-3b4dbb99bd98"
      },
      "execution_count": null,
      "outputs": [
        {
          "output_type": "stream",
          "name": "stdout",
          "text": [
            "Model: \"model_3\"\n",
            "_________________________________________________________________\n",
            " Layer (type)                Output Shape              Param #   \n",
            "=================================================================\n",
            " input_4 (InputLayer)        [(None, 120, 120, 3)]     0         \n",
            "                                                                 \n",
            " conv2d_9 (Conv2D)           (None, 118, 118, 16)      448       \n",
            "                                                                 \n",
            " max_pooling2d_9 (MaxPooling  (None, 59, 59, 16)       0         \n",
            " 2D)                                                             \n",
            "                                                                 \n",
            " conv2d_10 (Conv2D)          (None, 57, 57, 32)        4640      \n",
            "                                                                 \n",
            " max_pooling2d_10 (MaxPoolin  (None, 28, 28, 32)       0         \n",
            " g2D)                                                            \n",
            "                                                                 \n",
            " conv2d_11 (Conv2D)          (None, 26, 26, 32)        9248      \n",
            "                                                                 \n",
            " max_pooling2d_11 (MaxPoolin  (None, 13, 13, 32)       0         \n",
            " g2D)                                                            \n",
            "                                                                 \n",
            " global_average_pooling2d_3   (None, 32)               0         \n",
            " (GlobalAveragePooling2D)                                        \n",
            "                                                                 \n",
            " dense_9 (Dense)             (None, 64)                2112      \n",
            "                                                                 \n",
            " dense_10 (Dense)            (None, 64)                4160      \n",
            "                                                                 \n",
            " dense_11 (Dense)            (None, 1)                 65        \n",
            "                                                                 \n",
            "=================================================================\n",
            "Total params: 20,673\n",
            "Trainable params: 20,673\n",
            "Non-trainable params: 0\n",
            "_________________________________________________________________\n"
          ]
        }
      ]
    },
    {
      "cell_type": "code",
      "source": [
        "import matplotlib.pyplot as plt\n",
        "# summarize history for loss\n",
        "plt.plot(history.history['loss'])\n",
        "plt.plot(history.history['val_loss'])\n",
        "plt.title('model loss')\n",
        "plt.ylabel('loss')\n",
        "plt.xlabel('epoch')\n",
        "plt.legend(['Train', 'Validation'], loc='upper left')\n",
        "plt.show()"
      ],
      "metadata": {
        "colab": {
          "base_uri": "https://localhost:8080/",
          "height": 295
        },
        "id": "u7jI8tomCmQO",
        "outputId": "7298d636-b411-4476-bd57-0736911c987e"
      },
      "execution_count": null,
      "outputs": [
        {
          "output_type": "display_data",
          "data": {
            "text/plain": [
              "<Figure size 432x288 with 1 Axes>"
            ],
            "image/png": "[encoded data removed]"
          },
          "metadata": {
            "needs_background": "light"
          }
        }
      ]
    },
    {
      "cell_type": "code",
      "execution_count": null,
      "metadata": {
        "id": "gu6tL6HtoXi8",
        "colab": {
          "base_uri": "https://localhost:8080/"
        },
        "outputId": "6fb9458b-e648-41dd-db48-d56d19effa85"
      },
      "outputs": [
        {
          "output_type": "stream",
          "name": "stdout",
          "text": [
            "20/20 [==============================] - 3s 156ms/step\n",
            "     Test RMSE: 0.02227\n",
            "Test R^2 Score: 0.98885\n"
          ]
        }
      ],
      "source": [
        "predicted_layer_perc = np.squeeze(model.predict(test_images))\n",
        "true_layer_perc = test_images.labels\n",
        "\n",
        "rmse = np.sqrt(model.evaluate(test_images, verbose=0))\n",
        "print(\"     Test RMSE: {:.5f}\".format(rmse))\n",
        "\n",
        "r2 = r2_score(true_layer_perc, predicted_layer_perc)\n",
        "print(\"Test R^2 Score: {:.5f}\".format(r2))"
      ]
    },
    {
      "cell_type": "code",
      "execution_count": null,
      "metadata": {
        "id": "WucEv6rHfWQj",
        "colab": {
          "base_uri": "https://localhost:8080/",
          "height": 206
        },
        "outputId": "4364d6d3-f913-4aac-c403-efcd1cf59549"
      },
      "outputs": [
        {
          "output_type": "execute_result",
          "data": {
            "text/plain": [
              "     Actual  Predicted\n",
              "0  0.000000   0.004283\n",
              "1  0.000000   0.004283\n",
              "2  0.351849   0.388817\n",
              "3  0.000000   0.004283\n",
              "4  0.332143   0.355711"
            ],
            "text/html": [
              "\n",
              "  <div id=\"df-805188ed-4ff1-42c0-8820-1c456d86fe8d\">\n",
              "    <div class=\"colab-df-container\">\n",
              "      <div>\n",
              "<style scoped>\n",
              "    .dataframe tbody tr th:only-of-type {\n",
              "        vertical-align: middle;\n",
              "    }\n",
              "\n",
              "    .dataframe tbody tr th {\n",
              "        vertical-align: top;\n",
              "    }\n",
              "\n",
              "    .dataframe thead th {\n",
              "        text-align: right;\n",
              "    }\n",
              "</style>\n",
              "<table border=\"1\" class=\"dataframe\">\n",
              "  <thead>\n",
              "    <tr style=\"text-align: right;\">\n",
              "      <th></th>\n",
              "      <th>Actual</th>\n",
              "      <th>Predicted</th>\n",
              "    </tr>\n",
              "  </thead>\n",
              "  <tbody>\n",
              "    <tr>\n",
              "      <th>0</th>\n",
              "      <td>0.000000</td>\n",
              "      <td>0.004283</td>\n",
              "    </tr>\n",
              "    <tr>\n",
              "      <th>1</th>\n",
              "      <td>0.000000</td>\n",
              "      <td>0.004283</td>\n",
              "    </tr>\n",
              "    <tr>\n",
              "      <th>2</th>\n",
              "      <td>0.351849</td>\n",
              "      <td>0.388817</td>\n",
              "    </tr>\n",
              "    <tr>\n",
              "      <th>3</th>\n",
              "      <td>0.000000</td>\n",
              "      <td>0.004283</td>\n",
              "    </tr>\n",
              "    <tr>\n",
              "      <th>4</th>\n",
              "      <td>0.332143</td>\n",
              "      <td>0.355711</td>\n",
              "    </tr>\n",
              "  </tbody>\n",
              "</table>\n",
              "</div>\n",
              "      <button class=\"colab-df-convert\" onclick=\"convertToInteractive('df-805188ed-4ff1-42c0-8820-1c456d86fe8d')\"\n",
              "              title=\"Convert this dataframe to an interactive table.\"\n",
              "              style=\"display:none;\">\n",
              "        \n",
              "  <svg xmlns=\"http://www.w3.org/2000/svg\" height=\"24px\"viewBox=\"0 0 24 24\"\n",
              "       width=\"24px\">\n",
              "    <path d=\"M0 0h24v24H0V0z\" fill=\"none\"/>\n",
              "    <path d=\"M18.56 5.44l.94 2.06.94-2.06 2.06-.94-2.06-.94-.94-2.06-.94 2.06-2.06.94zm-11 1L8.5 8.5l.94-2.06 2.06-.94-2.06-.94L8.5 2.5l-.94 2.06-2.06.94zm10 10l.94 2.06.94-2.06 2.06-.94-2.06-.94-.94-2.06-.94 2.06-2.06.94z\"/><path d=\"M17.41 7.96l-1.37-1.37c-.4-.4-.92-.59-1.43-.59-.52 0-1.04.2-1.43.59L10.3 9.45l-7.72 7.72c-.78.78-.78 2.05 0 2.83L4 21.41c.39.39.9.59 1.41.59.51 0 1.02-.2 1.41-.59l7.78-7.78 2.81-2.81c.8-.78.8-2.07 0-2.86zM5.41 20L4 18.59l7.72-7.72 1.47 1.35L5.41 20z\"/>\n",
              "  </svg>\n",
              "      </button>\n",
              "      \n",
              "  <style>\n",
              "    .colab-df-container {\n",
              "      display:flex;\n",
              "      flex-wrap:wrap;\n",
              "      gap: 12px;\n",
              "    }\n",
              "\n",
              "    .colab-df-convert {\n",
              "      background-color: #E8F0FE;\n",
              "      border: none;\n",
              "      border-radius: 50%;\n",
              "      cursor: pointer;\n",
              "      display: none;\n",
              "      fill: #1967D2;\n",
              "      height: 32px;\n",
              "      padding: 0 0 0 0;\n",
              "      width: 32px;\n",
              "    }\n",
              "\n",
              "    .colab-df-convert:hover {\n",
              "      background-color: #E2EBFA;\n",
              "      box-shadow: 0px 1px 2px rgba(60, 64, 67, 0.3), 0px 1px 3px 1px rgba(60, 64, 67, 0.15);\n",
              "      fill: #174EA6;\n",
              "    }\n",
              "\n",
              "    [theme=dark] .colab-df-convert {\n",
              "      background-color: #3B4455;\n",
              "      fill: #D2E3FC;\n",
              "    }\n",
              "\n",
              "    [theme=dark] .colab-df-convert:hover {\n",
              "      background-color: #434B5C;\n",
              "      box-shadow: 0px 1px 3px 1px rgba(0, 0, 0, 0.15);\n",
              "      filter: drop-shadow(0px 1px 2px rgba(0, 0, 0, 0.3));\n",
              "      fill: #FFFFFF;\n",
              "    }\n",
              "  </style>\n",
              "\n",
              "      <script>\n",
              "        const buttonEl =\n",
              "          document.querySelector('#df-805188ed-4ff1-42c0-8820-1c456d86fe8d button.colab-df-convert');\n",
              "        buttonEl.style.display =\n",
              "          google.colab.kernel.accessAllowed ? 'block' : 'none';\n",
              "\n",
              "        async function convertToInteractive(key) {\n",
              "          const element = document.querySelector('#df-805188ed-4ff1-42c0-8820-1c456d86fe8d');\n",
              "          const dataTable =\n",
              "            await google.colab.kernel.invokeFunction('convertToInteractive',\n",
              "                                                     [key], {});\n",
              "          if (!dataTable) return;\n",
              "\n",
              "          const docLinkHtml = 'Like what you see? Visit the ' +\n",
              "            '<a target=\"_blank\" href=https://colab.research.google.com/notebooks/data_table.ipynb>data table notebook</a>'\n",
              "            + ' to learn more about interactive tables.';\n",
              "          element.innerHTML = '';\n",
              "          dataTable['output_type'] = 'display_data';\n",
              "          await google.colab.output.renderOutput(dataTable, element);\n",
              "          const docLink = document.createElement('div');\n",
              "          docLink.innerHTML = docLinkHtml;\n",
              "          element.appendChild(docLink);\n",
              "        }\n",
              "      </script>\n",
              "    </div>\n",
              "  </div>\n",
              "  "
            ]
          },
          "metadata": {},
          "execution_count": 64
        }
      ],
      "source": [
        "prediction_table = pd.DataFrame({'Actual': true_layer_perc, 'Predicted': predicted_layer_perc})\n",
        "prediction_table.head()"
      ]
    },
    {
      "cell_type": "code",
      "execution_count": null,
      "metadata": {
        "id": "x6sQp-mFfu1r",
        "colab": {
          "base_uri": "https://localhost:8080/",
          "height": 265
        },
        "outputId": "1e087a9d-ff03-4fa0-d868-6e4c3ea396bf"
      },
      "outputs": [
        {
          "output_type": "display_data",
          "data": {
            "text/plain": [
              "<Figure size 2160x432 with 1 Axes>"
            ],
            "image/png": "[encoded data removed]"
          },
          "metadata": {
            "needs_background": "light"
          }
        }
      ],
      "source": [
        "prediction_table[0:50].plot(kind='bar',figsize=(30,6))\n",
        "plt.grid(which='major', linestyle='-', linewidth='0.5', color='green')\n",
        "plt.grid(which='minor', linestyle=':', linewidth='0.5', color='black')\n",
        "plt.title('Actual vs Predicted Layer Values')\n",
        "plt.xlabel('Layer Height')\n",
        "plt.ylabel('Value in Array')\n",
        "plt.show()"
      ]
    },
    {
      "cell_type": "markdown",
      "metadata": {
        "id": "qzRRZxX9h090"
      },
      "source": [
        "# Testing Machine Learning on Full-Scan Diff4"
      ]
    },
    {
      "cell_type": "code",
      "source": [
        "model.layers[0].input_shape\n"
      ],
      "metadata": {
        "colab": {
          "base_uri": "https://localhost:8080/"
        },
        "id": "DfeUUcAXKeS2",
        "outputId": "ae37d6ba-c863-45c4-aaf0-99677cf1d227"
      },
      "execution_count": null,
      "outputs": [
        {
          "output_type": "execute_result",
          "data": {
            "text/plain": [
              "[(None, 120, 120, 3)]"
            ]
          },
          "metadata": {},
          "execution_count": 66
        }
      ]
    },
    {
      "cell_type": "code",
      "source": [
        "IMG_SIZE = 120  #240  #120\n",
        "#img = image.load_img('34.jpg', target_size=(IMG_SIZE, IMG_SIZE))\n",
        "\n",
        "img = tf.keras.utils.load_img('21.jpg', target_size=(IMG_SIZE, IMG_SIZE))"
      ],
      "metadata": {
        "id": "W0BCa4fYLCwX"
      },
      "execution_count": null,
      "outputs": []
    },
    {
      "cell_type": "code",
      "source": [
        "plt.imshow(img)"
      ],
      "metadata": {
        "colab": {
          "base_uri": "https://localhost:8080/",
          "height": 285
        },
        "id": "QDJG5nztLhqd",
        "outputId": "5a0afc2d-83c6-493c-891a-11b52cdcfb24"
      },
      "execution_count": null,
      "outputs": [
        {
          "output_type": "execute_result",
          "data": {
            "text/plain": [
              "<matplotlib.image.AxesImage at 0x7f677d226210>"
            ]
          },
          "metadata": {},
          "execution_count": 69
        },
        {
          "output_type": "display_data",
          "data": {
            "text/plain": [
              "<Figure size 432x288 with 1 Axes>"
            ],
            "image/png": "[encoded data removed]"
          },
          "metadata": {
            "needs_background": "light"
          }
        }
      ]
    },
    {
      "cell_type": "code",
      "source": [
        "img = np.expand_dims(img, axis=0)"
      ],
      "metadata": {
        "id": "nTStUaZHMNXw"
      },
      "execution_count": null,
      "outputs": []
    },
    {
      "cell_type": "code",
      "source": [
        "result= model.predict(img)\n",
        "print(result)"
      ],
      "metadata": {
        "colab": {
          "base_uri": "https://localhost:8080/"
        },
        "id": "0Ab-lRkyMO3W",
        "outputId": "57c39850-cf3a-4e4f-a91a-acca766c4023"
      },
      "execution_count": null,
      "outputs": [
        {
          "output_type": "stream",
          "name": "stdout",
          "text": [
            "1/1 [==============================] - 0s 102ms/step\n",
            "[[0.32054898]]\n"
          ]
        }
      ]
    },
    {
      "cell_type": "code",
      "execution_count": null,
      "metadata": {
        "id": "PfM6W2xfh7tP",
        "colab": {
          "base_uri": "https://localhost:8080/"
        },
        "outputId": "bd295de8-87ec-4c8b-d07f-99500277e9c2"
      },
      "outputs": [
        {
          "output_type": "stream",
          "name": "stdout",
          "text": [
            "83\n",
            "1/1 [==============================] - 0s 25ms/step\n",
            "1/1 [==============================] - 0s 22ms/step\n",
            "1/1 [==============================] - 0s 25ms/step\n",
            "1/1 [==============================] - 0s 24ms/step\n",
            "1/1 [==============================] - 0s 24ms/step\n",
            "1/1 [==============================] - 0s 26ms/step\n",
            "1/1 [==============================] - 0s 24ms/step\n",
            "1/1 [==============================] - 0s 24ms/step\n",
            "1/1 [==============================] - 0s 25ms/step\n",
            "1/1 [==============================] - 0s 24ms/step\n",
            "1/1 [==============================] - 0s 23ms/step\n",
            "1/1 [==============================] - 0s 23ms/step\n",
            "1/1 [==============================] - 0s 23ms/step\n",
            "1/1 [==============================] - 0s 25ms/step\n",
            "1/1 [==============================] - 0s 23ms/step\n",
            "1/1 [==============================] - 0s 23ms/step\n",
            "1/1 [==============================] - 0s 22ms/step\n",
            "1/1 [==============================] - 0s 23ms/step\n",
            "1/1 [==============================] - 0s 23ms/step\n",
            "1/1 [==============================] - 0s 24ms/step\n",
            "1/1 [==============================] - 0s 27ms/step\n",
            "1/1 [==============================] - 0s 25ms/step\n",
            "1/1 [==============================] - 0s 27ms/step\n",
            "1/1 [==============================] - 0s 27ms/step\n",
            "1/1 [==============================] - 0s 30ms/step\n",
            "1/1 [==============================] - 0s 25ms/step\n",
            "1/1 [==============================] - 0s 23ms/step\n",
            "1/1 [==============================] - 0s 22ms/step\n",
            "1/1 [==============================] - 0s 23ms/step\n",
            "1/1 [==============================] - 0s 29ms/step\n",
            "1/1 [==============================] - 0s 23ms/step\n",
            "1/1 [==============================] - 0s 32ms/step\n",
            "1/1 [==============================] - 0s 27ms/step\n",
            "1/1 [==============================] - 0s 26ms/step\n",
            "1/1 [==============================] - 0s 26ms/step\n",
            "1/1 [==============================] - 0s 25ms/step\n",
            "1/1 [==============================] - 0s 23ms/step\n",
            "1/1 [==============================] - 0s 29ms/step\n",
            "1/1 [==============================] - 0s 23ms/step\n",
            "1/1 [==============================] - 0s 24ms/step\n",
            "1/1 [==============================] - 0s 22ms/step\n",
            "1/1 [==============================] - 0s 23ms/step\n",
            "1/1 [==============================] - 0s 24ms/step\n",
            "1/1 [==============================] - 0s 25ms/step\n",
            "1/1 [==============================] - 0s 26ms/step\n",
            "1/1 [==============================] - 0s 32ms/step\n",
            "1/1 [==============================] - 0s 23ms/step\n",
            "1/1 [==============================] - 0s 23ms/step\n",
            "1/1 [==============================] - 0s 24ms/step\n",
            "1/1 [==============================] - 0s 22ms/step\n",
            "1/1 [==============================] - 0s 22ms/step\n",
            "1/1 [==============================] - 0s 28ms/step\n",
            "1/1 [==============================] - 0s 39ms/step\n",
            "1/1 [==============================] - 0s 24ms/step\n",
            "1/1 [==============================] - 0s 23ms/step\n",
            "1/1 [==============================] - 0s 23ms/step\n",
            "1/1 [==============================] - 0s 24ms/step\n",
            "1/1 [==============================] - 0s 24ms/step\n",
            "1/1 [==============================] - 0s 28ms/step\n",
            "1/1 [==============================] - 0s 23ms/step\n",
            "1/1 [==============================] - 0s 24ms/step\n",
            "1/1 [==============================] - 0s 23ms/step\n",
            "1/1 [==============================] - 0s 25ms/step\n",
            "1/1 [==============================] - 0s 22ms/step\n",
            "1/1 [==============================] - 0s 24ms/step\n",
            "1/1 [==============================] - 0s 23ms/step\n",
            "1/1 [==============================] - 0s 26ms/step\n",
            "1/1 [==============================] - 0s 31ms/step\n",
            "1/1 [==============================] - 0s 23ms/step\n",
            "1/1 [==============================] - 0s 23ms/step\n",
            "1/1 [==============================] - 0s 23ms/step\n",
            "1/1 [==============================] - 0s 32ms/step\n",
            "1/1 [==============================] - 0s 32ms/step\n",
            "1/1 [==============================] - 0s 23ms/step\n",
            "1/1 [==============================] - 0s 23ms/step\n",
            "1/1 [==============================] - 0s 25ms/step\n",
            "1/1 [==============================] - 0s 23ms/step\n",
            "1/1 [==============================] - 0s 23ms/step\n",
            "1/1 [==============================] - 0s 22ms/step\n",
            "1/1 [==============================] - 0s 23ms/step\n",
            "1/1 [==============================] - 0s 24ms/step\n",
            "1/1 [==============================] - 0s 24ms/step\n",
            "1/1 [==============================] - 0s 23ms/step\n"
          ]
        }
      ],
      "source": [
        "count = 0\n",
        "test = []\n",
        "for path in os.listdir(f'/content/drive/MyDrive/Diff_All/Diff4'):\n",
        "    # check if current path is a file\n",
        "    if os.path.isfile(os.path.join(f'/content/drive/MyDrive/Diff_All/Diff4', path)):\n",
        "        count += 1\n",
        "print(count)\n",
        "\n",
        "for i in range(1,count+1): \n",
        "      for image1 in glob.glob(f'/content/drive/MyDrive/Diff_All/Diff4/{i}.jpg'):                    \n",
        "            #print(model.predict(image1))\n",
        "            IMG_SIZE = 120\n",
        "            img = tf.keras.utils.load_img(image1, target_size=(IMG_SIZE, IMG_SIZE))\n",
        "            img = np.expand_dims(img, axis=0)\n",
        "            result = model.predict(img)\n",
        "            #print(float(result[0]))\n",
        "            test.append(float(result))\n",
        "            #test.append(image1)\n",
        "            #model.predict(image1)"
      ]
    },
    {
      "cell_type": "code",
      "source": [
        "print(test[0])"
      ],
      "metadata": {
        "id": "vIM_y9hMdT2O",
        "colab": {
          "base_uri": "https://localhost:8080/"
        },
        "outputId": "470ca622-ea02-426d-8ad7-3fac29167067"
      },
      "execution_count": null,
      "outputs": [
        {
          "output_type": "stream",
          "name": "stdout",
          "text": [
            "0.00428339559584856\n"
          ]
        }
      ]
    },
    {
      "cell_type": "code",
      "source": [
        "print(test)"
      ],
      "metadata": {
        "colab": {
          "base_uri": "https://localhost:8080/"
        },
        "id": "RQrtsjc8cPGt",
        "outputId": "7a14c02d-ef61-4a65-b0ef-39b76d4ebbfb"
      },
      "execution_count": null,
      "outputs": [
        {
          "output_type": "stream",
          "name": "stdout",
          "text": [
            "[0.00428339559584856, 0.00428339559584856, 0.00428339559584856, 0.00428339559584856, 0.00428339559584856, 0.00428339559584856, 0.00428339559584856, 0.00428339559584856, 0.00428339559584856, 0.00428339559584856, 0.00428339559584856, 0.00428339559584856, 0.00428339559584856, 0.00428339559584856, 0.00428339559584856, 0.00428339559584856, 0.00428339559584856, 0.00428339559584856, 0.00428339559584856, 0.00428339559584856, 0.00428339559584856, 0.00428339559584856, 0.00428339559584856, 0.00428339559584856, 0.29364508390426636, 0.44661837816238403, 0.5079217553138733, 0.49923011660575867, 0.5118107199668884, 0.44259536266326904, 0.5435287356376648, 0.5159780979156494, 0.5361291766166687, 0.5517349243164062, 0.5025320649147034, 0.5173407196998596, 0.44577252864837646, 0.5677397847175598, 0.5471370220184326, 0.48786023259162903, 0.5505984425544739, 0.550291895866394, 0.5311707854270935, 0.5280600786209106, 0.5797010660171509, 0.5168991684913635, 0.5284804105758667, 0.5365761518478394, 0.5543553829193115, 0.4389084279537201, 0.5145514011383057, 0.5046360492706299, 0.5012476444244385, 0.4031657874584198, 0.49053430557250977, 0.4673175811767578, 0.37352055311203003, 0.3399905860424042, 0.2744322717189789, 0.2959904372692108, 0.23067528009414673, 0.00428339559584856, 0.00428339559584856, 0.00428339559584856, 0.00428339559584856, 0.00428339559584856, 0.00428339559584856, 0.00428339559584856, 0.00428339559584856, 0.00428339559584856, 0.00428339559584856, 0.00428339559584856, 0.00428339559584856, 0.00428339559584856, 0.00428339559584856, 0.00428339559584856, 0.00428339559584856, 0.00428339559584856, 0.00428339559584856, 0.00428339559584856, 0.00428339559584856, 0.00428339559584856, 0.00428339559584856]\n"
          ]
        }
      ]
    }
  ],
  "metadata": {
    "colab": {
      "collapsed_sections": [],
      "provenance": []
    },
    "kernelspec": {
      "display_name": "Python 3",
      "name": "python3"
    },
    "language_info": {
      "name": "python"
    }
  },
  "nbformat": 4,
  "nbformat_minor": 0
}