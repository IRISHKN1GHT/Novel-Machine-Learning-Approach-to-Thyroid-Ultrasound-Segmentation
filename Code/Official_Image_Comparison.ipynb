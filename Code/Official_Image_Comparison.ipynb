{
  "nbformat": 4,
  "nbformat_minor": 0,
  "metadata": {
    "colab": {
      "provenance": [],
      "collapsed_sections": []
    },
    "kernelspec": {
      "name": "python3",
      "display_name": "Python 3"
    },
    "language_info": {
      "name": "python"
    }
  },
  "cells": [
    {
      "cell_type": "markdown",
      "source": [
        "# Image Comparison"
      ],
      "metadata": {
        "id": "8rr0WRzJpPmA"
      }
    },
    {
      "cell_type": "markdown",
      "source": [
        "This is code to prove the image comparison idea on two Images"
      ],
      "metadata": {
        "id": "nfK2CSAhpR_0"
      }
    },
    {
      "cell_type": "markdown",
      "source": [
        "## Install and Imports"
      ],
      "metadata": {
        "id": "1XQuuLYfXP7K"
      }
    },
    {
      "cell_type": "code",
      "source": [
        "# Python Imaging Library\n",
        "!pip install pillow"
      ],
      "metadata": {
        "colab": {
          "base_uri": "https://localhost:8080/"
        },
        "id": "AjGFC63SuvxN",
        "outputId": "35d527b6-144b-4347-814c-a0a083a4a237"
      },
      "execution_count": null,
      "outputs": [
        {
          "output_type": "stream",
          "name": "stdout",
          "text": [
            "Looking in indexes: https://pypi.org/simple, https://us-python.pkg.dev/colab-wheels/public/simple/\n",
            "Requirement already satisfied: pillow in /usr/local/lib/python3.7/dist-packages (7.1.2)\n"
          ]
        }
      ]
    },
    {
      "cell_type": "code",
      "execution_count": null,
      "metadata": {
        "id": "Q21LLmUAfKMn"
      },
      "outputs": [],
      "source": [
        "# Used for Plotting\n",
        "import matplotlib.pyplot as plt\n",
        "# Basic image loading, rescaling and display operations.\n",
        "import matplotlib.image as img\n",
        "# Used to work with arrays and matrix data structures\n",
        "import numpy as np\n",
        "# Python Imaging library that allows for more extensive editing capabilities\n",
        "from PIL import Image, ImageChops\n",
        "# For solving computer vision problems\n",
        "import cv2\n",
        "# cv2 has some issues and this solves it for colab\n",
        "from google.colab.patches import cv2_imshow"
      ]
    },
    {
      "cell_type": "markdown",
      "source": [
        "## Viewing Images"
      ],
      "metadata": {
        "id": "86_0sCjaXKGX"
      }
    },
    {
      "cell_type": "code",
      "source": [
        "img = plt.imread(\"image.0029.jpg\")\n",
        "fig, ax = plt.subplots()\n",
        "img = ax.imshow(img)\t\n",
        "plt.show()"
      ],
      "metadata": {
        "colab": {
          "base_uri": "https://localhost:8080/",
          "height": 261
        },
        "id": "M2bO0TqSH1Nz",
        "outputId": "8dd257b8-62f8-48d2-86f1-e612071eeb4a"
      },
      "execution_count": null,
      "outputs": [
        {
          "output_type": "display_data",
          "data": {
            "text/plain": [
              "<Figure size 432x288 with 1 Axes>"
            ],
            "image/png": "[encoded data removed]"
          },
          "metadata": {
            "needs_background": "light"
          }
        }
      ]
    },
    {
      "cell_type": "code",
      "source": [
        "img = plt.imread(\"image.0030.jpg\")\n",
        "fig, ax = plt.subplots()\n",
        "img = ax.imshow(img)\n",
        "\t\n",
        "plt.show()"
      ],
      "metadata": {
        "colab": {
          "base_uri": "https://localhost:8080/",
          "height": 261
        },
        "id": "gbkKznQjwu4k",
        "outputId": "fa3d5521-6534-4c0f-8529-3c2dfa5e696b"
      },
      "execution_count": null,
      "outputs": [
        {
          "output_type": "display_data",
          "data": {
            "text/plain": [
              "<Figure size 432x288 with 1 Axes>"
            ],
            "image/png": "[encoded data removed]"
          },
          "metadata": {
            "needs_background": "light"
          }
        }
      ]
    },
    {
      "cell_type": "code",
      "source": [
        "# Reading Image\n",
        "img = plt.imread(\"image.0029.jpg\")\n",
        "\n",
        "# Retrieving Height and Width of Image\n",
        "height, width, _ = img.shape\n",
        " \n",
        "# Area \n",
        "area = height * width\n",
        " \n",
        "# Displaying the area\n",
        "print(height)\n",
        "print(width)\n",
        "print(\"Area of the image is : \", area)"
      ],
      "metadata": {
        "colab": {
          "base_uri": "https://localhost:8080/"
        },
        "id": "INmMxClAhkNS",
        "outputId": "196195cf-db6b-4772-cf09-095d9f4f7710"
      },
      "execution_count": null,
      "outputs": [
        {
          "output_type": "stream",
          "name": "stdout",
          "text": [
            "899\n",
            "1442\n",
            "Area of the image is :  1296358\n"
          ]
        }
      ]
    },
    {
      "cell_type": "markdown",
      "source": [
        "## Finding Absolute Difference from two Images"
      ],
      "metadata": {
        "id": "Vx6QV3zeX089"
      }
    },
    {
      "cell_type": "code",
      "source": [
        "# Loading the Images\n",
        "img1 = cv2.imread('image.0029.jpg')\n",
        "img2 = cv2.imread('image.0030.jpg')\n",
        "\n",
        "# Converting the images to grayscale\n",
        "img1 = cv2.cvtColor(img1, cv2.COLOR_BGR2GRAY)\n",
        "img2 = cv2.cvtColor(img2, cv2.COLOR_BGR2GRAY)\n",
        "\n",
        "# Getting Mean Squared Error difference between the Images\n",
        "def mse(img1, img2):\n",
        "   # Height and Width of Image\n",
        "   h, w = img1.shape\n",
        "   # Absolute Difference between two Images\n",
        "   diff = cv2.absdiff(img1, img2)\n",
        "   # Calculating MSE using the difference\n",
        "   err = np.sum(diff**2)\n",
        "   mse = err/(float(h*w))\n",
        "   # Returning MSE and Difference Image\n",
        "   return mse, diff\n",
        "\n",
        "# Passing sequential Images into mse\n",
        "error, diff = mse(img1, img2)\n",
        "# Error between the two images\n",
        "print(\"Image matching Error between the two images:\",error)\n",
        "plt.title('Difference between the two images')\n",
        "plt.imshow(diff)"
      ],
      "metadata": {
        "colab": {
          "base_uri": "https://localhost:8080/",
          "height": 308
        },
        "id": "I7ELbyCEvyA0",
        "outputId": "d08a6dcc-e9af-46df-8671-1dacf840e284"
      },
      "execution_count": null,
      "outputs": [
        {
          "output_type": "stream",
          "name": "stdout",
          "text": [
            "Image matching Error between the two images: 0.5902682746586977\n"
          ]
        },
        {
          "output_type": "execute_result",
          "data": {
            "text/plain": [
              "<matplotlib.image.AxesImage at 0x7f36a7903990>"
            ]
          },
          "metadata": {},
          "execution_count": 36
        },
        {
          "output_type": "display_data",
          "data": {
            "text/plain": [
              "<Figure size 432x288 with 1 Axes>"
            ],
            "image/png": "[encoded data removed]"
          },
          "metadata": {
            "needs_background": "light"
          }
        }
      ]
    }
  ]
}