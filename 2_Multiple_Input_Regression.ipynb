{
  "nbformat": 4,
  "nbformat_minor": 0,
  "metadata": {
    "colab": {
      "provenance": []
    },
    "kernelspec": {
      "name": "python3",
      "display_name": "Python 3"
    },
    "language_info": {
      "name": "python"
    }
  },
  "cells": [
    {
      "cell_type": "code",
      "source": [
        "import pandas as pd\n",
        "import numpy as np\n",
        "import matplotlib.pyplot as plt\n",
        "import seaborn as sns\n",
        "# Using Linear Regression\n",
        "from sklearn.linear_model import LinearRegression\n",
        "from sklearn import metrics\n",
        "from sklearn.model_selection import train_test_split\n",
        "from sklearn.tree import DecisionTreeRegressor\n",
        "from sklearn.ensemble import RandomForestRegressor\n",
        "from sklearn.ensemble import GradientBoostingRegressor\n",
        "from sklearn.linear_model import RANSACRegressor"
      ],
      "metadata": {
        "id": "LOrAAMMw2VzM"
      },
      "execution_count": 152,
      "outputs": []
    },
    {
      "cell_type": "markdown",
      "source": [
        "# Reading in Data"
      ],
      "metadata": {
        "id": "WlKmmf6igQtR"
      }
    },
    {
      "cell_type": "code",
      "source": [
        "# Reading in Split dataset\n",
        "sep_data = pd.read_csv('Data_Table_Complete_CSV_CLEAN.csv')\n",
        "# Printing contents of dataset\n",
        "sep_data.head()"
      ],
      "metadata": {
        "colab": {
          "base_uri": "https://localhost:8080/",
          "height": 270
        },
        "id": "Z1Ry-ge-Bv6R",
        "outputId": "22240667-6841-4452-9452-5848c8581235"
      },
      "execution_count": 6,
      "outputs": [
        {
          "output_type": "execute_result",
          "data": {
            "text/plain": [
              "   Scan_Height_mm  Scan_Height_Layers  mm_per_Layer_Height  Scan_Width_mm  \\\n",
              "0            24.8                  55             0.450909           21.7   \n",
              "1            26.3                  46             0.571739           18.5   \n",
              "2            25.4                  58             0.437931           20.4   \n",
              "3            25.3                  36             0.702778           21.6   \n",
              "4            27.8                  46             0.604348           21.9   \n",
              "\n",
              "   Scan_Width_Layers  mm_per_Layer_Width  Scan_Depth_mm  Scan_Depth_Layers  \\\n",
              "0                395            0.054937           20.1                382   \n",
              "1                422            0.043839           19.0                379   \n",
              "2                409            0.049878           20.0                400   \n",
              "3                430            0.050233           18.4                362   \n",
              "4                365            0.060000           21.6                372   \n",
              "\n",
              "   mm_per_Layer_Depth  \n",
              "0            0.052618  \n",
              "1            0.050132  \n",
              "2            0.050000  \n",
              "3            0.050829  \n",
              "4            0.058065  "
            ],
            "text/html": [
              "\n",
              "  <div id=\"df-4560c80e-2b0c-4b64-99f0-61f9bd284458\">\n",
              "    <div class=\"colab-df-container\">\n",
              "      <div>\n",
              "<style scoped>\n",
              "    .dataframe tbody tr th:only-of-type {\n",
              "        vertical-align: middle;\n",
              "    }\n",
              "\n",
              "    .dataframe tbody tr th {\n",
              "        vertical-align: top;\n",
              "    }\n",
              "\n",
              "    .dataframe thead th {\n",
              "        text-align: right;\n",
              "    }\n",
              "</style>\n",
              "<table border=\"1\" class=\"dataframe\">\n",
              "  <thead>\n",
              "    <tr style=\"text-align: right;\">\n",
              "      <th></th>\n",
              "      <th>Scan_Height_mm</th>\n",
              "      <th>Scan_Height_Layers</th>\n",
              "      <th>mm_per_Layer_Height</th>\n",
              "      <th>Scan_Width_mm</th>\n",
              "      <th>Scan_Width_Layers</th>\n",
              "      <th>mm_per_Layer_Width</th>\n",
              "      <th>Scan_Depth_mm</th>\n",
              "      <th>Scan_Depth_Layers</th>\n",
              "      <th>mm_per_Layer_Depth</th>\n",
              "    </tr>\n",
              "  </thead>\n",
              "  <tbody>\n",
              "    <tr>\n",
              "      <th>0</th>\n",
              "      <td>24.8</td>\n",
              "      <td>55</td>\n",
              "      <td>0.450909</td>\n",
              "      <td>21.7</td>\n",
              "      <td>395</td>\n",
              "      <td>0.054937</td>\n",
              "      <td>20.1</td>\n",
              "      <td>382</td>\n",
              "      <td>0.052618</td>\n",
              "    </tr>\n",
              "    <tr>\n",
              "      <th>1</th>\n",
              "      <td>26.3</td>\n",
              "      <td>46</td>\n",
              "      <td>0.571739</td>\n",
              "      <td>18.5</td>\n",
              "      <td>422</td>\n",
              "      <td>0.043839</td>\n",
              "      <td>19.0</td>\n",
              "      <td>379</td>\n",
              "      <td>0.050132</td>\n",
              "    </tr>\n",
              "    <tr>\n",
              "      <th>2</th>\n",
              "      <td>25.4</td>\n",
              "      <td>58</td>\n",
              "      <td>0.437931</td>\n",
              "      <td>20.4</td>\n",
              "      <td>409</td>\n",
              "      <td>0.049878</td>\n",
              "      <td>20.0</td>\n",
              "      <td>400</td>\n",
              "      <td>0.050000</td>\n",
              "    </tr>\n",
              "    <tr>\n",
              "      <th>3</th>\n",
              "      <td>25.3</td>\n",
              "      <td>36</td>\n",
              "      <td>0.702778</td>\n",
              "      <td>21.6</td>\n",
              "      <td>430</td>\n",
              "      <td>0.050233</td>\n",
              "      <td>18.4</td>\n",
              "      <td>362</td>\n",
              "      <td>0.050829</td>\n",
              "    </tr>\n",
              "    <tr>\n",
              "      <th>4</th>\n",
              "      <td>27.8</td>\n",
              "      <td>46</td>\n",
              "      <td>0.604348</td>\n",
              "      <td>21.9</td>\n",
              "      <td>365</td>\n",
              "      <td>0.060000</td>\n",
              "      <td>21.6</td>\n",
              "      <td>372</td>\n",
              "      <td>0.058065</td>\n",
              "    </tr>\n",
              "  </tbody>\n",
              "</table>\n",
              "</div>\n",
              "      <button class=\"colab-df-convert\" onclick=\"convertToInteractive('df-4560c80e-2b0c-4b64-99f0-61f9bd284458')\"\n",
              "              title=\"Convert this dataframe to an interactive table.\"\n",
              "              style=\"display:none;\">\n",
              "        \n",
              "  <svg xmlns=\"http://www.w3.org/2000/svg\" height=\"24px\"viewBox=\"0 0 24 24\"\n",
              "       width=\"24px\">\n",
              "    <path d=\"M0 0h24v24H0V0z\" fill=\"none\"/>\n",
              "    <path d=\"M18.56 5.44l.94 2.06.94-2.06 2.06-.94-2.06-.94-.94-2.06-.94 2.06-2.06.94zm-11 1L8.5 8.5l.94-2.06 2.06-.94-2.06-.94L8.5 2.5l-.94 2.06-2.06.94zm10 10l.94 2.06.94-2.06 2.06-.94-2.06-.94-.94-2.06-.94 2.06-2.06.94z\"/><path d=\"M17.41 7.96l-1.37-1.37c-.4-.4-.92-.59-1.43-.59-.52 0-1.04.2-1.43.59L10.3 9.45l-7.72 7.72c-.78.78-.78 2.05 0 2.83L4 21.41c.39.39.9.59 1.41.59.51 0 1.02-.2 1.41-.59l7.78-7.78 2.81-2.81c.8-.78.8-2.07 0-2.86zM5.41 20L4 18.59l7.72-7.72 1.47 1.35L5.41 20z\"/>\n",
              "  </svg>\n",
              "      </button>\n",
              "      \n",
              "  <style>\n",
              "    .colab-df-container {\n",
              "      display:flex;\n",
              "      flex-wrap:wrap;\n",
              "      gap: 12px;\n",
              "    }\n",
              "\n",
              "    .colab-df-convert {\n",
              "      background-color: #E8F0FE;\n",
              "      border: none;\n",
              "      border-radius: 50%;\n",
              "      cursor: pointer;\n",
              "      display: none;\n",
              "      fill: #1967D2;\n",
              "      height: 32px;\n",
              "      padding: 0 0 0 0;\n",
              "      width: 32px;\n",
              "    }\n",
              "\n",
              "    .colab-df-convert:hover {\n",
              "      background-color: #E2EBFA;\n",
              "      box-shadow: 0px 1px 2px rgba(60, 64, 67, 0.3), 0px 1px 3px 1px rgba(60, 64, 67, 0.15);\n",
              "      fill: #174EA6;\n",
              "    }\n",
              "\n",
              "    [theme=dark] .colab-df-convert {\n",
              "      background-color: #3B4455;\n",
              "      fill: #D2E3FC;\n",
              "    }\n",
              "\n",
              "    [theme=dark] .colab-df-convert:hover {\n",
              "      background-color: #434B5C;\n",
              "      box-shadow: 0px 1px 3px 1px rgba(0, 0, 0, 0.15);\n",
              "      filter: drop-shadow(0px 1px 2px rgba(0, 0, 0, 0.3));\n",
              "      fill: #FFFFFF;\n",
              "    }\n",
              "  </style>\n",
              "\n",
              "      <script>\n",
              "        const buttonEl =\n",
              "          document.querySelector('#df-4560c80e-2b0c-4b64-99f0-61f9bd284458 button.colab-df-convert');\n",
              "        buttonEl.style.display =\n",
              "          google.colab.kernel.accessAllowed ? 'block' : 'none';\n",
              "\n",
              "        async function convertToInteractive(key) {\n",
              "          const element = document.querySelector('#df-4560c80e-2b0c-4b64-99f0-61f9bd284458');\n",
              "          const dataTable =\n",
              "            await google.colab.kernel.invokeFunction('convertToInteractive',\n",
              "                                                     [key], {});\n",
              "          if (!dataTable) return;\n",
              "\n",
              "          const docLinkHtml = 'Like what you see? Visit the ' +\n",
              "            '<a target=\"_blank\" href=https://colab.research.google.com/notebooks/data_table.ipynb>data table notebook</a>'\n",
              "            + ' to learn more about interactive tables.';\n",
              "          element.innerHTML = '';\n",
              "          dataTable['output_type'] = 'display_data';\n",
              "          await google.colab.output.renderOutput(dataTable, element);\n",
              "          const docLink = document.createElement('div');\n",
              "          docLink.innerHTML = docLinkHtml;\n",
              "          element.appendChild(docLink);\n",
              "        }\n",
              "      </script>\n",
              "    </div>\n",
              "  </div>\n",
              "  "
            ]
          },
          "metadata": {},
          "execution_count": 6
        }
      ]
    },
    {
      "cell_type": "code",
      "source": [
        "# Reading in Full dataset\n",
        "full_data = pd.read_csv('Data_Table_Complete_FULL_CSV_CLEAN.csv')\n",
        "# Printing contents of dataset\n",
        "full_data.head()"
      ],
      "metadata": {
        "colab": {
          "base_uri": "https://localhost:8080/",
          "height": 206
        },
        "id": "hGtrzDxemGIP",
        "outputId": "0a07b0c8-0d5f-4025-9a4d-5a15972403fe"
      },
      "execution_count": 5,
      "outputs": [
        {
          "output_type": "execute_result",
          "data": {
            "text/plain": [
              "   Scan_Length_mm  Scan_Layers  mm_per_Layer\n",
              "0            24.8           55      0.450909\n",
              "1            26.3           46      0.571739\n",
              "2            25.4           58      0.437931\n",
              "3            25.3           36      0.702778\n",
              "4            27.8           46      0.604348"
            ],
            "text/html": [
              "\n",
              "  <div id=\"df-71bb43b1-c66a-438f-a23d-0b31aaada1c9\">\n",
              "    <div class=\"colab-df-container\">\n",
              "      <div>\n",
              "<style scoped>\n",
              "    .dataframe tbody tr th:only-of-type {\n",
              "        vertical-align: middle;\n",
              "    }\n",
              "\n",
              "    .dataframe tbody tr th {\n",
              "        vertical-align: top;\n",
              "    }\n",
              "\n",
              "    .dataframe thead th {\n",
              "        text-align: right;\n",
              "    }\n",
              "</style>\n",
              "<table border=\"1\" class=\"dataframe\">\n",
              "  <thead>\n",
              "    <tr style=\"text-align: right;\">\n",
              "      <th></th>\n",
              "      <th>Scan_Length_mm</th>\n",
              "      <th>Scan_Layers</th>\n",
              "      <th>mm_per_Layer</th>\n",
              "    </tr>\n",
              "  </thead>\n",
              "  <tbody>\n",
              "    <tr>\n",
              "      <th>0</th>\n",
              "      <td>24.8</td>\n",
              "      <td>55</td>\n",
              "      <td>0.450909</td>\n",
              "    </tr>\n",
              "    <tr>\n",
              "      <th>1</th>\n",
              "      <td>26.3</td>\n",
              "      <td>46</td>\n",
              "      <td>0.571739</td>\n",
              "    </tr>\n",
              "    <tr>\n",
              "      <th>2</th>\n",
              "      <td>25.4</td>\n",
              "      <td>58</td>\n",
              "      <td>0.437931</td>\n",
              "    </tr>\n",
              "    <tr>\n",
              "      <th>3</th>\n",
              "      <td>25.3</td>\n",
              "      <td>36</td>\n",
              "      <td>0.702778</td>\n",
              "    </tr>\n",
              "    <tr>\n",
              "      <th>4</th>\n",
              "      <td>27.8</td>\n",
              "      <td>46</td>\n",
              "      <td>0.604348</td>\n",
              "    </tr>\n",
              "  </tbody>\n",
              "</table>\n",
              "</div>\n",
              "      <button class=\"colab-df-convert\" onclick=\"convertToInteractive('df-71bb43b1-c66a-438f-a23d-0b31aaada1c9')\"\n",
              "              title=\"Convert this dataframe to an interactive table.\"\n",
              "              style=\"display:none;\">\n",
              "        \n",
              "  <svg xmlns=\"http://www.w3.org/2000/svg\" height=\"24px\"viewBox=\"0 0 24 24\"\n",
              "       width=\"24px\">\n",
              "    <path d=\"M0 0h24v24H0V0z\" fill=\"none\"/>\n",
              "    <path d=\"M18.56 5.44l.94 2.06.94-2.06 2.06-.94-2.06-.94-.94-2.06-.94 2.06-2.06.94zm-11 1L8.5 8.5l.94-2.06 2.06-.94-2.06-.94L8.5 2.5l-.94 2.06-2.06.94zm10 10l.94 2.06.94-2.06 2.06-.94-2.06-.94-.94-2.06-.94 2.06-2.06.94z\"/><path d=\"M17.41 7.96l-1.37-1.37c-.4-.4-.92-.59-1.43-.59-.52 0-1.04.2-1.43.59L10.3 9.45l-7.72 7.72c-.78.78-.78 2.05 0 2.83L4 21.41c.39.39.9.59 1.41.59.51 0 1.02-.2 1.41-.59l7.78-7.78 2.81-2.81c.8-.78.8-2.07 0-2.86zM5.41 20L4 18.59l7.72-7.72 1.47 1.35L5.41 20z\"/>\n",
              "  </svg>\n",
              "      </button>\n",
              "      \n",
              "  <style>\n",
              "    .colab-df-container {\n",
              "      display:flex;\n",
              "      flex-wrap:wrap;\n",
              "      gap: 12px;\n",
              "    }\n",
              "\n",
              "    .colab-df-convert {\n",
              "      background-color: #E8F0FE;\n",
              "      border: none;\n",
              "      border-radius: 50%;\n",
              "      cursor: pointer;\n",
              "      display: none;\n",
              "      fill: #1967D2;\n",
              "      height: 32px;\n",
              "      padding: 0 0 0 0;\n",
              "      width: 32px;\n",
              "    }\n",
              "\n",
              "    .colab-df-convert:hover {\n",
              "      background-color: #E2EBFA;\n",
              "      box-shadow: 0px 1px 2px rgba(60, 64, 67, 0.3), 0px 1px 3px 1px rgba(60, 64, 67, 0.15);\n",
              "      fill: #174EA6;\n",
              "    }\n",
              "\n",
              "    [theme=dark] .colab-df-convert {\n",
              "      background-color: #3B4455;\n",
              "      fill: #D2E3FC;\n",
              "    }\n",
              "\n",
              "    [theme=dark] .colab-df-convert:hover {\n",
              "      background-color: #434B5C;\n",
              "      box-shadow: 0px 1px 3px 1px rgba(0, 0, 0, 0.15);\n",
              "      filter: drop-shadow(0px 1px 2px rgba(0, 0, 0, 0.3));\n",
              "      fill: #FFFFFF;\n",
              "    }\n",
              "  </style>\n",
              "\n",
              "      <script>\n",
              "        const buttonEl =\n",
              "          document.querySelector('#df-71bb43b1-c66a-438f-a23d-0b31aaada1c9 button.colab-df-convert');\n",
              "        buttonEl.style.display =\n",
              "          google.colab.kernel.accessAllowed ? 'block' : 'none';\n",
              "\n",
              "        async function convertToInteractive(key) {\n",
              "          const element = document.querySelector('#df-71bb43b1-c66a-438f-a23d-0b31aaada1c9');\n",
              "          const dataTable =\n",
              "            await google.colab.kernel.invokeFunction('convertToInteractive',\n",
              "                                                     [key], {});\n",
              "          if (!dataTable) return;\n",
              "\n",
              "          const docLinkHtml = 'Like what you see? Visit the ' +\n",
              "            '<a target=\"_blank\" href=https://colab.research.google.com/notebooks/data_table.ipynb>data table notebook</a>'\n",
              "            + ' to learn more about interactive tables.';\n",
              "          element.innerHTML = '';\n",
              "          dataTable['output_type'] = 'display_data';\n",
              "          await google.colab.output.renderOutput(dataTable, element);\n",
              "          const docLink = document.createElement('div');\n",
              "          docLink.innerHTML = docLinkHtml;\n",
              "          element.appendChild(docLink);\n",
              "        }\n",
              "      </script>\n",
              "    </div>\n",
              "  </div>\n",
              "  "
            ]
          },
          "metadata": {},
          "execution_count": 5
        }
      ]
    },
    {
      "cell_type": "markdown",
      "source": [
        "# Multiple Linear Regression"
      ],
      "metadata": {
        "id": "mld1GEvb2dm_"
      }
    },
    {
      "cell_type": "markdown",
      "source": [
        "### Works similarly to Simple Linear Regression but takes more than one predictor variable to predict a response."
      ],
      "metadata": {
        "id": "LI1-7qUi2jOn"
      }
    },
    {
      "cell_type": "markdown",
      "source": [
        "## MLR_sep_data"
      ],
      "metadata": {
        "id": "Z1hS-PP44-jI"
      }
    },
    {
      "cell_type": "code",
      "source": [
        "#x = sep_data[['Scan_Height_mm', 'Scan_Height_Layers']]\n",
        "#y = sep_data[['mm_per_Layer_Height']]\n",
        "\n",
        "x = sep_data[['Scan_Height_mm', 'Scan_Height_Layers', 'Scan_Width_mm', 'Scan_Width_Layers', 'Scan_Depth_mm', 'Scan_Depth_Layers']]\n",
        "y = sep_data[['mm_per_Layer_Height', 'mm_per_Layer_Width', 'mm_per_Layer_Depth']]"
      ],
      "metadata": {
        "id": "acMhWW5M2gZY"
      },
      "execution_count": 19,
      "outputs": []
    },
    {
      "cell_type": "code",
      "source": [
        "#Splitting the dataset\n",
        "x_train, x_test, y_train, y_test = train_test_split(x, y, test_size = 0.1, random_state = 42)"
      ],
      "metadata": {
        "id": "d66zzj2S3YvG"
      },
      "execution_count": 39,
      "outputs": []
    },
    {
      "cell_type": "code",
      "source": [
        "#Fitting the Multiple Linear Regression model\n",
        "mlr = LinearRegression()  \n",
        "mlr.fit(x_train, y_train)"
      ],
      "metadata": {
        "colab": {
          "base_uri": "https://localhost:8080/"
        },
        "id": "oSFHKP-K3pDL",
        "outputId": "029bd478-6ed8-447b-9423-d0b4cbcb8f7f"
      },
      "execution_count": 40,
      "outputs": [
        {
          "output_type": "execute_result",
          "data": {
            "text/plain": [
              "LinearRegression()"
            ]
          },
          "metadata": {},
          "execution_count": 40
        }
      ]
    },
    {
      "cell_type": "code",
      "source": [
        "#Intercept and Coefficient\n",
        "print(\"Intercept: \", mlr.intercept_)\n",
        "print(\"Coefficients:\")\n",
        "list(zip(x, mlr.coef_))"
      ],
      "metadata": {
        "colab": {
          "base_uri": "https://localhost:8080/"
        },
        "id": "b4bP-w8C3xPd",
        "outputId": "17ac3ddb-e555-4cf4-ee67-04e37909c96f"
      },
      "execution_count": 41,
      "outputs": [
        {
          "output_type": "stream",
          "name": "stdout",
          "text": [
            "Intercept:  [1.49607271 0.06592774 0.05755798]\n",
            "Coefficients:\n"
          ]
        },
        {
          "output_type": "execute_result",
          "data": {
            "text/plain": [
              "[('Scan_Height_mm',\n",
              "  array([ 0.04200334, -0.02369181,  0.00880814, -0.00341514, -0.05525467,\n",
              "          0.00372622])),\n",
              " ('Scan_Height_Layers',\n",
              "  array([ 3.00685562e-05, -7.13523137e-06,  2.34084915e-03, -1.50944222e-04,\n",
              "          4.06411822e-05, -8.05076474e-06])),\n",
              " ('Scan_Width_mm',\n",
              "  array([-3.63383842e-05,  2.66058222e-05, -2.18458146e-04,  2.17028448e-05,\n",
              "          3.29050609e-03, -1.97917312e-04]))]"
            ]
          },
          "metadata": {},
          "execution_count": 41
        }
      ]
    },
    {
      "cell_type": "code",
      "source": [
        "#Prediction of test set\n",
        "y_pred_mlr= mlr.predict(x_test)\n",
        "#Predicted values\n",
        "#print(\"Prediction for test set: {}\".format(y_pred_mlr))\n",
        "print(y_pred_mlr)"
      ],
      "metadata": {
        "colab": {
          "base_uri": "https://localhost:8080/"
        },
        "id": "o0gijcfw3zzp",
        "outputId": "1ef85a21-9693-48bc-cb0f-765494fde7cb"
      },
      "execution_count": 42,
      "outputs": [
        {
          "output_type": "stream",
          "name": "stdout",
          "text": [
            "[[1.12524078 0.06470185 0.06403843]\n",
            " [0.48599071 0.06279591 0.06498716]]\n"
          ]
        }
      ]
    },
    {
      "cell_type": "code",
      "source": [
        "print(y_test)"
      ],
      "metadata": {
        "colab": {
          "base_uri": "https://localhost:8080/"
        },
        "id": "_yKiEdi936Dj",
        "outputId": "508c91ef-9124-4bff-89f0-82db300cc31e"
      },
      "execution_count": 43,
      "outputs": [
        {
          "output_type": "stream",
          "name": "stdout",
          "text": [
            "    mm_per_Layer_Height  mm_per_Layer_Width  mm_per_Layer_Depth\n",
            "11             1.007407            0.064198            0.064452\n",
            "9              0.497917            0.061875            0.064808\n"
          ]
        }
      ]
    },
    {
      "cell_type": "code",
      "source": [
        "#Model Evaluation\n",
        "meanAbErr = metrics.mean_absolute_error(y_test, y_pred_mlr)\n",
        "meanSqErr = metrics.mean_squared_error(y_test, y_pred_mlr)\n",
        "rootMeanSqErr = np.sqrt(metrics.mean_squared_error(y_test, y_pred_mlr))\n",
        "print('R squared: {:.2f}'.format(mlr.score(x,y)*100))\n",
        "print('Mean Absolute Error:', meanAbErr)\n",
        "print('Mean Square Error:', meanSqErr)\n",
        "print('Root Mean Square Error:', rootMeanSqErr)"
      ],
      "metadata": {
        "colab": {
          "base_uri": "https://localhost:8080/"
        },
        "id": "hg7FECEg4Aab",
        "outputId": "089c41d7-682b-4526-931a-e4d34ddaf7e5"
      },
      "execution_count": 44,
      "outputs": [
        {
          "output_type": "stream",
          "name": "stdout",
          "text": [
            "R squared: 96.66\n",
            "Mean Absolute Error: 0.021962789937813056\n",
            "Mean Square Error: 0.0023380395572555703\n",
            "Root Mean Square Error: 0.04835327866086818\n"
          ]
        }
      ]
    },
    {
      "cell_type": "markdown",
      "source": [
        "## MLR_full_data"
      ],
      "metadata": {
        "id": "Q0MwIpn55ENO"
      }
    },
    {
      "cell_type": "code",
      "source": [
        "#Setting the value for X and Y\n",
        "x = full_data[['Scan_Length_mm', 'Scan_Layers']]\n",
        "y = full_data['mm_per_Layer']"
      ],
      "metadata": {
        "id": "ncx0LDyz5L7r"
      },
      "execution_count": 45,
      "outputs": []
    },
    {
      "cell_type": "code",
      "source": [
        "#Splitting the dataset\n",
        "x_train, x_test, y_train, y_test = train_test_split(x, y, test_size = 0.1, random_state = 42)"
      ],
      "metadata": {
        "id": "O2Lx4EWv5L7s"
      },
      "execution_count": 46,
      "outputs": []
    },
    {
      "cell_type": "code",
      "source": [
        "#Fitting the Multiple Linear Regression model\n",
        "mlr = LinearRegression()  \n",
        "mlr.fit(x_train, y_train)"
      ],
      "metadata": {
        "colab": {
          "base_uri": "https://localhost:8080/"
        },
        "outputId": "67e9c45d-e631-4aa4-9245-c9d2c02b24ce",
        "id": "DF1TmRq_5L7u"
      },
      "execution_count": 47,
      "outputs": [
        {
          "output_type": "execute_result",
          "data": {
            "text/plain": [
              "LinearRegression()"
            ]
          },
          "metadata": {},
          "execution_count": 47
        }
      ]
    },
    {
      "cell_type": "code",
      "source": [
        "#Intercept and Coefficient\n",
        "print(\"Intercept: \", mlr.intercept_)\n",
        "print(\"Coefficients:\")\n",
        "list(zip(x, mlr.coef_))"
      ],
      "metadata": {
        "colab": {
          "base_uri": "https://localhost:8080/"
        },
        "outputId": "c50f0a99-f69f-4eb6-f7d6-9599cbcbde3e",
        "id": "UGbdvOSy5L7w"
      },
      "execution_count": 48,
      "outputs": [
        {
          "output_type": "stream",
          "name": "stdout",
          "text": [
            "Intercept:  0.28818340851731533\n",
            "Coefficients:\n"
          ]
        },
        {
          "output_type": "execute_result",
          "data": {
            "text/plain": [
              "[('Scan_Length_mm', 0.017419325762011377),\n",
              " ('Scan_Layers', -0.0016796021661217696)]"
            ]
          },
          "metadata": {},
          "execution_count": 48
        }
      ]
    },
    {
      "cell_type": "code",
      "source": [
        "#Prediction of test set\n",
        "y_pred_mlr= mlr.predict(x_test)\n",
        "#Predicted values\n",
        "#print(\"Prediction for test set: {}\".format(y_pred_mlr))\n",
        "print(y_pred_mlr)"
      ],
      "metadata": {
        "colab": {
          "base_uri": "https://localhost:8080/"
        },
        "outputId": "92fb7e4f-d0eb-4712-bd53-8511d441a03f",
        "id": "yPVV-mTh5L7x"
      },
      "execution_count": 49,
      "outputs": [
        {
          "output_type": "stream",
          "name": "stdout",
          "text": [
            "[0.09580036 0.1329386  0.69517897 0.00273992]\n"
          ]
        }
      ]
    },
    {
      "cell_type": "code",
      "source": [
        "print(y_test)"
      ],
      "metadata": {
        "colab": {
          "base_uri": "https://localhost:8080/"
        },
        "outputId": "e3a765cf-859a-421c-e605-003e1842c05a",
        "id": "Hmj6NySj5L7y"
      },
      "execution_count": 50,
      "outputs": [
        {
          "output_type": "stream",
          "name": "stdout",
          "text": [
            "33    0.062229\n",
            "36    0.067105\n",
            "4     0.604348\n",
            "13    0.054937\n",
            "Name: mm_per_Layer, dtype: float64\n"
          ]
        }
      ]
    },
    {
      "cell_type": "code",
      "source": [
        "#Model Evaluation\n",
        "meanAbErr = metrics.mean_absolute_error(y_test, y_pred_mlr)\n",
        "meanSqErr = metrics.mean_squared_error(y_test, y_pred_mlr)\n",
        "rootMeanSqErr = np.sqrt(metrics.mean_squared_error(y_test, y_pred_mlr))\n",
        "print('R squared: {:.2f}'.format(mlr.score(x,y)*100))\n",
        "print('Mean Absolute Error:', meanAbErr)\n",
        "print('Mean Square Error:', meanSqErr)\n",
        "print('Root Mean Square Error:', rootMeanSqErr)"
      ],
      "metadata": {
        "colab": {
          "base_uri": "https://localhost:8080/"
        },
        "outputId": "0023aae2-3e12-4a49-c373-0e836a9fb650",
        "id": "lf_AcPU95L7z"
      },
      "execution_count": 51,
      "outputs": [
        {
          "output_type": "stream",
          "name": "stdout",
          "text": [
            "R squared: 81.18\n",
            "Mean Absolute Error: 0.06060812834062725\n",
            "Mean Square Error: 0.004108964304868068\n",
            "Root Mean Square Error: 0.06410120361481575\n"
          ]
        }
      ]
    },
    {
      "cell_type": "markdown",
      "source": [
        "# Decision Tree Regression"
      ],
      "metadata": {
        "id": "bSFviRIX5mMC"
      }
    },
    {
      "cell_type": "markdown",
      "source": [
        "### Basically a decision tree that can be used to predict continuous valued outputs"
      ],
      "metadata": {
        "id": "VCpTePGW5pEQ"
      }
    },
    {
      "cell_type": "markdown",
      "source": [
        "## Decision_Trees_sep_data"
      ],
      "metadata": {
        "id": "D5zTeSu26fvO"
      }
    },
    {
      "cell_type": "code",
      "source": [
        "#x = sep_data[['Scan_Height_mm', 'Scan_Height_Layers']]\n",
        "#y = sep_data[['mm_per_Layer_Height']]\n",
        "\n",
        "x = sep_data[['Scan_Height_mm', 'Scan_Height_Layers', 'Scan_Width_mm', 'Scan_Width_Layers', 'Scan_Depth_mm', 'Scan_Depth_Layers']]\n",
        "y = sep_data[['mm_per_Layer_Height', 'mm_per_Layer_Width', 'mm_per_Layer_Depth']]"
      ],
      "metadata": {
        "id": "3SAoA2RPbzA3"
      },
      "execution_count": 84,
      "outputs": []
    },
    {
      "cell_type": "code",
      "source": [
        "X_train, X_test, y_train, y_test = train_test_split(x, y, test_size=0.1, random_state=42)"
      ],
      "metadata": {
        "id": "NHu2muG1c8OO"
      },
      "execution_count": 85,
      "outputs": []
    },
    {
      "cell_type": "code",
      "source": [
        "model = DecisionTreeRegressor(random_state=42)\n",
        "model.fit(X_train, y_train)\n",
        "predictions = model.predict(X_test)"
      ],
      "metadata": {
        "id": "tHADPLpadIWc"
      },
      "execution_count": 86,
      "outputs": []
    },
    {
      "cell_type": "code",
      "source": [
        "print(predictions)"
      ],
      "metadata": {
        "colab": {
          "base_uri": "https://localhost:8080/"
        },
        "id": "d_8sY5p7b0Hf",
        "outputId": "8dadfe53-6d95-407f-f054-1d979d782639"
      },
      "execution_count": 87,
      "outputs": [
        {
          "output_type": "stream",
          "name": "stdout",
          "text": [
            "[[0.86071429 0.06713483 0.06472303]\n",
            " [0.57560976 0.06582278 0.06409396]]\n"
          ]
        }
      ]
    },
    {
      "cell_type": "code",
      "source": [
        "print(y_test)"
      ],
      "metadata": {
        "colab": {
          "base_uri": "https://localhost:8080/"
        },
        "id": "GzaycBNBdVyS",
        "outputId": "a05315d2-cdb6-406e-da38-ee07c4161fae"
      },
      "execution_count": 88,
      "outputs": [
        {
          "output_type": "stream",
          "name": "stdout",
          "text": [
            "    mm_per_Layer_Height  mm_per_Layer_Width  mm_per_Layer_Depth\n",
            "11             1.007407            0.064198            0.064452\n",
            "9              0.497917            0.061875            0.064808\n"
          ]
        }
      ]
    },
    {
      "cell_type": "code",
      "source": [
        "#Model Evaluation\n",
        "meanAbErr = metrics.mean_absolute_error(y_test, predictions)\n",
        "meanSqErr = metrics.mean_squared_error(y_test, predictions)\n",
        "rootMeanSqErr = np.sqrt(metrics.mean_squared_error(y_test, predictions))\n",
        "print('R squared: {:.2f}'.format(model.score(x,y)*100))\n",
        "print('Mean Absolute Error:', meanAbErr)\n",
        "print('Mean Square Error:', meanSqErr)\n",
        "print('Root Mean Square Error:', rootMeanSqErr)"
      ],
      "metadata": {
        "colab": {
          "base_uri": "https://localhost:8080/"
        },
        "id": "6rjYGf6EhnjR",
        "outputId": "207eef90-826b-4689-e2b8-a11f1797f820"
      },
      "execution_count": 91,
      "outputs": [
        {
          "output_type": "stream",
          "name": "stdout",
          "text": [
            "R squared: 97.66\n",
            "Mean Absolute Error: 0.03870948366666668\n",
            "Mean Square Error: 0.004596647414524741\n",
            "Root Mean Square Error: 0.06779857973825662\n"
          ]
        }
      ]
    },
    {
      "cell_type": "code",
      "source": [
        "from sklearn.tree import plot_tree\n",
        "plt.figure(figsize=(10,8), dpi=150)\n",
        "plot_tree(model, feature_names=x.columns);"
      ],
      "metadata": {
        "colab": {
          "base_uri": "https://localhost:8080/",
          "height": 510
        },
        "id": "rJLBzYbXdc6e",
        "outputId": "7e54d8d0-56f3-4d22-85a0-f4bf8fcf1199"
      },
      "execution_count": 68,
      "outputs": [
        {
          "output_type": "display_data",
          "data": {
            "text/plain": [
              "<Figure size 1500x1200 with 1 Axes>"
            ],
            "image/png": "[encoded data removed]"
          },
          "metadata": {
            "needs_background": "light"
          }
        }
      ]
    },
    {
      "cell_type": "markdown",
      "source": [
        "## Decision_Trees_full_data"
      ],
      "metadata": {
        "id": "LVHix-WB9wHv"
      }
    },
    {
      "cell_type": "code",
      "source": [
        "#Setting the value for X and Y\n",
        "x = full_data[['Scan_Length_mm', 'Scan_Layers']]\n",
        "y = full_data['mm_per_Layer']"
      ],
      "metadata": {
        "id": "UnuPCVLA9wHv"
      },
      "execution_count": 92,
      "outputs": []
    },
    {
      "cell_type": "code",
      "source": [
        "X_train, X_test, y_train, y_test = train_test_split(x, y, test_size=0.1, random_state=42)"
      ],
      "metadata": {
        "id": "HmTXVec69wHw"
      },
      "execution_count": 93,
      "outputs": []
    },
    {
      "cell_type": "code",
      "source": [
        "model = DecisionTreeRegressor(random_state=42)\n",
        "model.fit(X_train, y_train)\n",
        "predictions = model.predict(X_test)"
      ],
      "metadata": {
        "id": "5kuN_b569wHx"
      },
      "execution_count": 94,
      "outputs": []
    },
    {
      "cell_type": "code",
      "source": [
        "print(predictions)"
      ],
      "metadata": {
        "colab": {
          "base_uri": "https://localhost:8080/"
        },
        "outputId": "8f97efd1-9810-46b7-edbf-5fb333f0ce78",
        "id": "lgvzOMkR9wHx"
      },
      "execution_count": 95,
      "outputs": [
        {
          "output_type": "stream",
          "name": "stdout",
          "text": [
            "[0.06419753 0.06624204 0.57173913 0.05023256]\n"
          ]
        }
      ]
    },
    {
      "cell_type": "code",
      "source": [
        "print(y_test)"
      ],
      "metadata": {
        "colab": {
          "base_uri": "https://localhost:8080/"
        },
        "outputId": "d7e7c805-3fb3-46de-aa58-1b2e69ba6fe3",
        "id": "EpbEQlhF9wHz"
      },
      "execution_count": 96,
      "outputs": [
        {
          "output_type": "stream",
          "name": "stdout",
          "text": [
            "33    0.062229\n",
            "36    0.067105\n",
            "4     0.604348\n",
            "13    0.054937\n",
            "Name: mm_per_Layer, dtype: float64\n"
          ]
        }
      ]
    },
    {
      "cell_type": "code",
      "source": [
        "#Model Evaluation\n",
        "meanAbErr = metrics.mean_absolute_error(y_test, predictions)\n",
        "meanSqErr = metrics.mean_squared_error(y_test, predictions)\n",
        "rootMeanSqErr = np.sqrt(metrics.mean_squared_error(y_test, predictions))\n",
        "print('R squared: {:.2f}'.format(model.score(x,y)*100))\n",
        "print('Mean Absolute Error:', meanAbErr)\n",
        "print('Mean Square Error:', meanSqErr)\n",
        "print('Root Mean Square Error:', rootMeanSqErr)"
      ],
      "metadata": {
        "colab": {
          "base_uri": "https://localhost:8080/"
        },
        "outputId": "faa7ae52-152e-4cd3-c285-91391eb0e260",
        "id": "LU-AottA9wHz"
      },
      "execution_count": 98,
      "outputs": [
        {
          "output_type": "stream",
          "name": "stdout",
          "text": [
            "R squared: 99.97\n",
            "Mean Absolute Error: 0.010036125250000012\n",
            "Mean Square Error: 0.00027251899039497157\n",
            "Root Mean Square Error: 0.01650814921167638\n"
          ]
        }
      ]
    },
    {
      "cell_type": "code",
      "source": [
        "from sklearn.tree import plot_tree\n",
        "plt.figure(figsize=(10,8), dpi=150)\n",
        "plot_tree(model, feature_names=x.columns);"
      ],
      "metadata": {
        "colab": {
          "base_uri": "https://localhost:8080/",
          "height": 972
        },
        "outputId": "34d51eaf-1924-4050-d911-3aa60fe69d57",
        "id": "Q4W0Y5Uw9wH0"
      },
      "execution_count": 99,
      "outputs": [
        {
          "output_type": "display_data",
          "data": {
            "text/plain": [
              "<Figure size 1500x1200 with 1 Axes>"
            ],
            "image/png": "[encoded data removed]"
          },
          "metadata": {
            "needs_background": "light"
          }
        }
      ]
    },
    {
      "cell_type": "markdown",
      "source": [
        "# Random Forest"
      ],
      "metadata": {
        "id": "x_vMGIvyA6eH"
      }
    },
    {
      "cell_type": "markdown",
      "source": [
        "## Random Forest_sep_data"
      ],
      "metadata": {
        "id": "LamIa6AvkuzU"
      }
    },
    {
      "cell_type": "code",
      "source": [
        "#x = sep_data[['Scan_Height_mm', 'Scan_Height_Layers']]\n",
        "#y = sep_data[['mm_per_Layer_Height']]\n",
        "\n",
        "x = sep_data[['Scan_Height_mm', 'Scan_Height_Layers', 'Scan_Width_mm', 'Scan_Width_Layers', 'Scan_Depth_mm', 'Scan_Depth_Layers']]\n",
        "y = sep_data[['mm_per_Layer_Height', 'mm_per_Layer_Width', 'mm_per_Layer_Depth']]"
      ],
      "metadata": {
        "id": "JXPXPPk9pdhp"
      },
      "execution_count": 107,
      "outputs": []
    },
    {
      "cell_type": "code",
      "source": [
        "X_train, X_test, y_train, y_test = train_test_split(x, y, test_size=0.1, random_state=42)"
      ],
      "metadata": {
        "id": "E-dTXwyrpj8l"
      },
      "execution_count": 108,
      "outputs": []
    },
    {
      "cell_type": "code",
      "source": [
        "rf = RandomForestRegressor(n_estimators = 100, random_state = 0)\n",
        "rf = rf.fit(X_train, y_train)"
      ],
      "metadata": {
        "id": "cno1q53EpoRn"
      },
      "execution_count": 109,
      "outputs": []
    },
    {
      "cell_type": "code",
      "source": [
        "predictions = rf.predict(X_test)"
      ],
      "metadata": {
        "id": "DES3oHvVArZr"
      },
      "execution_count": 123,
      "outputs": []
    },
    {
      "cell_type": "code",
      "source": [
        "print(predictions)"
      ],
      "metadata": {
        "colab": {
          "base_uri": "https://localhost:8080/"
        },
        "id": "GmsVolcOmJ7O",
        "outputId": "dea322ee-8770-4921-ff03-6e6f56d6512b"
      },
      "execution_count": 124,
      "outputs": [
        {
          "output_type": "stream",
          "name": "stdout",
          "text": [
            "[0.063285   0.06627136 0.59813063 0.05298225]\n"
          ]
        }
      ]
    },
    {
      "cell_type": "code",
      "source": [
        "print(y_test)"
      ],
      "metadata": {
        "colab": {
          "base_uri": "https://localhost:8080/"
        },
        "id": "3xaZg7NJmMUS",
        "outputId": "944d6853-8370-4ab9-d283-42100306ab79"
      },
      "execution_count": 125,
      "outputs": [
        {
          "output_type": "stream",
          "name": "stdout",
          "text": [
            "33    0.062229\n",
            "36    0.067105\n",
            "4     0.604348\n",
            "13    0.054937\n",
            "Name: mm_per_Layer, dtype: float64\n"
          ]
        }
      ]
    },
    {
      "cell_type": "code",
      "source": [
        "#Model Evaluation\n",
        "meanAbErr = metrics.mean_absolute_error(y_test, predictions)\n",
        "meanSqErr = metrics.mean_squared_error(y_test, predictions)\n",
        "rootMeanSqErr = np.sqrt(metrics.mean_squared_error(y_test, predictions))\n",
        "print('R squared: {:.2f}'.format(rf.score(x,y)*100))\n",
        "print('Mean Absolute Error:', meanAbErr)\n",
        "print('Mean Square Error:', meanSqErr)\n",
        "print('Root Mean Square Error:', rootMeanSqErr)"
      ],
      "metadata": {
        "colab": {
          "base_uri": "https://localhost:8080/"
        },
        "id": "LzZdGAZP_z5w",
        "outputId": "9845c84d-b06c-4f4d-929e-c1ed9cff6d2f"
      },
      "execution_count": 117,
      "outputs": [
        {
          "output_type": "stream",
          "name": "stdout",
          "text": [
            "R squared: 89.60\n",
            "Mean Absolute Error: 0.047723043466666726\n",
            "Mean Square Error: 0.006474569956776065\n",
            "Root Mean Square Error: 0.08046471249421118\n"
          ]
        }
      ]
    },
    {
      "cell_type": "markdown",
      "source": [
        "## Random Forest_full_data"
      ],
      "metadata": {
        "id": "B19zKDjCARPm"
      }
    },
    {
      "cell_type": "code",
      "source": [
        "#Setting the value for X and Y\n",
        "x = full_data[['Scan_Length_mm', 'Scan_Layers']]\n",
        "y = full_data['mm_per_Layer']"
      ],
      "metadata": {
        "id": "OBl-CFTJARPm"
      },
      "execution_count": 126,
      "outputs": []
    },
    {
      "cell_type": "code",
      "source": [
        "X_train, X_test, y_train, y_test = train_test_split(x, y, test_size=0.1, random_state=42)"
      ],
      "metadata": {
        "id": "qWP2Px_UARPm"
      },
      "execution_count": 127,
      "outputs": []
    },
    {
      "cell_type": "code",
      "source": [
        "rf = RandomForestRegressor(n_estimators = 100, random_state = 0)\n",
        "rf = rf.fit(X_train, y_train)"
      ],
      "metadata": {
        "id": "BEnyBxD0ARPn"
      },
      "execution_count": 128,
      "outputs": []
    },
    {
      "cell_type": "code",
      "source": [
        "predictions = rf.predict(X_test)"
      ],
      "metadata": {
        "id": "Ku1Tqyx5BIho"
      },
      "execution_count": 129,
      "outputs": []
    },
    {
      "cell_type": "code",
      "source": [
        "print(predictions)"
      ],
      "metadata": {
        "colab": {
          "base_uri": "https://localhost:8080/"
        },
        "outputId": "c2f30235-3019-4888-88ff-728f5d6c8eb2",
        "id": "yZMcIFXDARPn"
      },
      "execution_count": 130,
      "outputs": [
        {
          "output_type": "stream",
          "name": "stdout",
          "text": [
            "[0.063285   0.06627136 0.59813063 0.05298225]\n"
          ]
        }
      ]
    },
    {
      "cell_type": "code",
      "source": [
        "print(y_test)"
      ],
      "metadata": {
        "colab": {
          "base_uri": "https://localhost:8080/"
        },
        "outputId": "f445a02b-6e35-4d3b-e620-63429908455a",
        "id": "SWih5NDCARPn"
      },
      "execution_count": 131,
      "outputs": [
        {
          "output_type": "stream",
          "name": "stdout",
          "text": [
            "33    0.062229\n",
            "36    0.067105\n",
            "4     0.604348\n",
            "13    0.054937\n",
            "Name: mm_per_Layer, dtype: float64\n"
          ]
        }
      ]
    },
    {
      "cell_type": "code",
      "source": [
        "#Model Evaluation\n",
        "meanAbErr = metrics.mean_absolute_error(y_test, predictions)\n",
        "meanSqErr = metrics.mean_squared_error(y_test, predictions)\n",
        "rootMeanSqErr = np.sqrt(metrics.mean_squared_error(y_test, predictions))\n",
        "print('R squared: {:.2f}'.format(rf.score(x,y)*100))\n",
        "print('Mean Absolute Error:', meanAbErr)\n",
        "print('Mean Square Error:', meanSqErr)\n",
        "print('Root Mean Square Error:', rootMeanSqErr)"
      ],
      "metadata": {
        "colab": {
          "base_uri": "https://localhost:8080/"
        },
        "outputId": "c83808eb-e38d-44c8-dec3-1a34676e3f0e",
        "id": "CupuiT_GARPo"
      },
      "execution_count": 132,
      "outputs": [
        {
          "output_type": "stream",
          "name": "stdout",
          "text": [
            "R squared: 99.18\n",
            "Mean Absolute Error: 0.0025153638025001597\n",
            "Mean Square Error: 1.107094318056938e-05\n",
            "Root Mean Square Error: 0.003327302688450418\n"
          ]
        }
      ]
    },
    {
      "cell_type": "markdown",
      "source": [
        "# Gradient Boosting"
      ],
      "metadata": {
        "id": "x238c9bJBVNa"
      }
    },
    {
      "cell_type": "markdown",
      "source": [
        "## Gradient Boosting_sep_data"
      ],
      "metadata": {
        "id": "6__EWqKlBjt3"
      }
    },
    {
      "cell_type": "code",
      "source": [
        "x = sep_data[['Scan_Height_mm', 'Scan_Height_Layers']]\n",
        "y = sep_data[['mm_per_Layer_Height']]\n",
        "\n",
        "#x = sep_data[['Scan_Height_mm', 'Scan_Height_Layers', 'Scan_Width_mm', 'Scan_Width_Layers', 'Scan_Depth_mm', 'Scan_Depth_Layers']]\n",
        "#y = sep_data[['mm_per_Layer_Height', 'mm_per_Layer_Width', 'mm_per_Layer_Depth']]"
      ],
      "metadata": {
        "id": "yCB_KJt9BnMq"
      },
      "execution_count": 134,
      "outputs": []
    },
    {
      "cell_type": "code",
      "source": [
        "# Splitting dataset\n",
        "X_train, X_test, y_train, y_test = train_test_split(x, y, test_size = 0.1, random_state = 42) "
      ],
      "metadata": {
        "id": "5cdman5JDtUB"
      },
      "execution_count": 135,
      "outputs": []
    },
    {
      "cell_type": "code",
      "source": [
        "# Instantiate Gradient Boosting Regressor\n",
        "gbr = GradientBoostingRegressor(n_estimators = 200, random_state = 42)\n",
        "  \n",
        "# Fit to training set\n",
        "gbr.fit(X_train, y_train)"
      ],
      "metadata": {
        "colab": {
          "base_uri": "https://localhost:8080/"
        },
        "id": "qYSR0tuwEdC2",
        "outputId": "01cb1966-65d4-445a-871c-f4abe639239d"
      },
      "execution_count": 137,
      "outputs": [
        {
          "output_type": "stream",
          "name": "stderr",
          "text": [
            "/usr/local/lib/python3.7/dist-packages/sklearn/ensemble/_gb.py:494: DataConversionWarning: A column-vector y was passed when a 1d array was expected. Please change the shape of y to (n_samples, ), for example using ravel().\n",
            "  y = column_or_1d(y, warn=True)\n"
          ]
        },
        {
          "output_type": "execute_result",
          "data": {
            "text/plain": [
              "GradientBoostingRegressor(n_estimators=200, random_state=42)"
            ]
          },
          "metadata": {},
          "execution_count": 137
        }
      ]
    },
    {
      "cell_type": "code",
      "source": [
        "# Predict on test set\n",
        "predictions = gbr.predict(X_test)"
      ],
      "metadata": {
        "id": "WLkS8w2GEpXJ"
      },
      "execution_count": 138,
      "outputs": []
    },
    {
      "cell_type": "code",
      "source": [
        "print(predictions)"
      ],
      "metadata": {
        "colab": {
          "base_uri": "https://localhost:8080/"
        },
        "id": "_u-Z2g0rEvCm",
        "outputId": "5512d7bd-530d-4638-f0ed-bb3a06833389"
      },
      "execution_count": 139,
      "outputs": [
        {
          "output_type": "stream",
          "name": "stdout",
          "text": [
            "[0.83078139 0.57316581]\n"
          ]
        }
      ]
    },
    {
      "cell_type": "code",
      "source": [
        "print(y_test)"
      ],
      "metadata": {
        "colab": {
          "base_uri": "https://localhost:8080/"
        },
        "id": "BlELQsc6ExBp",
        "outputId": "dab31720-f6af-469c-ad0d-97fecbd1b38d"
      },
      "execution_count": 140,
      "outputs": [
        {
          "output_type": "stream",
          "name": "stdout",
          "text": [
            "    mm_per_Layer_Height\n",
            "11             1.007407\n",
            "9              0.497917\n"
          ]
        }
      ]
    },
    {
      "cell_type": "code",
      "source": [
        "#Model Evaluation\n",
        "meanAbErr = metrics.mean_absolute_error(y_test, predictions)\n",
        "meanSqErr = metrics.mean_squared_error(y_test, predictions)\n",
        "rootMeanSqErr = np.sqrt(metrics.mean_squared_error(y_test, predictions))\n",
        "print('R squared: {:.2f}'.format(gbr.score(x,y)*100))\n",
        "print('Mean Absolute Error:', meanAbErr)\n",
        "print('Mean Square Error:', meanSqErr)\n",
        "print('Root Mean Square Error:', rootMeanSqErr)"
      ],
      "metadata": {
        "colab": {
          "base_uri": "https://localhost:8080/"
        },
        "id": "RG1J0idWE2IS",
        "outputId": "5bea81f5-e781-486c-90cb-778c45c875e4"
      },
      "execution_count": 143,
      "outputs": [
        {
          "output_type": "stream",
          "name": "stdout",
          "text": [
            "R squared: 95.14\n",
            "Mean Absolute Error: 0.12593757985396606\n",
            "Mean Square Error: 0.01842959177913266\n",
            "Root Mean Square Error: 0.13575563258713305\n"
          ]
        }
      ]
    },
    {
      "cell_type": "markdown",
      "source": [
        "## Gradient Boosting_full_data"
      ],
      "metadata": {
        "id": "0LQrYhP3BpwG"
      }
    },
    {
      "cell_type": "code",
      "source": [
        "#Setting the value for X and Y\n",
        "x = full_data[['Scan_Length_mm', 'Scan_Layers']]\n",
        "y = full_data['mm_per_Layer']"
      ],
      "metadata": {
        "id": "VNDZQij1FLYg"
      },
      "execution_count": 144,
      "outputs": []
    },
    {
      "cell_type": "code",
      "source": [
        "# Splitting dataset\n",
        "X_train, X_test, y_train, y_test = train_test_split(x, y, test_size = 0.1, random_state = 42) "
      ],
      "metadata": {
        "id": "laUYux6nFLYg"
      },
      "execution_count": 145,
      "outputs": []
    },
    {
      "cell_type": "code",
      "source": [
        "# Instantiate Gradient Boosting Regressor\n",
        "gbr = GradientBoostingRegressor(n_estimators = 200, random_state = 42)\n",
        "  \n",
        "# Fit to training set\n",
        "gbr.fit(X_train, y_train)"
      ],
      "metadata": {
        "colab": {
          "base_uri": "https://localhost:8080/"
        },
        "outputId": "0d07d0ac-d075-405e-e416-0466c519acc0",
        "id": "r_Iy74GdFLYh"
      },
      "execution_count": 146,
      "outputs": [
        {
          "output_type": "execute_result",
          "data": {
            "text/plain": [
              "GradientBoostingRegressor(n_estimators=200, random_state=42)"
            ]
          },
          "metadata": {},
          "execution_count": 146
        }
      ]
    },
    {
      "cell_type": "code",
      "source": [
        "# Predict on test set\n",
        "predictions = gbr.predict(X_test)"
      ],
      "metadata": {
        "id": "qVSbq-RSFLYh"
      },
      "execution_count": 147,
      "outputs": []
    },
    {
      "cell_type": "code",
      "source": [
        "print(predictions)"
      ],
      "metadata": {
        "colab": {
          "base_uri": "https://localhost:8080/"
        },
        "outputId": "05c93c7c-38f4-4789-ae08-c4684308e9f4",
        "id": "HuIiKr9CFLYh"
      },
      "execution_count": 148,
      "outputs": [
        {
          "output_type": "stream",
          "name": "stdout",
          "text": [
            "[0.06390272 0.06713355 0.57525406 0.05193949]\n"
          ]
        }
      ]
    },
    {
      "cell_type": "code",
      "source": [
        "print(y_test)"
      ],
      "metadata": {
        "colab": {
          "base_uri": "https://localhost:8080/"
        },
        "outputId": "3a25d5a7-7b9d-4f3e-f24c-8134122dcc27",
        "id": "IddisXGzFLYi"
      },
      "execution_count": 149,
      "outputs": [
        {
          "output_type": "stream",
          "name": "stdout",
          "text": [
            "33    0.062229\n",
            "36    0.067105\n",
            "4     0.604348\n",
            "13    0.054937\n",
            "Name: mm_per_Layer, dtype: float64\n"
          ]
        }
      ]
    },
    {
      "cell_type": "code",
      "source": [
        "#Model Evaluation\n",
        "meanAbErr = metrics.mean_absolute_error(y_test, predictions)\n",
        "meanSqErr = metrics.mean_squared_error(y_test, predictions)\n",
        "rootMeanSqErr = np.sqrt(metrics.mean_squared_error(y_test, predictions))\n",
        "print('R squared: {:.2f}'.format(gbr.score(x,y)*100))\n",
        "print('Mean Absolute Error:', meanAbErr)\n",
        "print('Mean Square Error:', meanSqErr)\n",
        "print('Root Mean Square Error:', rootMeanSqErr)"
      ],
      "metadata": {
        "colab": {
          "base_uri": "https://localhost:8080/"
        },
        "outputId": "664e4bce-db45-4c06-8a4b-80a770190930",
        "id": "KHtRm942FLYi"
      },
      "execution_count": 150,
      "outputs": [
        {
          "output_type": "stream",
          "name": "stdout",
          "text": [
            "R squared: 99.98\n",
            "Mean Absolute Error: 0.008448223678601716\n",
            "Mean Square Error: 0.00021455803511205424\n",
            "Root Mean Square Error: 0.01464779966793833\n"
          ]
        }
      ]
    },
    {
      "cell_type": "markdown",
      "source": [
        "# RANSAC"
      ],
      "metadata": {
        "id": "N26v4PypFe1x"
      }
    },
    {
      "cell_type": "markdown",
      "source": [
        "## RANSAC_sep_data"
      ],
      "metadata": {
        "id": "y8g1uHf2Fgn_"
      }
    },
    {
      "cell_type": "code",
      "source": [
        "x = sep_data[['Scan_Height_mm', 'Scan_Height_Layers']]\n",
        "y = sep_data[['mm_per_Layer_Height']]\n",
        "\n",
        "#x = sep_data[['Scan_Height_mm', 'Scan_Height_Layers', 'Scan_Width_mm', 'Scan_Width_Layers', 'Scan_Depth_mm', 'Scan_Depth_Layers']]\n",
        "#y = sep_data[['mm_per_Layer_Height', 'mm_per_Layer_Width', 'mm_per_Layer_Depth']]"
      ],
      "metadata": {
        "id": "WgSxndUJxrxz"
      },
      "execution_count": 171,
      "outputs": []
    },
    {
      "cell_type": "code",
      "source": [
        "# Splitting the dataset into the Training data set and Testing data set\n",
        "X_train, X_test, y_train, y_test = train_test_split(x, y, test_size= 0.1, random_state=42)"
      ],
      "metadata": {
        "id": "R0TK_UmSx_N7"
      },
      "execution_count": 172,
      "outputs": []
    },
    {
      "cell_type": "code",
      "source": [
        "# Initializing the model\n",
        "ransac = RANSACRegressor()\n",
        "\n",
        "# training the model\n",
        "ransac.fit(X_train, y_train)"
      ],
      "metadata": {
        "colab": {
          "base_uri": "https://localhost:8080/"
        },
        "id": "TyTleHVGyFZJ",
        "outputId": "317e4666-94df-40e1-959d-af5825ec9186"
      },
      "execution_count": 173,
      "outputs": [
        {
          "output_type": "execute_result",
          "data": {
            "text/plain": [
              "RANSACRegressor()"
            ]
          },
          "metadata": {},
          "execution_count": 173
        }
      ]
    },
    {
      "cell_type": "code",
      "source": [
        "# inlier mask\n",
        "inlier_mask = ransac.inlier_mask_\n",
        "\n",
        "print(inlier_mask)"
      ],
      "metadata": {
        "colab": {
          "base_uri": "https://localhost:8080/"
        },
        "id": "qyBZG7AEyIwS",
        "outputId": "24c78e39-c869-487f-fa46-0a46a99c0d69"
      },
      "execution_count": 174,
      "outputs": [
        {
          "output_type": "stream",
          "name": "stdout",
          "text": [
            "[ True  True  True  True  True  True  True  True False  True  True]\n"
          ]
        }
      ]
    },
    {
      "cell_type": "code",
      "source": [
        "# inliers\n",
        "inlier_mask = ransac.inlier_mask_\n",
        "\n",
        "# for loop to count\n",
        "count = 0\n",
        "for i in inlier_mask:\n",
        "    if i==False:\n",
        "        count +=1\n",
        "\n",
        "# printing\n",
        "print(\"Total datapoints were : \", len(inlier_mask))\n",
        "print(\"Total outliers detected  were : \", count)"
      ],
      "metadata": {
        "colab": {
          "base_uri": "https://localhost:8080/"
        },
        "id": "7Lp1Ol8CyMDZ",
        "outputId": "ef9583c2-b960-45f7-a131-2ef756a94da4"
      },
      "execution_count": 175,
      "outputs": [
        {
          "output_type": "stream",
          "name": "stdout",
          "text": [
            "Total datapoints were :  11\n",
            "Total outliers detected  were :  1\n"
          ]
        }
      ]
    },
    {
      "cell_type": "code",
      "source": [
        "# predicting\n",
        "predictions = ransac.predict(X_test)"
      ],
      "metadata": {
        "id": "YWpObEjmyTht"
      },
      "execution_count": 176,
      "outputs": []
    },
    {
      "cell_type": "code",
      "source": [
        "print(predictions)"
      ],
      "metadata": {
        "colab": {
          "base_uri": "https://localhost:8080/"
        },
        "id": "zy2HmrXyHQAt",
        "outputId": "b8ee8ff1-974b-4948-f4f2-4e6016146c48"
      },
      "execution_count": 185,
      "outputs": [
        {
          "output_type": "stream",
          "name": "stdout",
          "text": [
            "[0.06270845 0.06656148 0.12757472 0.05526012]\n"
          ]
        }
      ]
    },
    {
      "cell_type": "code",
      "source": [
        "print(y_test)"
      ],
      "metadata": {
        "colab": {
          "base_uri": "https://localhost:8080/"
        },
        "id": "Z7ih1zn_HSbQ",
        "outputId": "1577801a-add5-45a8-c44e-0233177b14ae"
      },
      "execution_count": 186,
      "outputs": [
        {
          "output_type": "stream",
          "name": "stdout",
          "text": [
            "33    0.062229\n",
            "36    0.067105\n",
            "4     0.604348\n",
            "13    0.054937\n",
            "Name: mm_per_Layer, dtype: float64\n"
          ]
        }
      ]
    },
    {
      "cell_type": "code",
      "source": [
        "#Model Evaluation\n",
        "meanAbErr = metrics.mean_absolute_error(y_test, predictions)\n",
        "meanSqErr = metrics.mean_squared_error(y_test, predictions)\n",
        "rootMeanSqErr = np.sqrt(metrics.mean_squared_error(y_test, predictions))\n",
        "print('R squared: {:.2f}'.format(ransac.score(x,y)*100))\n",
        "print('Mean Absolute Error:', meanAbErr)\n",
        "print('Mean Square Error:', meanSqErr)\n",
        "print('Root Mean Square Error:', rootMeanSqErr)"
      ],
      "metadata": {
        "colab": {
          "base_uri": "https://localhost:8080/"
        },
        "id": "1gcJ6MGWGix5",
        "outputId": "79816279-7de6-4a78-9622-4de2b92b1503"
      },
      "execution_count": 177,
      "outputs": [
        {
          "output_type": "stream",
          "name": "stdout",
          "text": [
            "R squared: 78.85\n",
            "Mean Absolute Error: 0.088124852035214\n",
            "Mean Square Error: 0.0109063180576933\n",
            "Root Mean Square Error: 0.10443331871435141\n"
          ]
        }
      ]
    },
    {
      "cell_type": "markdown",
      "source": [
        "## RANSAC_full_data"
      ],
      "metadata": {
        "id": "3AjaHdV2Fjs5"
      }
    },
    {
      "cell_type": "code",
      "source": [
        "#Setting the value for X and Y\n",
        "x = full_data[['Scan_Length_mm', 'Scan_Layers']]\n",
        "y = full_data['mm_per_Layer']"
      ],
      "metadata": {
        "id": "1X6F0O6wG_L1"
      },
      "execution_count": 187,
      "outputs": []
    },
    {
      "cell_type": "code",
      "source": [
        "# Splitting the dataset into the Training data set and Testing data set\n",
        "X_train, X_test, y_train, y_test = train_test_split(x, y, test_size= 0.1, random_state=42)"
      ],
      "metadata": {
        "id": "pmbNqZiXG_L1"
      },
      "execution_count": 188,
      "outputs": []
    },
    {
      "cell_type": "code",
      "source": [
        "# Initializing the model\n",
        "ransac = RANSACRegressor()\n",
        "\n",
        "# training the model\n",
        "ransac.fit(X_train, y_train)"
      ],
      "metadata": {
        "colab": {
          "base_uri": "https://localhost:8080/"
        },
        "outputId": "bc0262a9-9ccc-4a60-df2b-c89b5485ce6e",
        "id": "6DGQQxAPG_L2"
      },
      "execution_count": 189,
      "outputs": [
        {
          "output_type": "execute_result",
          "data": {
            "text/plain": [
              "RANSACRegressor()"
            ]
          },
          "metadata": {},
          "execution_count": 189
        }
      ]
    },
    {
      "cell_type": "code",
      "source": [
        "# inlier mask\n",
        "inlier_mask = ransac.inlier_mask_\n",
        "\n",
        "print(inlier_mask)"
      ],
      "metadata": {
        "colab": {
          "base_uri": "https://localhost:8080/"
        },
        "outputId": "69d622fa-a609-41e7-a449-62f3856383b8",
        "id": "MCtxUWd9G_L3"
      },
      "execution_count": 190,
      "outputs": [
        {
          "output_type": "stream",
          "name": "stdout",
          "text": [
            "[ True  True False  True  True  True  True False  True False  True False\n",
            "  True False  True False False False  True  True False  True  True False\n",
            "  True  True  True False  True  True  True False  True  True  True]\n"
          ]
        }
      ]
    },
    {
      "cell_type": "code",
      "source": [
        "# inliers\n",
        "inlier_mask = ransac.inlier_mask_\n",
        "\n",
        "# for loop to count\n",
        "count = 0\n",
        "for i in inlier_mask:\n",
        "    if i==False:\n",
        "        count +=1\n",
        "\n",
        "# printing\n",
        "print(\"Total datapoints were : \", len(inlier_mask))\n",
        "print(\"Total outliers detected  were : \", count)"
      ],
      "metadata": {
        "colab": {
          "base_uri": "https://localhost:8080/"
        },
        "outputId": "aa9b0fe7-e440-4889-d193-d662aebcbe63",
        "id": "uzLdfiMoG_L4"
      },
      "execution_count": 191,
      "outputs": [
        {
          "output_type": "stream",
          "name": "stdout",
          "text": [
            "Total datapoints were :  35\n",
            "Total outliers detected  were :  12\n"
          ]
        }
      ]
    },
    {
      "cell_type": "code",
      "source": [
        "# predicting\n",
        "predictions = ransac.predict(X_test)"
      ],
      "metadata": {
        "id": "10wYY8OJG_L5"
      },
      "execution_count": 192,
      "outputs": []
    },
    {
      "cell_type": "code",
      "source": [
        "print(predictions)"
      ],
      "metadata": {
        "colab": {
          "base_uri": "https://localhost:8080/"
        },
        "id": "QtdMli2PHbuB",
        "outputId": "b335733a-b903-4212-98f0-e5628f7cb051"
      },
      "execution_count": 193,
      "outputs": [
        {
          "output_type": "stream",
          "name": "stdout",
          "text": [
            "[0.06270845 0.06656148 0.12757472 0.05526012]\n"
          ]
        }
      ]
    },
    {
      "cell_type": "code",
      "source": [
        "print(y_test)"
      ],
      "metadata": {
        "colab": {
          "base_uri": "https://localhost:8080/"
        },
        "id": "fh_acEgNHeJi",
        "outputId": "49064c7e-a5aa-47f0-9c9c-2357c6b21e34"
      },
      "execution_count": 194,
      "outputs": [
        {
          "output_type": "stream",
          "name": "stdout",
          "text": [
            "33    0.062229\n",
            "36    0.067105\n",
            "4     0.604348\n",
            "13    0.054937\n",
            "Name: mm_per_Layer, dtype: float64\n"
          ]
        }
      ]
    },
    {
      "cell_type": "code",
      "source": [
        "#Model Evaluation\n",
        "meanAbErr = metrics.mean_absolute_error(y_test, predictions)\n",
        "meanSqErr = metrics.mean_squared_error(y_test, predictions)\n",
        "rootMeanSqErr = np.sqrt(metrics.mean_squared_error(y_test, predictions))\n",
        "print('R squared: {:.2f}'.format(ransac.score(x,y)*100))\n",
        "print('Mean Absolute Error:', meanAbErr)\n",
        "print('Mean Square Error:', meanSqErr)\n",
        "print('Root Mean Square Error:', rootMeanSqErr)"
      ],
      "metadata": {
        "colab": {
          "base_uri": "https://localhost:8080/"
        },
        "outputId": "cca19248-d836-4298-9736-c21bd6ffc64a",
        "id": "nnclBHPiG_L5"
      },
      "execution_count": 195,
      "outputs": [
        {
          "output_type": "stream",
          "name": "stdout",
          "text": [
            "R squared: -16.22\n",
            "Mean Absolute Error: 0.11952991269433706\n",
            "Mean Square Error: 0.0568283058105203\n",
            "Root Mean Square Error: 0.2383868826309877\n"
          ]
        }
      ]
    }
  ]
}
